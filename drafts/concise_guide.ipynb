{
 "cells": [
  {
   "cell_type": "markdown",
   "metadata": {},
   "source": [
    "# Creating FastHTML apps\n",
    "\n",
    "> An opinionated concise guide with MonsterUI and Fastlite\n",
    "\n",
    "- order: 3"
   ]
  },
  {
   "cell_type": "code",
   "execution_count": null,
   "metadata": {},
   "outputs": [],
   "source": [
    "from fasthtml.common import *"
   ]
  },
  {
   "cell_type": "markdown",
   "metadata": {},
   "source": [
    "## A Minimal Application"
   ]
  },
  {
   "cell_type": "markdown",
   "metadata": {},
   "source": [
    "A minimal FastHTML application looks something like this:\n",
    "\n",
    "```python\n",
    "# This is a meta-package which includes all of the key symbols from FastHTML and Starlette \n",
    "from fasthtml.common import *\n",
    "# This returns the FastHTML application object as well as a shortcut to `app.route`\n",
    "app,rt = fast_app()\n",
    "# Passing a path to `rt` is optional. If not passed, the function name is the route ('/foo') here.\n",
    "# By default, both GET and POST HTTP methods are handled.\n",
    "# Type annotated params are passed as query params unless a path param is defined (which it isn't here)\n",
    "@rt\n",
    "def foo(name:str):\n",
    "    # `Title` and `P` here are \"fasttags\". Fasttags are direct m-expression mappings of HTML tags to Python functions with positional and named parameters. All standard HTML tags are included in the common wildcard import.\n",
    "    # When a tuple is returned, this returns concatenated HTML partials. HTMX by default will use a title HTML partial to set the current page name. \n",
    "    # FastHTML will automatically return a complete HTML document with appropriate headers if a normal HTTP request is received. For an HTMX request, however, just the partials are returned.\n",
    "    return Title(\"FastHTML\"), H1(\"My web app\"), P(f\"Let's do this, {name}!\")\n",
    "# By default with `serve` uvicorn hosts on port 5001. `if __name__` etc is *not* needed since `serve` has this check internally.\n",
    "serve()\n",
    "```\n",
    "\n",
    "To run this web app:\n",
    "\n",
    "```bash\n",
    "python main.py  # access via localhost:5001\n",
    "```"
   ]
  },
  {
   "cell_type": "markdown",
   "metadata": {},
   "source": [
    "fasttags can be considered as m-expressions, with some simple sugar added. Positional parameters map to children, and named parameters map to attributes. Aliases must be used for Python reserved words. "
   ]
  },
  {
   "cell_type": "code",
   "execution_count": null,
   "metadata": {},
   "outputs": [
    {
     "data": {
      "text/plain": [
       "(title(('FastHTML',),{}),\n",
       " h1(('My web app',),{}),\n",
       " p((\"Let's do this!\",),{'class': 'myclass'}))"
      ]
     },
     "execution_count": null,
     "metadata": {},
     "output_type": "execute_result"
    }
   ],
   "source": [
    "tags = Title(\"FastHTML\"), H1(\"My web app\"), P(f\"Let's do this!\", cls=\"myclass\")\n",
    "tags"
   ]
  },
  {
   "cell_type": "markdown",
   "metadata": {},
   "source": [
    "This example demonstrates key aspects of how FastHTML components handle attributes:\n",
    "\n",
    "```python\n",
    "Label(\n",
    "    \"Choose an option\", \n",
    "    Select(\n",
    "        Option(\"one\", value=\"1\", selected=True),  # True renders just the attribute name\n",
    "        Option(\"two\", value=2, selected=False),   # Non-string values are converted to strings. False omits the attribute entirely\n",
    "        cls=\"selector\", id=\"counter\",             # 'cls' becomes 'class'\n",
    "        **{'@click':\"alert('Clicked');\"},         # Dict unpacking for attributes with special characters\n",
    "    ),\n",
    "    _for=\"counter\",                               # '_for' becomes 'for' (can also use 'fr')\n",
    ")\n",
    "```"
   ]
  },
  {
   "cell_type": "markdown",
   "metadata": {},
   "source": [
    "You can create new FT components by importing the new component from `fasthtml.components`. If the component doesn't exist within that module, FastHTML will create it."
   ]
  },
  {
   "cell_type": "code",
   "execution_count": null,
   "metadata": {},
   "outputs": [
    {
     "data": {
      "text/markdown": [
       "```html\n",
       "<some-never-before-used-tag></some-never-before-used-tag>\n",
       "```"
      ],
      "text/plain": [
       "some-never-before-used-tag((),{})"
      ]
     },
     "execution_count": null,
     "metadata": {},
     "output_type": "execute_result"
    }
   ],
   "source": [
    "from fasthtml.components import Some_never_before_used_tag\n",
    "\n",
    "Some_never_before_used_tag()"
   ]
  },
  {
   "cell_type": "markdown",
   "metadata": {},
   "source": [
    "When creating a response,  FastHTML will automatically render tags using the `to_xml` function."
   ]
  },
  {
   "cell_type": "code",
   "execution_count": null,
   "metadata": {},
   "outputs": [
    {
     "data": {
      "text/plain": [
       "'<title>FastHTML</title>\\n<h1>My web app</h1>\\n<p class=\"myclass\">Let&#x27;s do this!</p>\\n'"
      ]
     },
     "execution_count": null,
     "metadata": {},
     "output_type": "execute_result"
    }
   ],
   "source": [
    "to_xml(tags)"
   ]
  },
  {
   "cell_type": "markdown",
   "metadata": {},
   "source": [
    "The `Script` function allows you to include JavaScript. You can use Python to generate parts of your JS or JSON like this:\n",
    "\n",
    "```python\n",
    "# In future snippets this import will not be shown, but is required\n",
    "from fasthtml.common import * \n",
    "app,rt = fast_app(hdrs=[Script(src=\"https://cdn.plot.ly/plotly-2.32.0.min.js\")])\n",
    "# `index` is a special function name which maps to the `/` route. \n",
    "@rt\n",
    "def index():\n",
    "    data = {'somedata':'fill me in…'}\n",
    "    # `Titled` is a function which returns a title tag and an h1 tag with the 1st param, along with all other params as HTML in a `Main` parent element\n",
    "    return Titled(\"Chart Demo\", Div(id=\"myDiv\"), Script(f\"var data = {data}; Plotly.newPlot('myDiv', data);\"))\n",
    "# In future snippets `serve() will not be shown, but is required\n",
    "serve()\n",
    "```"
   ]
  },
  {
   "cell_type": "markdown",
   "metadata": {},
   "source": [
    "Route details can be specified as decorator parameters.\n",
    "\n",
    "```python\n",
    "# In future snippets we'll skip showing the `fast_app` call if it has no params\n",
    "app, rt = fast_app(\n",
    "    pico=False, # The Pico CSS framework is included by default, so pass `false` to disable it if needed.\n",
    "    # These are added to the `head` part of the page for non-HTMX requests.\n",
    "    hdrs=(\n",
    "        Link(rel='stylesheet', href='assets/normalize.min.css', type='text/css'),\n",
    "        Link(rel='stylesheet', href='assets/sakura.css', type='text/css'),\n",
    "        Style(\"p {color: red;}\",\n",
    "        # by default, all standard static extensions are served statically from the web app dir, which can be modified using `static_path`\n",
    "        static_path='public')\n",
    ")\n",
    "# Path parameter parsing is handled by Starlette, so all of the same functionality and syntax is supported.\n",
    "# However, it is more idiomatic to use query parameters in FastHTML where possible.\n",
    "@rt(\"/hello/{name}\", method=\"GET\")\n",
    "def somefunc(name:str): return Titled(f\"Hello, {name}!\")\n",
    "```"
   ]
  },
  {
   "cell_type": "markdown",
   "metadata": {},
   "source": [
    "Instead of returning a FastTag or tuple of FastTags, standard Starlette response types can also be returned in which case they are used directly in the same way that Starlette does. \n",
    "\n",
    "```python\n",
    "@rt(\"/{fname:path}.{ext:static}\")\n",
    "async def get(fname:str, ext:str):  return FileResponse(f'public/{fname}.{ext}')\n",
    "```"
   ]
  },
  {
   "cell_type": "markdown",
   "metadata": {},
   "source": [
    "```python\n",
    "# `MarkdownJS` and `HighlightJS` are available via concise functions\n",
    "hdrs = (MarkdownJS(), HighlightJS(langs=['python', 'javascript', 'html', 'css']), )\n",
    "app, rt = fast_app(hdrs=hdrs)\n",
    "@rt\n",
    "def index(req): return Titled(\"Markdown rendering example\",\n",
    "                              # This will be markdown rendered to HTML\n",
    "                              Div(\"*hi* there\",cls=\"marked\"),\n",
    "                              # This will be syntax highlighted\n",
    "                              Pre(Code(\"def foo(): pass\")))\n",
    "serve()\n",
    "```"
   ]
  },
  {
   "cell_type": "markdown",
   "metadata": {},
   "source": [
    "Returning a JSON serializable dict from a handler will cause the handler to return JSON. "
   ]
  },
  {
   "cell_type": "markdown",
   "metadata": {},
   "source": [
    "`ft` components (\"fasttags\") can be combined by defining them as a function."
   ]
  },
  {
   "cell_type": "code",
   "execution_count": null,
   "metadata": {},
   "outputs": [
    {
     "data": {
      "text/plain": [
       "'<div class=\"hero\">\\n  <h1>Hello World</h1>\\n  <p>This is a hero statement</p>\\n</div>\\n'"
      ]
     },
     "execution_count": null,
     "metadata": {},
     "output_type": "execute_result"
    }
   ],
   "source": [
    "def Hero(title, statement): return Div(H1(title),P(statement), cls=\"hero\")\n",
    "to_xml(Hero(\"Hello World\", \"This is a hero statement\"))"
   ]
  },
  {
   "cell_type": "markdown",
   "metadata": {},
   "source": [
    "Classes with `__ft__` defined are rendered using that method."
   ]
  },
  {
   "cell_type": "code",
   "execution_count": null,
   "metadata": {},
   "outputs": [
    {
     "data": {
      "text/plain": [
       "'<p>test</p>\\n'"
      ]
     },
     "execution_count": null,
     "metadata": {},
     "output_type": "execute_result"
    }
   ],
   "source": [
    "from dataclasses import dataclass\n",
    "\n",
    "class FtTest:\n",
    "    def __ft__(self): return P('test')\n",
    "    \n",
    "to_xml(FtTest())"
   ]
  },
  {
   "cell_type": "code",
   "execution_count": null,
   "metadata": {},
   "outputs": [],
   "source": [
    "from dataclasses import dataclass"
   ]
  },
  {
   "cell_type": "code",
   "execution_count": null,
   "metadata": {},
   "outputs": [],
   "source": [
    "app,rt = fast_app()"
   ]
  },
  {
   "cell_type": "markdown",
   "metadata": {},
   "source": [
    "When a route handler function is used as a fasttag attribute (such as `href`, `hx_get`, or `action`) it is converted to that route's path. `fill_form` is used to copy an object's matching attrs into matching-name form fields."
   ]
  },
  {
   "cell_type": "code",
   "execution_count": null,
   "metadata": {},
   "outputs": [],
   "source": [
    "@dataclass\n",
    "class Profile: email:str; phone:str; age:int\n",
    "email = 'john@example.com'\n",
    "profiles = {email: Profile(email=email, phone='123456789', age=5)}\n",
    "@rt\n",
    "def profile(email:str): return fill_form(profile_form, profiles[email])\n",
    "\n",
    "profile_form = Form(method=\"post\", action=profile)(\n",
    "        Fieldset(\n",
    "            Label('Email', Input(name=\"email\")),\n",
    "            Label(\"Phone\", Input(name=\"phone\")),\n",
    "            Label(\"Age\", Input(name=\"age\"))),\n",
    "        Button(\"Save\", type=\"submit\"))"
   ]
  },
  {
   "cell_type": "markdown",
   "metadata": {},
   "source": [
    "A `to` method is added to route functions, which returns a route path with params as query params."
   ]
  },
  {
   "cell_type": "code",
   "execution_count": null,
   "metadata": {},
   "outputs": [
    {
     "data": {
      "text/plain": [
       "'/profile?email=john%40example.com'"
      ]
     },
     "execution_count": null,
     "metadata": {},
     "output_type": "execute_result"
    }
   ],
   "source": [
    "path = profile.to(email=\"john@example.com\")\n",
    "path"
   ]
  },
  {
   "cell_type": "markdown",
   "metadata": {},
   "source": [
    "The `url_for` method of the request object can be used to generate URLs for named routes. It takes the route name as its first argument, followed by any path parameters needed for that route. Useful for generating absolute URLs, ensuring that the correct host and scheme are included, even if the application is accessed through different domains or protocols."
   ]
  },
  {
   "cell_type": "markdown",
   "metadata": {},
   "source": [
    "The `url_path_for` method of the application can be used to generate URL paths for named routes. Unlike `url_for`, it returns only the path component of the URL, without the scheme or host."
   ]
  },
  {
   "cell_type": "markdown",
   "metadata": {},
   "source": [
    "We can use `TestClient` for testing."
   ]
  },
  {
   "cell_type": "code",
   "execution_count": null,
   "metadata": {},
   "outputs": [],
   "source": [
    "from starlette.testclient import TestClient"
   ]
  },
  {
   "cell_type": "code",
   "execution_count": null,
   "metadata": {},
   "outputs": [
    {
     "name": "stdout",
     "output_type": "stream",
     "text": [
      "<form enctype=\"multipart/form-data\" method=\"post\" action=\"/profile\"><fieldset><label>Email       <input name=\"email\" value=\"john@example.com\">\n",
      "</label><label>Phone       <input name=\"phone\" value=\"123456789\">\n",
      "</label><label>Age       <input name=\"age\" value=\"5\">\n",
      "</label></fieldset><button type=\"submit\">Save</button></form>\n"
     ]
    }
   ],
   "source": [
    "client = TestClient(app)\n",
    "htmx_req = {'HX-Request':'1'}\n",
    "print(client.get(path, headers=htmx_req).text)"
   ]
  },
  {
   "cell_type": "markdown",
   "metadata": {},
   "source": [
    "When a dataclass, namedtuple, etc. is used as a type annotation, the form body will be unpacked into matching attribute names automatically. "
   ]
  },
  {
   "cell_type": "code",
   "execution_count": null,
   "metadata": {},
   "outputs": [
    {
     "name": "stdout",
     "output_type": "stream",
     "text": [
      "<form enctype=\"multipart/form-data\" method=\"post\" action=\"/profile\"><fieldset><label>Email       <input name=\"email\" value=\"john@example.com\">\n",
      "</label><label>Phone       <input name=\"phone\" value=\"7654321\">\n",
      "</label><label>Age       <input name=\"age\" value=\"25\">\n",
      "</label></fieldset><button type=\"submit\">Save</button></form>\n"
     ]
    }
   ],
   "source": [
    "@rt\n",
    "def edit_profile(profile: Profile):\n",
    "    profiles[email]=profile\n",
    "    return RedirectResponse(url=path)\n",
    "\n",
    "new_data = dict(email='john@example.com', phone='7654321', age=25)\n",
    "print(client.post(\"/edit_profile\", data=new_data, headers=htmx_req).text)"
   ]
  },
  {
   "cell_type": "markdown",
   "metadata": {},
   "source": [
    "The general rules for rendering are: \n",
    "- `__ft__` method will be called (for default components like `P`, `H2`, etc. or if you define your own components)\n",
    "- If you pass a string, it will be escaped\n",
    "- On other python objects, `str()` will be called\n",
    "\n",
    "As a consequence, if you want to include plain HTML tags directly into e.g. a `Div()` they will get escaped by default (as a security measure to avoid code injections). This can be avoided by using `Safe(...)`, e.g to show a data frame use `Div(NotStr(df.to_html()))`."
   ]
  },
  {
   "cell_type": "markdown",
   "metadata": {},
   "source": [
    "FastHTML allows customization of exception handlers.\n",
    "\n",
    "```python\n",
    "def not_found(req, exc): return Titled(\"404: I don't exist!\")\n",
    "exception_handlers = {404: not_found}\n",
    "app, rt = fast_app(exception_handlers=exception_handlers)\n",
    "```"
   ]
  },
  {
   "cell_type": "markdown",
   "metadata": {},
   "source": [
    "We can set cookies using the `cookie()` function."
   ]
  },
  {
   "cell_type": "code",
   "execution_count": null,
   "metadata": {},
   "outputs": [
    {
     "name": "stdout",
     "output_type": "stream",
     "text": [
      " <p>Setting a cookie</p>\n",
      "\n"
     ]
    }
   ],
   "source": [
    "@rt\n",
    "def setcook(): return P(f'Setting a cookie'), cookie('mycookie', 'foobar')\n",
    "print(client.get('/setcook', headers=htmx_req).text)"
   ]
  },
  {
   "cell_type": "code",
   "execution_count": null,
   "metadata": {},
   "outputs": [
    {
     "name": "stdout",
     "output_type": "stream",
     "text": [
      "Cookie was foobar\n"
     ]
    }
   ],
   "source": [
    "@rt\n",
    "def getcook(mycookie:str): return f'Cookie was {mycookie}'\n",
    "# Note that if handlers return text, instead of fasttags, then a plain text response is automatically created\n",
    "print(client.get('/getcook').text)"
   ]
  },
  {
   "cell_type": "markdown",
   "metadata": {},
   "source": [
    "FastHTML provide access to Starlette's request object automatically using special `request` parameter name (or any prefix of that name)."
   ]
  },
  {
   "cell_type": "code",
   "execution_count": null,
   "metadata": {},
   "outputs": [],
   "source": [
    "@rt\n",
    "def headers(req): return req.headers['host']"
   ]
  },
  {
   "cell_type": "markdown",
   "metadata": {},
   "source": [
    "FastHTML provides access to Starlette's session middleware automatically using the special `session` parameter name (or any prefix of that name).\n",
    "\n",
    "Enums can be used to constrain the values accepted for a route parameter."
   ]
  },
  {
   "cell_type": "code",
   "execution_count": null,
   "metadata": {},
   "outputs": [],
   "source": [
    "names = str_enum('names', 'Alice', 'Bev', 'Charlie')"
   ]
  },
  {
   "cell_type": "code",
   "execution_count": null,
   "metadata": {},
   "outputs": [],
   "source": [
    "@rt\n",
    "def adder(sess, nm: names):\n",
    "    sess.setdefault('attendees', '')\n",
    "    sess['attendees'] = sess.get('attendees') + f', {nm}'\n",
    "    return Response(f'The attentees are {sess[\"attendees\"]}.')"
   ]
  },
  {
   "cell_type": "markdown",
   "metadata": {},
   "source": [
    "Handler functions can return the `HtmxResponseHeaders` object to set HTMX-specific response headers."
   ]
  },
  {
   "cell_type": "code",
   "execution_count": null,
   "metadata": {},
   "outputs": [],
   "source": [
    "@rt\n",
    "def htmlredirect(app): return HtmxResponseHeaders(location=\"http://example.org\")"
   ]
  },
  {
   "cell_type": "markdown",
   "metadata": {},
   "source": [
    "`APIRouter` lets you organize routes across multiple files in a FastHTML app, with an optional `prefix` parameter that prepends to all routes in that router (e.g., `prefix=/products` makes all routes start with `/products`)."
   ]
  },
  {
   "cell_type": "markdown",
   "metadata": {},
   "source": [
    "```python\n",
    "# products.py\n",
    "ar = APIRouter(prefix=\"/products\")\n",
    "\n",
    "@ar(\"/all\")\n",
    "def all_products(req):\n",
    "    return Div(\n",
    "        \"Welcome to the Products Page! Click the button below to look at the details for product 42\",\n",
    "        Div(\n",
    "            Button(\"Details\",hx_get=req.url_for(\"details\", pid=42),hx_target=\"#products_list\",hx_swap=\"outerHTML\",),\n",
    "        ),\n",
    "        id=\"products_list\",\n",
    "    )\n",
    "\n",
    "@ar.get(\"/\", name=\"details\")\n",
    "def details(pid: int): return f\"Here are the product details for ID: {pid}\"\n",
    "```"
   ]
  },
  {
   "cell_type": "markdown",
   "metadata": {},
   "source": [
    "Adding the products' `APIRouter` to the `app`:"
   ]
  },
  {
   "cell_type": "markdown",
   "metadata": {},
   "source": [
    "```python\n",
    "# main.py\n",
    "from products import ar\n",
    "\n",
    "app, rt = fast_app()\n",
    "ar.to_app(app)\n",
    "\n",
    "@rt\n",
    "def index():\n",
    "    return Div(\n",
    "        \"Products\",\n",
    "        hx_get=ar.rt_funcs.all_products,\n",
    "        hx_swap=\"outerHTML\",\n",
    "    )\n",
    "```"
   ]
  },
  {
   "cell_type": "markdown",
   "metadata": {},
   "source": [
    "Toasts can be of four types:\n",
    "\n",
    "- info\n",
    "- success\n",
    "- warning\n",
    "- error\n",
    "\n",
    "Toasts require the use of the `setup_toasts()` function, plus every handler needs:\n",
    "\n",
    "- The session argument\n",
    "- Must return FT components\n",
    "\n",
    "```python\n",
    "setup_toasts(app)\n",
    "\n",
    "@rt\n",
    "def toasting(session):\n",
    "    add_toast(session, f\"cooked\", \"info\")\n",
    "    add_toast(session, f\"ready\", \"success\")\n",
    "    return Titled(\"toaster\")\n",
    "```\n",
    "\n",
    "`setup_toasts(duration)` allows you to specify how long a toast will be visible before disappearing.10 seconds."
   ]
  },
  {
   "cell_type": "markdown",
   "metadata": {},
   "source": [
    "Authentication and authorization are handled with Beforeware, which functions that run before the route handler is called."
   ]
  },
  {
   "cell_type": "code",
   "execution_count": null,
   "metadata": {},
   "outputs": [],
   "source": [
    "def user_auth_before(req, sess):\n",
    "    # `auth` key in the request scope is automatically provided to any handler which requests it and can not be injected\n",
    "    auth = req.scope['auth'] = sess.get('auth', None)\n",
    "    if not auth: return RedirectResponse('/login', status_code=303)\n",
    "\n",
    "beforeware = Beforeware(\n",
    "    user_auth_before,\n",
    "    skip=[r'/favicon\\.ico', r'/static/.*', r'.*\\.css', r'.*\\.js', '/login', '/']\n",
    ")\n",
    "\n",
    "app, rt = fast_app(before=beforeware)"
   ]
  },
  {
   "cell_type": "markdown",
   "metadata": {},
   "source": [
    "FastHTML introduces several tools for working with SSE which are covered in the example below. While concise, there's a lot going on in this function so we've annotated it quite a bit."
   ]
  },
  {
   "cell_type": "code",
   "execution_count": null,
   "metadata": {},
   "outputs": [],
   "source": [
    "import random"
   ]
  },
  {
   "cell_type": "markdown",
   "metadata": {},
   "source": [
    "FastHTML supports the HTMX SSE extension."
   ]
  },
  {
   "cell_type": "code",
   "execution_count": null,
   "metadata": {},
   "outputs": [],
   "source": [
    "hdrs=(Script(src=\"https://unpkg.com/htmx-ext-sse@2.2.1/sse.js\"),)\n",
    "app,rt = fast_app(hdrs=hdrs)\n",
    "\n",
    "@rt\n",
    "def index(): return Div(hx_ext=\"sse\", sse_connect=\"/numstream\", hx_swap=\"beforeend show:bottom\", sse_swap=\"message\")\n",
    "\n",
    "# `signal_shutdown()` gets an event that is set on shutdown\n",
    "shutdown_event = signal_shutdown()\n",
    "\n",
    "async def number_generator():\n",
    "    while not shutdown_event.is_set():\n",
    "        data = Article(random.randint(1, 100))\n",
    "        yield sse_message(data)\n",
    "\n",
    "@rt\n",
    "async def numstream(): return EventStream(number_generator())"
   ]
  },
  {
   "cell_type": "markdown",
   "metadata": {},
   "source": [
    "FastHTML provides useful tools for HTMX's websockets extension."
   ]
  },
  {
   "cell_type": "code",
   "execution_count": null,
   "metadata": {},
   "outputs": [],
   "source": [
    "app, rt = fast_app(exts='ws')\n",
    "\n",
    "def mk_inp(): return Input(id='msg', autofocus=True)\n",
    "\n",
    "@rt\n",
    "async def index(request):\n",
    "    # `ws_send` tells HTMX to send a message to the nearest websocket based on the trigger for the form element\n",
    "    cts = Div(\n",
    "        Div(id='notifications'),\n",
    "        Form(mk_inp(), id='form', ws_send=True),\n",
    "        hx_ext='ws', ws_connect='/ws')\n",
    "    return Titled('Websocket Test', cts)\n",
    "\n",
    "async def on_connect(send): await send(Div('Hello, you have connected', id=\"notifications\"))\n",
    "async def on_disconnect(ws): print('Disconnected!')\n",
    "\n",
    "@app.ws('/ws', conn=on_connect, disconn=on_disconnect)\n",
    "async def ws(msg:str, send):\n",
    "    # websocket hander returns/sends are treated as OOB swaps\n",
    "    await send(Div('Hello ' + msg, id=\"notifications\"))\n",
    "    return Div('Goodbye ' + msg, id=\"notifications\"), mk_inp()"
   ]
  },
  {
   "cell_type": "markdown",
   "metadata": {},
   "source": [
    "### Single File Uploads"
   ]
  },
  {
   "cell_type": "markdown",
   "metadata": {},
   "source": [
    "`Form` defaults to \"multipart/form-data\". A Starlette UploadFile is passed to the handler."
   ]
  },
  {
   "cell_type": "markdown",
   "metadata": {},
   "source": [
    "```python\n",
    "upload_dir = Path(\"filez\")\n",
    "\n",
    "@rt\n",
    "def index():\n",
    "    return (\n",
    "        Form(hx_post=upload, hx_target=\"#result\")(\n",
    "            Input(type=\"file\", name=\"file\"),\n",
    "            Button(\"Upload\", type=\"submit\")),\n",
    "        Div(id=\"result\")\n",
    "    )\n",
    "\n",
    "@rt\n",
    "async def upload(file: UploadFile):\n",
    "    filebuffer = await file.read()\n",
    "    (upload_dir / file.filename).write_bytes(filebuffer)\n",
    "    return P('Size: ', file.size)\n",
    "```"
   ]
  },
  {
   "cell_type": "markdown",
   "metadata": {},
   "source": [
    "For multi-file, use `Input(..., multiple=True)`, and a type annotation of `list[UploadFile]` in the handler. "
   ]
  }
 ],
 "metadata": {
  "kernelspec": {
   "display_name": "python3",
   "language": "python",
   "name": "python3"
  }
 },
 "nbformat": 4,
 "nbformat_minor": 4
}
