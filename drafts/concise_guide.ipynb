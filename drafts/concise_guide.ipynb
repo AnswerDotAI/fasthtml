{
 "cells": [
  {
   "cell_type": "markdown",
   "metadata": {},
   "source": [
    "# Creating FastHTML apps\n",
    "\n",
    "> An opinionated concise guide with MonsterUI and Fastlite\n",
    "\n",
    "- order: 3"
   ]
  },
  {
   "cell_type": "code",
   "execution_count": null,
   "metadata": {},
   "outputs": [],
   "source": [
    "from fasthtml.common import *"
   ]
  },
  {
   "cell_type": "markdown",
   "metadata": {},
   "source": [
    "## A Minimal Application"
   ]
  },
  {
   "cell_type": "markdown",
   "metadata": {},
   "source": [
    "A minimal FastHTML application looks something like this:\n",
    "\n",
    "```python\n",
    "# This is a meta-package which includes all of the key symbols from FastHTML and Starlette \n",
    "from fasthtml.common import *\n",
    "# This returns the FastHTML application object as well as a shortcut to `app.route`\n",
    "app,rt = fast_app()\n",
    "# Passing a path to `rt` is optional. If not passed, the function name is the route ('/foo') here.\n",
    "# By default, both GET and POST HTTP methods are handled.\n",
    "# Type annotated params are passed as query params unless a path param is defined (which it isn't here)\n",
    "@rt\n",
    "def foo(name:str):\n",
    "    # `Title` and `P` here are \"fasttags\". Fasttags are direct m-expression mappings of HTML tags to Python functions with positional and named parameters. All standard HTML tags are included in the common wildcard import.\n",
    "    # When a tuple is returned, this returns concatenated HTML partials. HTMX by default will use a title HTML partial to set the current page name. \n",
    "    # FastHTML will automatically return a complete HTML document with appropriate headers if a normal HTTP request is received. For an HTMX request, however, just the partials are returned.\n",
    "    return Title(\"FastHTML\"), H1(\"My web app\"), P(f\"Let's do this, {name}!\")\n",
    "# By default with `serve` uvicorn hosts on port 5001. `if __name__` etc is *not* needed since `serve` has this check internally.\n",
    "serve()\n",
    "```\n",
    "\n",
    "To run this web app:\n",
    "\n",
    "```bash\n",
    "python main.py  # access via localhost:5001\n",
    "```"
   ]
  },
  {
   "cell_type": "markdown",
   "metadata": {},
   "source": [
    "fasttags can be considered as m-expressions, with some simple sugar added. Positional parameters map to children, and named parameters map to attributes. Aliases must be used for Python reserved words. "
   ]
  },
  {
   "cell_type": "code",
   "execution_count": null,
   "metadata": {},
   "outputs": [
    {
     "data": {
      "text/plain": [
       "(title(('FastHTML',),{}),\n",
       " h1(('My web app',),{}),\n",
       " p((\"Let's do this!\",),{'class': 'myclass'}))"
      ]
     },
     "execution_count": null,
     "metadata": {},
     "output_type": "execute_result"
    }
   ],
   "source": [
    "tags = Title(\"FastHTML\"), H1(\"My web app\"), P(f\"Let's do this!\", cls=\"myclass\")\n",
    "tags"
   ]
  },
  {
   "cell_type": "markdown",
   "metadata": {},
   "source": [
    "This example demonstrates key aspects of how FastHTML components handle attributes:\n",
    "\n",
    "```python\n",
    "Label(\n",
    "    \"Choose an option\", \n",
    "    Select(\n",
    "        Option(\"one\", value=\"1\", selected=True),  # True renders just the attribute name\n",
    "        Option(\"two\", value=2, selected=False),   # Non-string values are converted to strings. False omits the attribute entirely\n",
    "        cls=\"selector\", id=\"counter\",             # 'cls' becomes 'class'\n",
    "        **{'@click':\"alert('Clicked');\"},         # Dict unpacking for attributes with special characters\n",
    "    ),\n",
    "    _for=\"counter\",                               # '_for' becomes 'for' (can also use 'fr')\n",
    ")\n",
    "```"
   ]
  },
  {
   "cell_type": "markdown",
   "metadata": {},
   "source": [
    "You can create new FT components by importing the new component from `fasthtml.components`. If the component doesn't exist within that module, FastHTML will create it."
   ]
  },
  {
   "cell_type": "code",
   "execution_count": null,
   "metadata": {},
   "outputs": [
    {
     "data": {
      "text/markdown": [
       "```html\n",
       "<some-never-before-used-tag></some-never-before-used-tag>\n",
       "```"
      ],
      "text/plain": [
       "some-never-before-used-tag((),{})"
      ]
     },
     "execution_count": null,
     "metadata": {},
     "output_type": "execute_result"
    }
   ],
   "source": [
    "from fasthtml.components import Some_never_before_used_tag\n",
    "\n",
    "Some_never_before_used_tag()"
   ]
  },
  {
   "cell_type": "markdown",
   "metadata": {},
   "source": [
    "When creating a response,  FastHTML will automatically render tags using the `to_xml` function."
   ]
  },
  {
   "cell_type": "code",
   "execution_count": null,
   "metadata": {},
   "outputs": [
    {
     "data": {
      "text/plain": [
       "'<title>FastHTML</title>\\n<h1>My web app</h1>\\n<p class=\"myclass\">Let&#x27;s do this!</p>\\n'"
      ]
     },
     "execution_count": null,
     "metadata": {},
     "output_type": "execute_result"
    }
   ],
   "source": [
    "to_xml(tags)"
   ]
  },
  {
   "cell_type": "markdown",
   "metadata": {},
   "source": [
    "The `Script` function allows you to include JavaScript. You can use Python to generate parts of your JS or JSON like this:\n",
    "\n",
    "```python\n",
    "# In future snippets this import will not be shown, but is required\n",
    "from fasthtml.common import * \n",
    "app,rt = fast_app(hdrs=[Script(src=\"https://cdn.plot.ly/plotly-2.32.0.min.js\")])\n",
    "# `index` is a special function name which maps to the `/` route. \n",
    "@rt\n",
    "def index():\n",
    "    data = {'somedata':'fill me in…'}\n",
    "    # `Titled` is a function which returns a title tag and an h1 tag with the 1st param, along with all other params as HTML in a `Main` parent element\n",
    "    return Titled(\"Chart Demo\", Div(id=\"myDiv\"), Script(f\"var data = {data}; Plotly.newPlot('myDiv', data);\"))\n",
    "# In future snippets `serve() will not be shown, but is required\n",
    "serve()\n",
    "```"
   ]
  },
  {
   "cell_type": "markdown",
   "metadata": {},
   "source": [
    "Route details can be specified as decorator parameters.\n",
    "\n",
    "```python\n",
    "# In future snippets we'll skip showing the `fast_app` call if it has no params\n",
    "app, rt = fast_app(\n",
    "    pico=False, # The Pico CSS framework is included by default, so pass `false` to disable it if needed.\n",
    "    # These are added to the `head` part of the page for non-HTMX requests.\n",
    "    hdrs=(\n",
    "        Link(rel='stylesheet', href='assets/normalize.min.css', type='text/css'),\n",
    "        Link(rel='stylesheet', href='assets/sakura.css', type='text/css'),\n",
    "        Style(\"p {color: red;}\",\n",
    "        # by default, all standard static extensions are served statically from the web app dir, which can be modified using `static_path`\n",
    "        static_path='public')\n",
    ")\n",
    "# Path parameter parsing is handled by Starlette, so all of the same functionality and syntax is supported.\n",
    "# However, it is more idiomatic to use query parameters in FastHTML where possible.\n",
    "@rt(\"/hello/{name}\", method=\"GET\")\n",
    "def somefunc(name:str): return Titled(f\"Hello, {name}!\")\n",
    "```"
   ]
  },
  {
   "cell_type": "markdown",
   "metadata": {},
   "source": [
    "Instead of returning a FastTag or tuple of FastTags, standard Starlette response types can also be returned in which case they are used directly in the same way that Starlette does. \n",
    "\n",
    "```python\n",
    "@rt(\"/{fname:path}.{ext:static}\")\n",
    "async def get(fname:str, ext:str):  return FileResponse(f'public/{fname}.{ext}')\n",
    "```"
   ]
  },
  {
   "cell_type": "markdown",
   "metadata": {},
   "source": [
    "```python\n",
    "# `MarkdownJS` and `HighlightJS` are available via concise functions\n",
    "hdrs = (MarkdownJS(), HighlightJS(langs=['python', 'javascript', 'html', 'css']), )\n",
    "app, rt = fast_app(hdrs=hdrs)\n",
    "@rt\n",
    "def index(req): return Titled(\"Markdown rendering example\",\n",
    "                              # This will be markdown rendered to HTML\n",
    "                              Div(\"*hi* there\",cls=\"marked\"),\n",
    "                              # This will be syntax highlighted\n",
    "                              Pre(Code(\"def foo(): pass\")))\n",
    "serve()\n",
    "```"
   ]
  },
  {
   "cell_type": "markdown",
   "metadata": {},
   "source": [
    "Returning a JSON serializable dict from a handler will cause the handler to return JSON. "
   ]
  },
  {
   "cell_type": "markdown",
   "metadata": {},
   "source": [
    "`ft` components (\"fasttags\") can be combined by defining them as a function."
   ]
  },
  {
   "cell_type": "code",
   "execution_count": null,
   "metadata": {},
   "outputs": [
    {
     "data": {
      "text/plain": [
       "'<div class=\"hero\">\\n  <h1>Hello World</h1>\\n  <p>This is a hero statement</p>\\n</div>\\n'"
      ]
     },
     "execution_count": null,
     "metadata": {},
     "output_type": "execute_result"
    }
   ],
   "source": [
    "def Hero(title, statement): return Div(H1(title),P(statement), cls=\"hero\")\n",
    "to_xml(Hero(\"Hello World\", \"This is a hero statement\"))"
   ]
  },
  {
   "cell_type": "markdown",
   "metadata": {},
   "source": [
    "Classes with `__ft__` defined are rendered using that method."
   ]
  },
  {
   "cell_type": "code",
   "execution_count": null,
   "metadata": {},
   "outputs": [
    {
     "data": {
      "text/plain": [
       "'<p>test</p>\\n'"
      ]
     },
     "execution_count": null,
     "metadata": {},
     "output_type": "execute_result"
    }
   ],
   "source": [
    "from dataclasses import dataclass\n",
    "\n",
    "class FtTest:\n",
    "    def __ft__(self): return P('test')\n",
    "    \n",
    "to_xml(FtTest())"
   ]
  },
  {
   "cell_type": "code",
   "execution_count": null,
   "metadata": {},
   "outputs": [],
   "source": [
    "from dataclasses import dataclass"
   ]
  },
  {
   "cell_type": "code",
   "execution_count": null,
   "metadata": {},
   "outputs": [],
   "source": [
    "app,rt = fast_app()"
   ]
  },
  {
   "cell_type": "markdown",
   "metadata": {},
   "source": [
    "When a route handler function is used as a fasttag attribute (such as `href`, `hx_get`, or `action`) it is converted to that route's path. `fill_form` is used to copy an object's matching attrs into matching-name form fields."
   ]
  },
  {
   "cell_type": "code",
   "execution_count": null,
   "metadata": {},
   "outputs": [],
   "source": [
    "@dataclass\n",
    "class Profile: email:str; phone:str; age:int\n",
    "email = 'john@example.com'\n",
    "profiles = {email: Profile(email=email, phone='123456789', age=5)}\n",
    "@rt\n",
    "def profile(email:str): return fill_form(profile_form, profiles[email])\n",
    "\n",
    "profile_form = Form(method=\"post\", action=profile)(\n",
    "        Fieldset(\n",
    "            Label('Email', Input(name=\"email\")),\n",
    "            Label(\"Phone\", Input(name=\"phone\")),\n",
    "            Label(\"Age\", Input(name=\"age\"))),\n",
    "        Button(\"Save\", type=\"submit\"))"
   ]
  },
  {
   "cell_type": "markdown",
   "metadata": {},
   "source": [
    "A `to` method is added to route functions, which returns a route path with params as query params."
   ]
  },
  {
   "cell_type": "code",
   "execution_count": null,
   "metadata": {},
   "outputs": [
    {
     "data": {
      "text/plain": [
       "'/profile?email=john%40example.com'"
      ]
     },
     "execution_count": null,
     "metadata": {},
     "output_type": "execute_result"
    }
   ],
   "source": [
    "path = profile.to(email=\"john@example.com\")\n",
    "path"
   ]
  },
  {
   "cell_type": "markdown",
   "metadata": {},
   "source": [
    "The `url_for` method of the request object can be used to generate URLs for named routes. It takes the route name as its first argument, followed by any path parameters needed for that route. Useful for generating absolute URLs, ensuring that the correct host and scheme are included, even if the application is accessed through different domains or protocols."
   ]
  },
  {
   "cell_type": "markdown",
   "metadata": {},
   "source": [
    "The `url_path_for` method of the application can be used to generate URL paths for named routes. Unlike `url_for`, it returns only the path component of the URL, without the scheme or host."
   ]
  },
  {
   "cell_type": "markdown",
   "metadata": {},
   "source": [
    "We can use `TestClient` for testing."
   ]
  },
  {
   "cell_type": "code",
   "execution_count": null,
   "metadata": {},
   "outputs": [],
   "source": [
    "from starlette.testclient import TestClient"
   ]
  },
  {
   "cell_type": "code",
   "execution_count": null,
   "metadata": {},
   "outputs": [
    {
     "name": "stdout",
     "output_type": "stream",
     "text": [
      "<form enctype=\"multipart/form-data\" method=\"post\" action=\"/profile\"><fieldset><label>Email       <input name=\"email\" value=\"john@example.com\">\n",
      "</label><label>Phone       <input name=\"phone\" value=\"123456789\">\n",
      "</label><label>Age       <input name=\"age\" value=\"5\">\n",
      "</label></fieldset><button type=\"submit\">Save</button></form>\n"
     ]
    }
   ],
   "source": [
    "client = TestClient(app)\n",
    "htmx_req = {'HX-Request':'1'}\n",
    "print(client.get(path, headers=htmx_req).text)"
   ]
  },
  {
   "cell_type": "markdown",
   "metadata": {},
   "source": [
    "When a dataclass, namedtuple, etc. is used as a type annotation, the form body will be unpacked into matching attribute names automatically. "
   ]
  },
  {
   "cell_type": "code",
   "execution_count": null,
   "metadata": {},
   "outputs": [
    {
     "name": "stdout",
     "output_type": "stream",
     "text": [
      "<form enctype=\"multipart/form-data\" method=\"post\" action=\"/profile\"><fieldset><label>Email       <input name=\"email\" value=\"john@example.com\">\n",
      "</label><label>Phone       <input name=\"phone\" value=\"7654321\">\n",
      "</label><label>Age       <input name=\"age\" value=\"25\">\n",
      "</label></fieldset><button type=\"submit\">Save</button></form>\n"
     ]
    }
   ],
   "source": [
    "@rt\n",
    "def edit_profile(profile: Profile):\n",
    "    profiles[email]=profile\n",
    "    return RedirectResponse(url=path)\n",
    "\n",
    "new_data = dict(email='john@example.com', phone='7654321', age=25)\n",
    "print(client.post(\"/edit_profile\", data=new_data, headers=htmx_req).text)"
   ]
  },
  {
   "cell_type": "markdown",
   "metadata": {},
   "source": [
    "The general rules for rendering are: \n",
    "- `__ft__` method will be called (for default components like `P`, `H2`, etc. or if you define your own components)\n",
    "- If you pass a string, it will be escaped\n",
    "- On other python objects, `str()` will be called\n",
    "\n",
    "As a consequence, if you want to include plain HTML tags directly into e.g. a `Div()` they will get escaped by default (as a security measure to avoid code injections). This can be avoided by using `Safe(...)`, e.g to show a data frame use `Div(NotStr(df.to_html()))`."
   ]
  },
  {
   "cell_type": "markdown",
   "metadata": {},
   "source": [
    "FastHTML allows customization of exception handlers.\n",
    "\n",
    "```python\n",
    "def not_found(req, exc): return Titled(\"404: I don't exist!\")\n",
    "exception_handlers = {404: not_found}\n",
    "app, rt = fast_app(exception_handlers=exception_handlers)\n",
    "```"
   ]
  },
  {
   "cell_type": "markdown",
   "metadata": {},
   "source": [
    "We can set cookies using the `cookie()` function."
   ]
  },
  {
   "cell_type": "code",
   "execution_count": null,
   "metadata": {},
   "outputs": [
    {
     "name": "stdout",
     "output_type": "stream",
     "text": [
      " <p>Setting a cookie</p>\n",
      "\n"
     ]
    }
   ],
   "source": [
    "@rt\n",
    "def setcook(): return P(f'Setting a cookie'), cookie('mycookie', 'foobar')\n",
    "print(client.get('/setcook', headers=htmx_req).text)"
   ]
  },
  {
   "cell_type": "code",
   "execution_count": null,
   "metadata": {},
   "outputs": [
    {
     "name": "stdout",
     "output_type": "stream",
     "text": [
      "Cookie was foobar\n"
     ]
    }
   ],
   "source": [
    "@rt\n",
    "def getcook(mycookie:str): return f'Cookie was {mycookie}'\n",
    "# Note that if handlers return text, instead of fasttags, then a plain text response is automatically created\n",
    "print(client.get('/getcook').text)"
   ]
  },
  {
   "cell_type": "markdown",
   "metadata": {},
   "source": [
    "FastHTML provide access to Starlette's request object automatically using special `request` parameter name (or any prefix of that name)."
   ]
  },
  {
   "cell_type": "code",
   "execution_count": null,
   "metadata": {},
   "outputs": [],
   "source": [
    "@rt\n",
    "def headers(req): return req.headers['host']"
   ]
  },
  {
   "cell_type": "markdown",
   "metadata": {},
   "source": [
    "FastHTML provides access to Starlette's session middleware automatically using the special `session` parameter name (or any prefix of that name).\n",
    "\n",
    "Enums can be used to constrain the values accepted for a route parameter."
   ]
  },
  {
   "cell_type": "code",
   "execution_count": null,
   "metadata": {},
   "outputs": [],
   "source": [
    "names = str_enum('names', 'Alice', 'Bev', 'Charlie')"
   ]
  },
  {
   "cell_type": "code",
   "execution_count": null,
   "metadata": {},
   "outputs": [],
   "source": [
    "@rt\n",
    "def adder(sess, nm: names):\n",
    "    sess.setdefault('attendees', '')\n",
    "    sess['attendees'] = sess.get('attendees') + f', {nm}'\n",
    "    return Response(f'The attentees are {sess[\"attendees\"]}.')"
   ]
  },
  {
   "cell_type": "markdown",
   "metadata": {},
   "source": [
    "Handler functions can return the `HtmxResponseHeaders` object to set HTMX-specific response headers."
   ]
  },
  {
   "cell_type": "code",
   "execution_count": null,
   "metadata": {},
   "outputs": [],
   "source": [
    "@rt\n",
    "def htmlredirect(app): return HtmxResponseHeaders(location=\"http://example.org\")"
   ]
  },
  {
   "cell_type": "markdown",
   "metadata": {},
   "source": [
    "`APIRouter` lets you organize routes across multiple files in a FastHTML app, with an optional `prefix` parameter that prepends to all routes in that router (e.g., `prefix=/products` makes all routes start with `/products`)."
   ]
  },
  {
   "cell_type": "markdown",
   "metadata": {},
   "source": [
    "```python\n",
    "# products.py\n",
    "ar = APIRouter(prefix=\"/products\")\n",
    "\n",
    "@ar(\"/all\")\n",
    "def all_products(req):\n",
    "    return Div(\n",
    "        \"Welcome to the Products Page! Click the button below to look at the details for product 42\",\n",
    "        Div(\n",
    "            Button(\"Details\",hx_get=req.url_for(\"details\", pid=42),hx_target=\"#products_list\",hx_swap=\"outerHTML\",),\n",
    "        ),\n",
    "        id=\"products_list\",\n",
    "    )\n",
    "\n",
    "@ar.get(\"/\", name=\"details\")\n",
    "def details(pid: int): return f\"Here are the product details for ID: {pid}\"\n",
    "```"
   ]
  },
  {
   "cell_type": "markdown",
   "metadata": {},
   "source": [
    "Adding the products' `APIRouter` to the `app`:"
   ]
  },
  {
   "cell_type": "markdown",
   "metadata": {},
   "source": [
    "```python\n",
    "# main.py\n",
    "from products import ar\n",
    "\n",
    "app, rt = fast_app()\n",
    "ar.to_app(app)\n",
    "\n",
    "@rt\n",
    "def index():\n",
    "    return Div(\n",
    "        \"Products\",\n",
    "        hx_get=ar.rt_funcs.all_products,\n",
    "        hx_swap=\"outerHTML\",\n",
    "    )\n",
    "```"
   ]
  },
  {
   "cell_type": "markdown",
   "metadata": {},
   "source": [
    "Toasts can be of four types:\n",
    "\n",
    "- info\n",
    "- success\n",
    "- warning\n",
    "- error\n",
    "\n",
    "Toasts require the use of the `setup_toasts()` function, plus every handler needs:\n",
    "\n",
    "- The session argument\n",
    "- Must return FT components\n",
    "\n",
    "```python\n",
    "setup_toasts(app)\n",
    "\n",
    "@rt\n",
    "def toasting(session):\n",
    "    add_toast(session, f\"cooked\", \"info\")\n",
    "    add_toast(session, f\"ready\", \"success\")\n",
    "    return Titled(\"toaster\")\n",
    "```\n",
    "\n",
    "`setup_toasts(duration)` allows you to specify how long a toast will be visible before disappearing.10 seconds."
   ]
  },
  {
   "cell_type": "markdown",
   "metadata": {},
   "source": [
    "Authentication and authorization are handled with Beforeware, which functions that run before the route handler is called."
   ]
  },
  {
   "cell_type": "code",
   "execution_count": null,
   "metadata": {},
   "outputs": [],
   "source": [
    "def user_auth_before(req, sess):\n",
    "    # `auth` key in the request scope is automatically provided to any handler which requests it and can not be injected\n",
    "    auth = req.scope['auth'] = sess.get('auth', None)\n",
    "    if not auth: return RedirectResponse('/login', status_code=303)\n",
    "\n",
    "beforeware = Beforeware(\n",
    "    user_auth_before,\n",
    "    skip=[r'/favicon\\.ico', r'/static/.*', r'.*\\.css', r'.*\\.js', '/login', '/']\n",
    ")\n",
    "\n",
    "app, rt = fast_app(before=beforeware)"
   ]
  },
  {
   "cell_type": "markdown",
   "metadata": {},
   "source": [
    "FastHTML introduces several tools for working with SSE which are covered in the example below. While concise, there's a lot going on in this function so we've annotated it quite a bit."
   ]
  },
  {
   "cell_type": "code",
   "execution_count": null,
   "metadata": {},
   "outputs": [],
   "source": [
    "import random"
   ]
  },
  {
   "cell_type": "markdown",
   "metadata": {},
   "source": [
    "FastHTML supports the HTMX SSE extension."
   ]
  },
  {
   "cell_type": "code",
   "execution_count": null,
   "metadata": {},
   "outputs": [],
   "source": [
    "hdrs=(Script(src=\"https://unpkg.com/htmx-ext-sse@2.2.1/sse.js\"),)\n",
    "app,rt = fast_app(hdrs=hdrs)\n",
    "\n",
    "@rt\n",
    "def index(): return Div(hx_ext=\"sse\", sse_connect=\"/numstream\", hx_swap=\"beforeend show:bottom\", sse_swap=\"message\")\n",
    "\n",
    "# `signal_shutdown()` gets an event that is set on shutdown\n",
    "shutdown_event = signal_shutdown()\n",
    "\n",
    "async def number_generator():\n",
    "    while not shutdown_event.is_set():\n",
    "        data = Article(random.randint(1, 100))\n",
    "        yield sse_message(data)\n",
    "\n",
    "@rt\n",
    "async def numstream(): return EventStream(number_generator())"
   ]
  },
  {
   "cell_type": "markdown",
   "metadata": {},
   "source": [
    "FastHTML provides useful tools for HTMX's websockets extension."
   ]
  },
  {
   "cell_type": "code",
   "execution_count": null,
   "metadata": {},
   "outputs": [],
   "source": [
    "app, rt = fast_app(exts='ws')\n",
    "\n",
    "def mk_inp(): return Input(id='msg', autofocus=True)\n",
    "\n",
    "@rt\n",
    "async def index(request):\n",
    "    # `ws_send` tells HTMX to send a message to the nearest websocket based on the trigger for the form element\n",
    "    cts = Div(\n",
    "        Div(id='notifications'),\n",
    "        Form(mk_inp(), id='form', ws_send=True),\n",
    "        hx_ext='ws', ws_connect='/ws')\n",
    "    return Titled('Websocket Test', cts)\n",
    "\n",
    "async def on_connect(send): await send(Div('Hello, you have connected', id=\"notifications\"))\n",
    "async def on_disconnect(ws): print('Disconnected!')\n",
    "\n",
    "@app.ws('/ws', conn=on_connect, disconn=on_disconnect)\n",
    "async def ws(msg:str, send):\n",
    "    # websocket hander returns/sends are treated as OOB swaps\n",
    "    await send(Div('Hello ' + msg, id=\"notifications\"))\n",
    "    return Div('Goodbye ' + msg, id=\"notifications\"), mk_inp()"
   ]
  },
  {
   "cell_type": "markdown",
   "metadata": {},
   "source": [
    "### Single File Uploads"
   ]
  },
  {
   "cell_type": "markdown",
   "metadata": {},
   "source": [
    "`Form` defaults to \"multipart/form-data\". A Starlette UploadFile is passed to the handler."
   ]
  },
  {
   "cell_type": "markdown",
   "metadata": {},
   "source": [
    "```python\n",
    "upload_dir = Path(\"filez\")\n",
    "\n",
    "@rt\n",
    "def index():\n",
    "    return (\n",
    "        Form(hx_post=upload, hx_target=\"#result\")(\n",
    "            Input(type=\"file\", name=\"file\"),\n",
    "            Button(\"Upload\", type=\"submit\")),\n",
    "        Div(id=\"result\")\n",
    "    )\n",
    "\n",
    "@rt\n",
    "async def upload(file: UploadFile):\n",
    "    filebuffer = await file.read()\n",
    "    (upload_dir / file.filename).write_bytes(filebuffer)\n",
    "    return P('Size: ', file.size)\n",
    "```"
   ]
  },
  {
   "cell_type": "markdown",
   "metadata": {},
   "source": [
    "For multi-file, use `Input(..., multiple=True)`, and a type annotation of `list[UploadFile]` in the handler. "
   ]
  },
  {
   "cell_type": "markdown",
   "metadata": {},
   "source": [
    "## Fastlite "
   ]
  },
  {
   "cell_type": "markdown",
   "metadata": {},
   "source": [
    "Fastlite and the MiniDataAPI specification is it built on are a CRUD oriented API for working with Sqlite. APSW is used to connect to Sqlite, optimized for speed and clean error handling."
   ]
  },
  {
   "cell_type": "code",
   "execution_count": null,
   "metadata": {},
   "outputs": [],
   "source": [
    "from fastlite import *"
   ]
  },
  {
   "cell_type": "code",
   "execution_count": null,
   "metadata": {},
   "outputs": [],
   "source": [
    "# File-based databases can be specified by replacing ':memory:' with the path representing the file.\n",
    "db = database(':memory:') "
   ]
  },
  {
   "cell_type": "markdown",
   "metadata": {},
   "source": [
    "Tables are normally constructed with classes, field types are specified as type hints. "
   ]
  },
  {
   "cell_type": "code",
   "execution_count": null,
   "metadata": {},
   "outputs": [],
   "source": [
    "class Book: isbn: str; title: str; pages: int; userid: int\n",
    "# Set the primary key with the 'pk' argument\n",
    "# The transform arg instructs the fastlite to change the db structure if a field changes.\n",
    "books = db.create(Book, pk='isbn', transform=True)\n",
    "                \n",
    "class User: id: int; name: str; active: bool = True\n",
    "# If no pk is provided, id is assumed to be the primary key.\n",
    "users = db.create(User, transform=True)"
   ]
  },
  {
   "cell_type": "markdown",
   "metadata": {},
   "source": [
    "### Fastlite CRUD operations"
   ]
  },
  {
   "cell_type": "markdown",
   "metadata": {},
   "source": [
    "Every operation in fastlite returns a fastcore flexiclass or a list of flexiclasses. "
   ]
  },
  {
   "cell_type": "markdown",
   "metadata": {},
   "source": [
    "Creating records:"
   ]
  },
  {
   "cell_type": "markdown",
   "metadata": {},
   "source": [
    "Here are three diverse names:\n",
    "\n",
    "1. Amara Okafor\n",
    "2. Jin-Soo Park\n",
    "3. Valentina Rossi"
   ]
  },
  {
   "cell_type": "code",
   "execution_count": null,
   "metadata": {},
   "outputs": [
    {
     "data": {
      "text/plain": [
       "User(id=5, name='Alex', active=0)"
      ]
     },
     "execution_count": null,
     "metadata": {},
     "output_type": "execute_result"
    }
   ],
   "source": [
    "for name in ['Charlie', 'Braden', 'Alma', 'Amara', 'Alex']: user = users.insert(name=name,active=False)\n",
    "user"
   ]
  },
  {
   "cell_type": "markdown",
   "metadata": {},
   "source": [
    "Listing all records returns a list of flexiclasses"
   ]
  },
  {
   "cell_type": "code",
   "execution_count": null,
   "metadata": {},
   "outputs": [
    {
     "data": {
      "text/plain": [
       "[User(id=1, name='Charlie', active=0),\n",
       " User(id=2, name='Braden', active=0),\n",
       " User(id=3, name='Alma', active=0),\n",
       " User(id=4, name='Amara', active=0),\n",
       " User(id=5, name='Alex', active=0)]"
      ]
     },
     "execution_count": null,
     "metadata": {},
     "output_type": "execute_result"
    }
   ],
   "source": [
    "users()"
   ]
  },
  {
   "cell_type": "markdown",
   "metadata": {},
   "source": [
    "Limit, offset, and order the results"
   ]
  },
  {
   "cell_type": "code",
   "execution_count": null,
   "metadata": {},
   "outputs": [
    {
     "data": {
      "text/plain": [
       "[User(id=3, name='Alma', active=0), User(id=4, name='Amara', active=0)]"
      ]
     },
     "execution_count": null,
     "metadata": {},
     "output_type": "execute_result"
    }
   ],
   "source": [
    "users(order_by='name', limit=2, offset=1)"
   ]
  },
  {
   "cell_type": "markdown",
   "metadata": {},
   "source": [
    "Filter on the results:"
   ]
  },
  {
   "cell_type": "code",
   "execution_count": null,
   "metadata": {},
   "outputs": [
    {
     "data": {
      "text/plain": [
       "[User(id=3, name='Alma', active=0)]"
      ]
     },
     "execution_count": null,
     "metadata": {},
     "output_type": "execute_result"
    }
   ],
   "source": [
    "users(where=\"name='Alma'\")"
   ]
  },
  {
   "cell_type": "markdown",
   "metadata": {},
   "source": [
    "Placeholder for avoiding injection attacks"
   ]
  },
  {
   "cell_type": "code",
   "execution_count": null,
   "metadata": {},
   "outputs": [
    {
     "data": {
      "text/plain": [
       "[User(id=3, name='Alma', active=0)]"
      ]
     },
     "execution_count": null,
     "metadata": {},
     "output_type": "execute_result"
    }
   ],
   "source": [
    "users(\"name=?\", ('Alma',))"
   ]
  },
  {
   "cell_type": "markdown",
   "metadata": {},
   "source": [
    "Fetching a single record using the pk inside square brackers returns a flexiclass"
   ]
  },
  {
   "cell_type": "code",
   "execution_count": null,
   "metadata": {},
   "outputs": [
    {
     "data": {
      "text/plain": [
       "User(id=5, name='Alex', active=0)"
      ]
     },
     "execution_count": null,
     "metadata": {},
     "output_type": "execute_result"
    }
   ],
   "source": [
    "users[user.id]"
   ]
  },
  {
   "cell_type": "markdown",
   "metadata": {},
   "source": [
    "Test is a record exists by using `in` keyword on primary key:"
   ]
  },
  {
   "cell_type": "code",
   "execution_count": null,
   "metadata": {},
   "outputs": [
    {
     "data": {
      "text/plain": [
       "True"
      ]
     },
     "execution_count": null,
     "metadata": {},
     "output_type": "execute_result"
    }
   ],
   "source": [
    "1 in users"
   ]
  },
  {
   "cell_type": "markdown",
   "metadata": {},
   "source": [
    "Updates return the updated record."
   ]
  },
  {
   "cell_type": "code",
   "execution_count": null,
   "metadata": {},
   "outputs": [
    {
     "data": {
      "text/plain": [
       "User(id=5, name='Lauren', active=1)"
      ]
     },
     "execution_count": null,
     "metadata": {},
     "output_type": "execute_result"
    }
   ],
   "source": [
    "user.name='Lauren'\n",
    "user.active=True\n",
    "users.update(user)"
   ]
  },
  {
   "cell_type": "markdown",
   "metadata": {},
   "source": [
    "`.xtra()` to constrain queries"
   ]
  },
  {
   "cell_type": "code",
   "execution_count": null,
   "metadata": {},
   "outputs": [
    {
     "data": {
      "text/plain": [
       "[User(id=5, name='Lauren', active=1)]"
      ]
     },
     "execution_count": null,
     "metadata": {},
     "output_type": "execute_result"
    }
   ],
   "source": [
    "users.xtra(active=True)\n",
    "users()"
   ]
  },
  {
   "cell_type": "markdown",
   "metadata": {},
   "source": [
    "Deletes return an empty record"
   ]
  },
  {
   "cell_type": "code",
   "execution_count": null,
   "metadata": {},
   "outputs": [
    {
     "data": {
      "text/plain": [
       "<Table user (id, name, active)>"
      ]
     },
     "execution_count": null,
     "metadata": {},
     "output_type": "execute_result"
    }
   ],
   "source": [
    "users.delete(user.id)"
   ]
  },
  {
   "cell_type": "markdown",
   "metadata": {},
   "source": [
    "If a record can't be found for square bracket it returns a NotFoundError. This also applies for updates and deletes."
   ]
  },
  {
   "cell_type": "code",
   "execution_count": null,
   "metadata": {},
   "outputs": [
    {
     "name": "stdout",
     "output_type": "stream",
     "text": [
      "User not found\n"
     ]
    }
   ],
   "source": [
    "try: users['Amy']\n",
    "except NotFoundError: print('User not found')"
   ]
  },
  {
   "cell_type": "markdown",
   "metadata": {},
   "source": [
    "## MonsterUI"
   ]
  },
  {
   "cell_type": "markdown",
   "metadata": {},
   "source": [
    "Adds the Tailwind-based libraries FrankenUI and DaisyUI to FastHTML. Follows semantic HTML patterns when possible. A minimal app:"
   ]
  },
  {
   "cell_type": "code",
   "execution_count": null,
   "metadata": {},
   "outputs": [],
   "source": [
    "from monsterui.all import *\n",
    "\n",
    "# Choose a MonsterUI theme color (blue, green, red, etc)\n",
    "hdrs = Theme.blue.headers()\n",
    "\n",
    "# Create your app with the theme\n",
    "app, rt = fast_app(hdrs=hdrs)\n",
    "\n",
    "@rt\n",
    "def index():\n",
    "    socials = (('github','https://github.com/AnswerDotAI/MonsterUI'),\n",
    "               ('twitter','https://twitter.com/isaac_flath/'),\n",
    "               ('linkedin','https://www.linkedin.com/in/isaacflath/'))\n",
    "    return Titled(\"Your First App\",\n",
    "        Card(\n",
    "            H1(\"Welcome!\"),\n",
    "            P(\"Your first MonsterUI app\", cls=TextPresets.muted_sm),\n",
    "            # DivLAigned and UkIconLink are non-semantic MonsterUI FT Components\n",
    "            footer=DivLAligned(*[UkIconLink(icon,href=url) for icon,url in socials])))\n"
   ]
  },
  {
   "cell_type": "markdown",
   "metadata": {},
   "source": [
    "MonsterUI components are based on Tailwind:"
   ]
  },
  {
   "cell_type": "code",
   "execution_count": null,
   "metadata": {},
   "outputs": [
    {
     "data": {
      "text/markdown": [
       "```html\n",
       "<div class=\"grid grid-cols-1 sm:grid-cols-1 md:grid-cols-2 lg:grid-cols-2 xl:grid-cols-2 gap-4\">\n",
       "  <div class=\"uk-card \">\n",
       "    <div class=\"uk-card-body space-y-6\">\n",
       "      <h4 class=\"uk-h4 \">First Card</h4>\n",
       "    </div>\n",
       "  </div>\n",
       "  <div class=\"uk-card \">\n",
       "    <div class=\"uk-card-body space-y-6\">\n",
       "      <h4 class=\"uk-h4 \">Second Card</h4>\n",
       "    </div>\n",
       "  </div>\n",
       "</div>\n",
       "\n",
       "```"
      ],
      "text/plain": [
       "div((div((div((h4(('First Card',),{'class': 'uk-h4 '}),),{'class': 'uk-card-body space-y-6'}),),{'class': 'uk-card '}), div((div((h4(('Second Card',),{'class': 'uk-h4 '}),),{'class': 'uk-card-body space-y-6'}),),{'class': 'uk-card '})),{'class': 'grid grid-cols-1 sm:grid-cols-1 md:grid-cols-2 lg:grid-cols-2 xl:grid-cols-2 gap-4'})"
      ]
     },
     "execution_count": null,
     "metadata": {},
     "output_type": "execute_result"
    }
   ],
   "source": [
    "Grid(\n",
    "    Card(H4(\"First Card\")),\n",
    "    Card(H4(\"Second Card\")))"
   ]
  },
  {
   "cell_type": "markdown",
   "metadata": {},
   "source": [
    "List of all MonsterUI FT Components"
   ]
  },
  {
   "cell_type": "code",
   "execution_count": null,
   "metadata": {},
   "outputs": [],
   "source": [
    "from monsterui import all as monster\n",
    "import inspect\n",
    "from IPython.display import Markdown, display"
   ]
  },
  {
   "cell_type": "code",
   "execution_count": null,
   "metadata": {},
   "outputs": [
    {
     "data": {
      "text/markdown": [
       "- AT(*c: fastcore.xml.FT | str, cls: enum.Enum | str | tuple = (), **kwargs) -> fastcore.xml.FT\n",
       "- Abbr(*c: fastcore.xml.FT | str, cls: enum.Enum | str | tuple = (), **kwargs) -> fastcore.xml.FT\n",
       "- Address(*c: fastcore.xml.FT | str, cls: enum.Enum | str | tuple = (), **kwargs) -> fastcore.xml.FT\n",
       "- Alert(*c: fastcore.xml.FT | str, cls: enum.Enum | str | tuple = (), **kwargs) -> fastcore.xml.FT\n",
       "- AlertT(*c: fastcore.xml.FT | str, cls: enum.Enum | str | tuple = (), **kwargs) -> fastcore.xml.FT\n",
       "- Article(*c: fastcore.xml.FT | str, cls: enum.Enum | str | tuple = (), **kwargs) -> fastcore.xml.FT\n",
       "- ArticleMeta(*c: fastcore.xml.FT | str, cls: enum.Enum | str | tuple = (), **kwargs) -> fastcore.xml.FT\n",
       "- ArticleTitle(*c: fastcore.xml.FT | str, cls: enum.Enum | str | tuple = (), **kwargs) -> fastcore.xml.FT\n",
       "- BackgroundT(*c: fastcore.xml.FT | str, cls: enum.Enum | str | tuple = (), **kwargs) -> fastcore.xml.FT\n",
       "- Blockquote(*c: fastcore.xml.FT | str, cls: enum.Enum | str | tuple = (), **kwargs) -> fastcore.xml.FT\n",
       "- Button(*c: fastcore.xml.FT | str, cls: enum.Enum | str | tuple = (), **kwargs) -> fastcore.xml.FT\n",
       "- ButtonT(*c: fastcore.xml.FT | str, cls: enum.Enum | str | tuple = (), **kwargs) -> fastcore.xml.FT\n",
       "- Caption(*c: fastcore.xml.FT | str, cls: enum.Enum | str | tuple = (), **kwargs) -> fastcore.xml.FT\n",
       "- Card(*c: fastcore.xml.FT | str, cls: enum.Enum | str | tuple = (), **kwargs) -> fastcore.xml.FT\n",
       "- CardBody(*c: fastcore.xml.FT | str, cls: enum.Enum | str | tuple = (), **kwargs) -> fastcore.xml.FT\n",
       "- CardContainer(*c: fastcore.xml.FT | str, cls: enum.Enum | str | tuple = (), **kwargs) -> fastcore.xml.FT\n",
       "- CardFooter(*c: fastcore.xml.FT | str, cls: enum.Enum | str | tuple = (), **kwargs) -> fastcore.xml.FT\n",
       "- CardHeader(*c: fastcore.xml.FT | str, cls: enum.Enum | str | tuple = (), **kwargs) -> fastcore.xml.FT\n",
       "- CardT(*c: fastcore.xml.FT | str, cls: enum.Enum | str | tuple = (), **kwargs) -> fastcore.xml.FT\n",
       "- CardTitle(*c: fastcore.xml.FT | str, cls: enum.Enum | str | tuple = (), **kwargs) -> fastcore.xml.FT\n",
       "- Center(*c: fastcore.xml.FT | str, cls: enum.Enum | str | tuple = (), **kwargs) -> fastcore.xml.FT\n",
       "- CheckboxX(*c: fastcore.xml.FT | str, cls: enum.Enum | str | tuple = (), **kwargs) -> fastcore.xml.FT\n",
       "- Cite(*c: fastcore.xml.FT | str, cls: enum.Enum | str | tuple = (), **kwargs) -> fastcore.xml.FT\n",
       "- CodeBlock(*c: fastcore.xml.FT | str, cls: enum.Enum | str | tuple = (), **kwargs) -> fastcore.xml.FT\n",
       "- CodeSpan(*c: fastcore.xml.FT | str, cls: enum.Enum | str | tuple = (), **kwargs) -> fastcore.xml.FT\n",
       "- Container(*c: fastcore.xml.FT | str, cls: enum.Enum | str | tuple = (), **kwargs) -> fastcore.xml.FT\n",
       "- ContainerT(*c: fastcore.xml.FT | str, cls: enum.Enum | str | tuple = (), **kwargs) -> fastcore.xml.FT\n",
       "- Data(*c: fastcore.xml.FT | str, cls: enum.Enum | str | tuple = (), **kwargs) -> fastcore.xml.FT\n",
       "- Del(*c: fastcore.xml.FT | str, cls: enum.Enum | str | tuple = (), **kwargs) -> fastcore.xml.FT\n",
       "- Details(*c: fastcore.xml.FT | str, cls: enum.Enum | str | tuple = (), **kwargs) -> fastcore.xml.FT\n",
       "- Dfn(*c: fastcore.xml.FT | str, cls: enum.Enum | str | tuple = (), **kwargs) -> fastcore.xml.FT\n",
       "- DiceBearAvatar(*c: fastcore.xml.FT | str, cls: enum.Enum | str | tuple = (), **kwargs) -> fastcore.xml.FT\n",
       "- DivCentered(*c: fastcore.xml.FT | str, cls: enum.Enum | str | tuple = (), **kwargs) -> fastcore.xml.FT\n",
       "- DivFullySpaced(*c: fastcore.xml.FT | str, cls: enum.Enum | str | tuple = (), **kwargs) -> fastcore.xml.FT\n",
       "- DivHStacked(*c: fastcore.xml.FT | str, cls: enum.Enum | str | tuple = (), **kwargs) -> fastcore.xml.FT\n",
       "- DivLAligned(*c: fastcore.xml.FT | str, cls: enum.Enum | str | tuple = (), **kwargs) -> fastcore.xml.FT\n",
       "- DivRAligned(*c: fastcore.xml.FT | str, cls: enum.Enum | str | tuple = (), **kwargs) -> fastcore.xml.FT\n",
       "- DivVStacked(*c: fastcore.xml.FT | str, cls: enum.Enum | str | tuple = (), **kwargs) -> fastcore.xml.FT\n",
       "- Divider(*c: fastcore.xml.FT | str, cls: enum.Enum | str | tuple = (), **kwargs) -> fastcore.xml.FT\n",
       "- DividerLine(*c: fastcore.xml.FT | str, cls: enum.Enum | str | tuple = (), **kwargs) -> fastcore.xml.FT\n",
       "- DividerSplit(*c: fastcore.xml.FT | str, cls: enum.Enum | str | tuple = (), **kwargs) -> fastcore.xml.FT\n",
       "- DividerT(*c: fastcore.xml.FT | str, cls: enum.Enum | str | tuple = (), **kwargs) -> fastcore.xml.FT\n",
       "- DropDownNavContainer(*c: fastcore.xml.FT | str, cls: enum.Enum | str | tuple = (), **kwargs) -> fastcore.xml.FT\n",
       "- Em(*c: fastcore.xml.FT | str, cls: enum.Enum | str | tuple = (), **kwargs) -> fastcore.xml.FT\n",
       "- FastHTML(*c: fastcore.xml.FT | str, cls: enum.Enum | str | tuple = (), **kwargs) -> fastcore.xml.FT\n",
       "- Fieldset(*c: fastcore.xml.FT | str, cls: enum.Enum | str | tuple = (), **kwargs) -> fastcore.xml.FT\n",
       "- Figure(*c: fastcore.xml.FT | str, cls: enum.Enum | str | tuple = (), **kwargs) -> fastcore.xml.FT\n",
       "- FlexT(*c: fastcore.xml.FT | str, cls: enum.Enum | str | tuple = (), **kwargs) -> fastcore.xml.FT\n",
       "- Form(*c: fastcore.xml.FT | str, cls: enum.Enum | str | tuple = (), **kwargs) -> fastcore.xml.FT\n",
       "- FormLabel(*c: fastcore.xml.FT | str, cls: enum.Enum | str | tuple = (), **kwargs) -> fastcore.xml.FT\n",
       "- GenericLabelInput(*c: fastcore.xml.FT | str, cls: enum.Enum | str | tuple = (), **kwargs) -> fastcore.xml.FT\n",
       "- Grid(*c: fastcore.xml.FT | str, cls: enum.Enum | str | tuple = (), **kwargs) -> fastcore.xml.FT\n",
       "- H1(*c: fastcore.xml.FT | str, cls: enum.Enum | str | tuple = (), **kwargs) -> fastcore.xml.FT\n",
       "- H2(*c: fastcore.xml.FT | str, cls: enum.Enum | str | tuple = (), **kwargs) -> fastcore.xml.FT\n",
       "- H3(*c: fastcore.xml.FT | str, cls: enum.Enum | str | tuple = (), **kwargs) -> fastcore.xml.FT\n",
       "- H4(*c: fastcore.xml.FT | str, cls: enum.Enum | str | tuple = (), **kwargs) -> fastcore.xml.FT\n",
       "- H5(*c: fastcore.xml.FT | str, cls: enum.Enum | str | tuple = (), **kwargs) -> fastcore.xml.FT\n",
       "- H6(*c: fastcore.xml.FT | str, cls: enum.Enum | str | tuple = (), **kwargs) -> fastcore.xml.FT\n",
       "- HEADER_URLS(*c: fastcore.xml.FT | str, cls: enum.Enum | str | tuple = (), **kwargs) -> fastcore.xml.FT\n",
       "- I(*c: fastcore.xml.FT | str, cls: enum.Enum | str | tuple = (), **kwargs) -> fastcore.xml.FT\n",
       "- Input(*c: fastcore.xml.FT | str, cls: enum.Enum | str | tuple = (), **kwargs) -> fastcore.xml.FT\n",
       "- Ins(*c: fastcore.xml.FT | str, cls: enum.Enum | str | tuple = (), **kwargs) -> fastcore.xml.FT\n",
       "- Kbd(*c: fastcore.xml.FT | str, cls: enum.Enum | str | tuple = (), **kwargs) -> fastcore.xml.FT\n",
       "- Label(*c: fastcore.xml.FT | str, cls: enum.Enum | str | tuple = (), **kwargs) -> fastcore.xml.FT\n",
       "- LabelCheckboxX(*c: fastcore.xml.FT | str, cls: enum.Enum | str | tuple = (), **kwargs) -> fastcore.xml.FT\n",
       "- LabelInput(*c: fastcore.xml.FT | str, cls: enum.Enum | str | tuple = (), **kwargs) -> fastcore.xml.FT\n",
       "- LabelRadio(*c: fastcore.xml.FT | str, cls: enum.Enum | str | tuple = (), **kwargs) -> fastcore.xml.FT\n",
       "- LabelRange(*c: fastcore.xml.FT | str, cls: enum.Enum | str | tuple = (), **kwargs) -> fastcore.xml.FT\n",
       "- LabelSelect(*c: fastcore.xml.FT | str, cls: enum.Enum | str | tuple = (), **kwargs) -> fastcore.xml.FT\n",
       "- LabelSwitch(*c: fastcore.xml.FT | str, cls: enum.Enum | str | tuple = (), **kwargs) -> fastcore.xml.FT\n",
       "- LabelT(*c: fastcore.xml.FT | str, cls: enum.Enum | str | tuple = (), **kwargs) -> fastcore.xml.FT\n",
       "- LabelTextArea(*c: fastcore.xml.FT | str, cls: enum.Enum | str | tuple = (), **kwargs) -> fastcore.xml.FT\n",
       "- Legend(*c: fastcore.xml.FT | str, cls: enum.Enum | str | tuple = (), **kwargs) -> fastcore.xml.FT\n",
       "- LiStep(*c: fastcore.xml.FT | str, cls: enum.Enum | str | tuple = (), **kwargs) -> fastcore.xml.FT\n",
       "- ListT(*c: fastcore.xml.FT | str, cls: enum.Enum | str | tuple = (), **kwargs) -> fastcore.xml.FT\n",
       "- Loading(*c: fastcore.xml.FT | str, cls: enum.Enum | str | tuple = (), **kwargs) -> fastcore.xml.FT\n",
       "- LoadingT(*c: fastcore.xml.FT | str, cls: enum.Enum | str | tuple = (), **kwargs) -> fastcore.xml.FT\n",
       "- Mark(*c: fastcore.xml.FT | str, cls: enum.Enum | str | tuple = (), **kwargs) -> fastcore.xml.FT\n",
       "- Meter(*c: fastcore.xml.FT | str, cls: enum.Enum | str | tuple = (), **kwargs) -> fastcore.xml.FT\n",
       "- Modal(*c: fastcore.xml.FT | str, cls: enum.Enum | str | tuple = (), **kwargs) -> fastcore.xml.FT\n",
       "- ModalBody(*c: fastcore.xml.FT | str, cls: enum.Enum | str | tuple = (), **kwargs) -> fastcore.xml.FT\n",
       "- ModalCloseButton(*c: fastcore.xml.FT | str, cls: enum.Enum | str | tuple = (), **kwargs) -> fastcore.xml.FT\n",
       "- ModalContainer(*c: fastcore.xml.FT | str, cls: enum.Enum | str | tuple = (), **kwargs) -> fastcore.xml.FT\n",
       "- ModalDialog(*c: fastcore.xml.FT | str, cls: enum.Enum | str | tuple = (), **kwargs) -> fastcore.xml.FT\n",
       "- ModalFooter(*c: fastcore.xml.FT | str, cls: enum.Enum | str | tuple = (), **kwargs) -> fastcore.xml.FT\n",
       "- ModalHeader(*c: fastcore.xml.FT | str, cls: enum.Enum | str | tuple = (), **kwargs) -> fastcore.xml.FT\n",
       "- ModalTitle(*c: fastcore.xml.FT | str, cls: enum.Enum | str | tuple = (), **kwargs) -> fastcore.xml.FT\n",
       "- NavBar(*c: fastcore.xml.FT | str, cls: enum.Enum | str | tuple = (), **kwargs) -> fastcore.xml.FT\n",
       "- NavCloseLi(*c: fastcore.xml.FT | str, cls: enum.Enum | str | tuple = (), **kwargs) -> fastcore.xml.FT\n",
       "- NavContainer(*c: fastcore.xml.FT | str, cls: enum.Enum | str | tuple = (), **kwargs) -> fastcore.xml.FT\n",
       "- NavDividerLi(*c: fastcore.xml.FT | str, cls: enum.Enum | str | tuple = (), **kwargs) -> fastcore.xml.FT\n",
       "- NavHeaderLi(*c: fastcore.xml.FT | str, cls: enum.Enum | str | tuple = (), **kwargs) -> fastcore.xml.FT\n",
       "- NavParentLi(*c: fastcore.xml.FT | str, cls: enum.Enum | str | tuple = (), **kwargs) -> fastcore.xml.FT\n",
       "- NavSubtitle(*c: fastcore.xml.FT | str, cls: enum.Enum | str | tuple = (), **kwargs) -> fastcore.xml.FT\n",
       "- NavT(*c: fastcore.xml.FT | str, cls: enum.Enum | str | tuple = (), **kwargs) -> fastcore.xml.FT\n",
       "- Options(*c: fastcore.xml.FT | str, cls: enum.Enum | str | tuple = (), **kwargs) -> fastcore.xml.FT\n",
       "- Output(*c: fastcore.xml.FT | str, cls: enum.Enum | str | tuple = (), **kwargs) -> fastcore.xml.FT\n",
       "- PicSumImg(*c: fastcore.xml.FT | str, cls: enum.Enum | str | tuple = (), **kwargs) -> fastcore.xml.FT\n",
       "- Placeholder(*c: fastcore.xml.FT | str, cls: enum.Enum | str | tuple = (), **kwargs) -> fastcore.xml.FT\n",
       "- Progress(*c: fastcore.xml.FT | str, cls: enum.Enum | str | tuple = (), **kwargs) -> fastcore.xml.FT\n",
       "- Q(*c: fastcore.xml.FT | str, cls: enum.Enum | str | tuple = (), **kwargs) -> fastcore.xml.FT\n",
       "- Radio(*c: fastcore.xml.FT | str, cls: enum.Enum | str | tuple = (), **kwargs) -> fastcore.xml.FT\n",
       "- Range(*c: fastcore.xml.FT | str, cls: enum.Enum | str | tuple = (), **kwargs) -> fastcore.xml.FT\n",
       "- S(*c: fastcore.xml.FT | str, cls: enum.Enum | str | tuple = (), **kwargs) -> fastcore.xml.FT\n",
       "- Samp(*c: fastcore.xml.FT | str, cls: enum.Enum | str | tuple = (), **kwargs) -> fastcore.xml.FT\n",
       "- ScrollspyT(*c: fastcore.xml.FT | str, cls: enum.Enum | str | tuple = (), **kwargs) -> fastcore.xml.FT\n",
       "- Section(*c: fastcore.xml.FT | str, cls: enum.Enum | str | tuple = (), **kwargs) -> fastcore.xml.FT\n",
       "- SectionT(*c: fastcore.xml.FT | str, cls: enum.Enum | str | tuple = (), **kwargs) -> fastcore.xml.FT\n",
       "- Select(*c: fastcore.xml.FT | str, cls: enum.Enum | str | tuple = (), **kwargs) -> fastcore.xml.FT\n",
       "- Slider(*c: fastcore.xml.FT | str, cls: enum.Enum | str | tuple = (), **kwargs) -> fastcore.xml.FT\n",
       "- SliderContainer(*c: fastcore.xml.FT | str, cls: enum.Enum | str | tuple = (), **kwargs) -> fastcore.xml.FT\n",
       "- SliderItems(*c: fastcore.xml.FT | str, cls: enum.Enum | str | tuple = (), **kwargs) -> fastcore.xml.FT\n",
       "- SliderNav(*c: fastcore.xml.FT | str, cls: enum.Enum | str | tuple = (), **kwargs) -> fastcore.xml.FT\n",
       "- Small(*c: fastcore.xml.FT | str, cls: enum.Enum | str | tuple = (), **kwargs) -> fastcore.xml.FT\n",
       "- StepT(*c: fastcore.xml.FT | str, cls: enum.Enum | str | tuple = (), **kwargs) -> fastcore.xml.FT\n",
       "- Steps(*c: fastcore.xml.FT | str, cls: enum.Enum | str | tuple = (), **kwargs) -> fastcore.xml.FT\n",
       "- StepsT(*c: fastcore.xml.FT | str, cls: enum.Enum | str | tuple = (), **kwargs) -> fastcore.xml.FT\n",
       "- Strong(*c: fastcore.xml.FT | str, cls: enum.Enum | str | tuple = (), **kwargs) -> fastcore.xml.FT\n",
       "- Sub(*c: fastcore.xml.FT | str, cls: enum.Enum | str | tuple = (), **kwargs) -> fastcore.xml.FT\n",
       "- Subtitle(*c: fastcore.xml.FT | str, cls: enum.Enum | str | tuple = (), **kwargs) -> fastcore.xml.FT\n",
       "- Summary(*c: fastcore.xml.FT | str, cls: enum.Enum | str | tuple = (), **kwargs) -> fastcore.xml.FT\n",
       "- Sup(*c: fastcore.xml.FT | str, cls: enum.Enum | str | tuple = (), **kwargs) -> fastcore.xml.FT\n",
       "- Switch(*c: fastcore.xml.FT | str, cls: enum.Enum | str | tuple = (), **kwargs) -> fastcore.xml.FT\n",
       "- TabContainer(*c: fastcore.xml.FT | str, cls: enum.Enum | str | tuple = (), **kwargs) -> fastcore.xml.FT\n",
       "- Table(*c: fastcore.xml.FT | str, cls: enum.Enum | str | tuple = (), **kwargs) -> fastcore.xml.FT\n",
       "- TableFromDicts(*c: fastcore.xml.FT | str, cls: enum.Enum | str | tuple = (), **kwargs) -> fastcore.xml.FT\n",
       "- TableFromLists(*c: fastcore.xml.FT | str, cls: enum.Enum | str | tuple = (), **kwargs) -> fastcore.xml.FT\n",
       "- TableT(*c: fastcore.xml.FT | str, cls: enum.Enum | str | tuple = (), **kwargs) -> fastcore.xml.FT\n",
       "- Tbody(*c: fastcore.xml.FT | str, cls: enum.Enum | str | tuple = (), **kwargs) -> fastcore.xml.FT\n",
       "- Td(*c: fastcore.xml.FT | str, cls: enum.Enum | str | tuple = (), **kwargs) -> fastcore.xml.FT\n",
       "- TextArea(*c: fastcore.xml.FT | str, cls: enum.Enum | str | tuple = (), **kwargs) -> fastcore.xml.FT\n",
       "- TextPresets(*c: fastcore.xml.FT | str, cls: enum.Enum | str | tuple = (), **kwargs) -> fastcore.xml.FT\n",
       "- TextT(*c: fastcore.xml.FT | str, cls: enum.Enum | str | tuple = (), **kwargs) -> fastcore.xml.FT\n",
       "- Th(*c: fastcore.xml.FT | str, cls: enum.Enum | str | tuple = (), **kwargs) -> fastcore.xml.FT\n",
       "- Theme(*c: fastcore.xml.FT | str, cls: enum.Enum | str | tuple = (), **kwargs) -> fastcore.xml.FT\n",
       "- ThemeFont(*c: fastcore.xml.FT | str, cls: enum.Enum | str | tuple = (), **kwargs) -> fastcore.xml.FT\n",
       "- ThemePicker(*c: fastcore.xml.FT | str, cls: enum.Enum | str | tuple = (), **kwargs) -> fastcore.xml.FT\n",
       "- ThemeRadii(*c: fastcore.xml.FT | str, cls: enum.Enum | str | tuple = (), **kwargs) -> fastcore.xml.FT\n",
       "- ThemeShadows(*c: fastcore.xml.FT | str, cls: enum.Enum | str | tuple = (), **kwargs) -> fastcore.xml.FT\n",
       "- Time(*c: fastcore.xml.FT | str, cls: enum.Enum | str | tuple = (), **kwargs) -> fastcore.xml.FT\n",
       "- Titled(*c: fastcore.xml.FT | str, cls: enum.Enum | str | tuple = (), **kwargs) -> fastcore.xml.FT\n",
       "- Toast(*c: fastcore.xml.FT | str, cls: enum.Enum | str | tuple = (), **kwargs) -> fastcore.xml.FT\n",
       "- ToastHT(*c: fastcore.xml.FT | str, cls: enum.Enum | str | tuple = (), **kwargs) -> fastcore.xml.FT\n",
       "- ToastVT(*c: fastcore.xml.FT | str, cls: enum.Enum | str | tuple = (), **kwargs) -> fastcore.xml.FT\n",
       "- U(*c: fastcore.xml.FT | str, cls: enum.Enum | str | tuple = (), **kwargs) -> fastcore.xml.FT\n",
       "- UkFormSection(*c: fastcore.xml.FT | str, cls: enum.Enum | str | tuple = (), **kwargs) -> fastcore.xml.FT\n",
       "- UkIcon(*c: fastcore.xml.FT | str, cls: enum.Enum | str | tuple = (), **kwargs) -> fastcore.xml.FT\n",
       "- UkIconLink(*c: fastcore.xml.FT | str, cls: enum.Enum | str | tuple = (), **kwargs) -> fastcore.xml.FT\n",
       "- Upload(*c: fastcore.xml.FT | str, cls: enum.Enum | str | tuple = (), **kwargs) -> fastcore.xml.FT\n",
       "- UploadZone(*c: fastcore.xml.FT | str, cls: enum.Enum | str | tuple = (), **kwargs) -> fastcore.xml.FT\n",
       "- Var(*c: fastcore.xml.FT | str, cls: enum.Enum | str | tuple = (), **kwargs) -> fastcore.xml.FT"
      ],
      "text/plain": [
       "<IPython.core.display.Markdown object>"
      ]
     },
     "metadata": {},
     "output_type": "display_data"
    }
   ],
   "source": [
    "ftcomps = []\n",
    "for ftcomp in L(dir(monster)).filter(lambda s: s[0].isupper()):\n",
    "    try: ftcomps.append(f'- {ftcomp}{inspect.signature(getattr(monster, component))}')\n",
    "    except TypeError: pass # Catches the HEADER_URLS constant\n",
    "display(Markdown('\\n'.join(ftcomps)))"
   ]
  },
  {
   "cell_type": "code",
   "execution_count": null,
   "metadata": {},
   "outputs": [],
   "source": []
  },
  {
   "cell_type": "code",
   "execution_count": null,
   "metadata": {},
   "outputs": [],
   "source": []
  }
 ],
 "metadata": {
  "kernelspec": {
   "display_name": "Python 3 (ipykernel)",
   "language": "python",
   "name": "python3"
  },
  "language_info": {
   "codemirror_mode": {
    "name": "ipython",
    "version": 3
   },
   "file_extension": ".py",
   "mimetype": "text/x-python",
   "name": "python",
   "nbconvert_exporter": "python",
   "pygments_lexer": "ipython3",
   "version": "3.12.8"
  }
 },
 "nbformat": 4,
 "nbformat_minor": 4
}
