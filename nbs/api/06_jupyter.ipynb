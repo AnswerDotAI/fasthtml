{
 "cells": [
  {
   "cell_type": "code",
   "execution_count": null,
   "id": "7832bb1a",
   "metadata": {},
   "outputs": [],
   "source": [
    "#| default_exp jupyter"
   ]
  },
  {
   "cell_type": "markdown",
   "id": "257b6e4b",
   "metadata": {},
   "source": [
    "# Jupyter compatibility\n",
    "\n",
    "- Use FastHTML in Jupyter notebooks"
   ]
  },
  {
   "cell_type": "code",
   "execution_count": null,
   "id": "2c69d9d0",
   "metadata": {},
   "outputs": [],
   "source": [
    "#| export\n",
    "import asyncio, socket, time, uvicorn\n",
    "from threading import Thread\n",
    "from fastcore.utils import *\n",
    "from fasthtml.common import *\n",
    "from IPython.display import HTML,Markdown,IFrame\n",
    "from starlette.middleware.cors import CORSMiddleware\n",
    "from starlette.middleware import Middleware\n",
    "from fastcore.parallel import startthread"
   ]
  },
  {
   "cell_type": "code",
   "execution_count": null,
   "id": "a1c7b207",
   "metadata": {},
   "outputs": [],
   "source": [
    "from httpx import get, AsyncClient"
   ]
  },
  {
   "cell_type": "markdown",
   "id": "fab2984f",
   "metadata": {},
   "source": [
    "## Helper functions"
   ]
  },
  {
   "cell_type": "code",
   "execution_count": null,
   "id": "a5d3a8f7",
   "metadata": {},
   "outputs": [],
   "source": [
    "#| export\n",
    "def nb_serve(app, log_level=\"error\", port=8000, **kwargs):\n",
    "    \"Start a Jupyter compatible uvicorn server with ASGI `app` on `port` with `log_level`\"\n",
    "    server = uvicorn.Server(uvicorn.Config(app, log_level=log_level, port=port, **kwargs))\n",
    "    async def async_run_server(server): await server.serve()\n",
    "    @startthread\n",
    "    def run_server(): asyncio.run(async_run_server(server))\n",
    "    while not server.started: time.sleep(0.01)\n",
    "    return server"
   ]
  },
  {
   "cell_type": "code",
   "execution_count": null,
   "id": "3242080c",
   "metadata": {},
   "outputs": [],
   "source": [
    "#| export\n",
    "async def nb_serve_async(app, log_level=\"error\", port=8000, **kwargs):\n",
    "    \"Async version of `nb_serve`\"\n",
    "    server = uvicorn.Server(uvicorn.Config(app, log_level=log_level, port=port, **kwargs))\n",
    "    asyncio.get_running_loop().create_task(server.serve())\n",
    "    while not server.started: await asyncio.sleep(0.01)\n",
    "    return server"
   ]
  },
  {
   "cell_type": "code",
   "execution_count": null,
   "id": "508917bc",
   "metadata": {},
   "outputs": [],
   "source": [
    "#| export\n",
    "def is_port_free(port, host='localhost'):\n",
    "    \"Check if `port` is free on `host`\"\n",
    "    sock = socket.socket(socket.AF_INET, socket.SOCK_STREAM)\n",
    "    try:\n",
    "        sock.setsockopt(socket.SOL_SOCKET, socket.SO_REUSEADDR, 1)\n",
    "        sock.bind((host, port))\n",
    "        return True\n",
    "    except OSError: return False\n",
    "    finally: sock.close()"
   ]
  },
  {
   "cell_type": "code",
   "execution_count": null,
   "id": "1779cb76",
   "metadata": {},
   "outputs": [],
   "source": [
    "#| export\n",
    "def wait_port_free(port, host='localhost', max_wait=3):\n",
    "    \"Wait for `port` to be free on `host`\"\n",
    "    start_time = time.time()\n",
    "    while not is_port_free(port):\n",
    "        if time.time() - start_time>max_wait: return print(f\"Timeout\")\n",
    "        time.sleep(0.1)"
   ]
  },
  {
   "cell_type": "code",
   "execution_count": null,
   "id": "f5c57eeb",
   "metadata": {},
   "outputs": [],
   "source": [
    "#| export\n",
    "cors_allow = Middleware(CORSMiddleware, allow_credentials=True,\n",
    "                        allow_origins=[\"*\"], allow_methods=[\"*\"], allow_headers=[\"*\"])"
   ]
  },
  {
   "cell_type": "markdown",
   "id": "dcb6ada4",
   "metadata": {},
   "source": [
    "## Using FastHTML in Jupyter"
   ]
  },
  {
   "cell_type": "code",
   "execution_count": null,
   "id": "29a834a5",
   "metadata": {},
   "outputs": [],
   "source": [
    "#| export\n",
    "class JupyUvi:\n",
    "    \"Start and stop a Jupyter compatible uvicorn server with ASGI `app` on `port` with `log_level`\"\n",
    "    def __init__(self, app, log_level=\"error\", port=8000, start=True, **kwargs):\n",
    "        self.kwargs = kwargs\n",
    "        store_attr(but='start')\n",
    "        self.server = None\n",
    "        if start: self.start()\n",
    "\n",
    "    def start(self):\n",
    "        self.server = nb_serve(self.app, log_level=self.log_level, port=self.port, **self.kwargs)\n",
    "\n",
    "    def stop(self):\n",
    "        self.server.should_exit = True\n",
    "        wait_port_free(self.port)"
   ]
  },
  {
   "cell_type": "markdown",
   "id": "7c84a5f2",
   "metadata": {},
   "source": [
    "Creating an object of this class also starts the Uvicorn server. It runs in a separate thread, so you can use normal HTTP client functions in a notebook. "
   ]
  },
  {
   "cell_type": "code",
   "execution_count": null,
   "id": "0f4b31e9",
   "metadata": {},
   "outputs": [],
   "source": [
    "app = FastHTML()\n",
    "\n",
    "@app.route\n",
    "def index(): return 'hi'\n",
    "\n",
    "port = 8000\n",
    "server = JupyUvi(app, port=port)"
   ]
  },
  {
   "cell_type": "code",
   "execution_count": null,
   "id": "9e57a6a1",
   "metadata": {},
   "outputs": [
    {
     "data": {
      "text/plain": [
       "'hi'"
      ]
     },
     "execution_count": null,
     "metadata": {},
     "output_type": "execute_result"
    }
   ],
   "source": [
    "get(f'http://localhost:{port}').text"
   ]
  },
  {
   "cell_type": "markdown",
   "id": "8dd94a9a",
   "metadata": {},
   "source": [
    "You can stop the server, modify routes, and start the server again without restarting the notebook or recreating the server or application. "
   ]
  },
  {
   "cell_type": "code",
   "execution_count": null,
   "id": "c5b33bfd",
   "metadata": {},
   "outputs": [],
   "source": [
    "server.stop()"
   ]
  },
  {
   "cell_type": "code",
   "execution_count": null,
   "id": "a928d459",
   "metadata": {},
   "outputs": [],
   "source": [
    "#| export\n",
    "# The script lets an iframe parent know of changes so that it can resize automatically.  \n",
    "_iframe_scr = Script(\"\"\"\n",
    "    function sendmsg() {window.parent.postMessage({height: document.documentElement.offsetHeight}, '*')}\n",
    "    window.onload = function() {\n",
    "        sendmsg();\n",
    "        document.body.addEventListener('htmx:afterSettle', sendmsg);\n",
    "    };\"\"\")"
   ]
  },
  {
   "cell_type": "code",
   "execution_count": null,
   "id": "00fb3d5e",
   "metadata": {},
   "outputs": [],
   "source": [
    "#| export\n",
    "def FastJupy(hdrs=None, middleware=None, **kwargs):\n",
    "    \"Same as FastHTML, but with Jupyter compatible middleware and headers added\"\n",
    "    hdrs = listify(hdrs)+[_iframe_scr]\n",
    "    middleware = listify(middleware)+[cors_allow]\n",
    "    return FastHTML(hdrs=hdrs, middleware=middleware, **kwargs)"
   ]
  },
  {
   "cell_type": "markdown",
   "id": "0726c769",
   "metadata": {},
   "source": [
    "Instead of using the FastHTML class, use the FastJupy class. It's a thin wrapper for FastHTML which adds the necessary headers and middleware required for Jupyter compatibility. "
   ]
  },
  {
   "cell_type": "code",
   "execution_count": null,
   "id": "9d520bab",
   "metadata": {},
   "outputs": [],
   "source": [
    "app = FastJupy()\n",
    "rt = app.route\n",
    "server = JupyUvi(app, port=port)"
   ]
  },
  {
   "cell_type": "code",
   "execution_count": null,
   "id": "4ef1415d",
   "metadata": {},
   "outputs": [],
   "source": [
    "#| export\n",
    "def HTMX(path=\"\", host='localhost', port=8000, iframe_height=\"auto\"):\n",
    "    \"An iframe which displays the HTMX application in a notebook.\"\n",
    "    return HTML(f'<iframe src=\"http://{host}:{port}/{path}\" style=\"width: 100%; height: {iframe_height}; border: none;\" ' + \"\"\"onload=\"{\n",
    "        let frame = this;\n",
    "        window.addEventListener('message', function(e) {\n",
    "            if (e.data.height) frame.style.height = (e.data.height+1) + 'px';\n",
    "        }, false);\n",
    "    }\" allow=\"accelerometer; autoplay; camera; clipboard-read; clipboard-write; display-capture; encrypted-media; fullscreen; gamepad; geolocation; gyroscope; hid; identity-credentials-get; idle-detection; magnetometer; microphone; midi; payment; picture-in-picture; publickey-credentials-get; screen-wake-lock; serial; usb; web-share; xr-spatial-tracking\"></iframe> \"\"\")"
   ]
  },
  {
   "cell_type": "code",
   "execution_count": null,
   "id": "cf152565",
   "metadata": {},
   "outputs": [],
   "source": [
    "@rt\n",
    "def index():\n",
    "    return Div(\n",
    "        P(A('Click me', hx_get=update, hx_target='#result')),\n",
    "        P(A('No me!', hx_get=update, hx_target='#result')),\n",
    "        Div(id='result'))\n",
    "\n",
    "@rt\n",
    "def update(): return Div(P('Hi!'),P('There!'))"
   ]
  },
  {
   "cell_type": "code",
   "execution_count": null,
   "id": "0063bb43",
   "metadata": {},
   "outputs": [],
   "source": [
    "# Run the notebook locally to see the HTMX iframe in action\n",
    "# HTMX()\n",
    "\n",
    "# If only part of the page gets displayed, try tweaking the iframe_height parameter, for example:\n",
    "# HTMX(iframe_height=\"800px\")"
   ]
  },
  {
   "cell_type": "code",
   "execution_count": null,
   "id": "dfc3271d",
   "metadata": {},
   "outputs": [],
   "source": [
    "server.stop()"
   ]
  },
  {
   "cell_type": "markdown",
   "id": "1ef8dfe3",
   "metadata": {},
   "source": [
    "## jupy_app"
   ]
  },
  {
   "cell_type": "code",
   "execution_count": null,
   "id": "377f5ac6",
   "metadata": {},
   "outputs": [],
   "source": [
    "#| export\n",
    "def jupy_app(pico=False, hdrs=None, middleware=None, **kwargs):\n",
    "    \"Same as `fast_app` but for Jupyter notebooks\"\n",
    "    hdrs = listify(hdrs)+[_iframe_scr]\n",
    "    middleware = listify(middleware)+[cors_allow]\n",
    "    return fast_app(pico=pico, hdrs=hdrs, middleware=middleware, **kwargs)"
   ]
  },
  {
   "cell_type": "code",
   "execution_count": null,
   "id": "2b40a967",
   "metadata": {},
   "outputs": [],
   "source": [
    "app,rt = jupy_app()\n",
    "server = JupyUvi(app)"
   ]
  },
  {
   "cell_type": "code",
   "execution_count": null,
   "id": "9f3f28ab",
   "metadata": {},
   "outputs": [],
   "source": [
    "@rt\n",
    "def index():\n",
    "    return Div(\n",
    "        P(A('Click me', hx_get=update, hx_target='#result')),\n",
    "        P(A('No me!', hx_get=update, hx_target='#result')),\n",
    "        Div(id='result'))\n",
    "\n",
    "@rt\n",
    "def update(): return Div(P('Hi!'),P('Rachel!'))"
   ]
  },
  {
   "cell_type": "code",
   "execution_count": null,
   "id": "9a8da293",
   "metadata": {},
   "outputs": [],
   "source": [
    "# Run the notebook locally to see the HTMX iframe in action\n",
    "# HTMX()"
   ]
  },
  {
   "cell_type": "code",
   "execution_count": null,
   "id": "f11274ba",
   "metadata": {},
   "outputs": [],
   "source": [
    "server.stop()"
   ]
  },
  {
   "cell_type": "markdown",
   "id": "474e14b4",
   "metadata": {},
   "source": [
    "## Export -"
   ]
  },
  {
   "cell_type": "code",
   "execution_count": null,
   "id": "d211e8e2",
   "metadata": {},
   "outputs": [],
   "source": [
    "#|hide\n",
    "import nbdev; nbdev.nbdev_export()"
   ]
  },
  {
   "cell_type": "code",
   "execution_count": null,
   "id": "77112b77",
   "metadata": {},
   "outputs": [],
   "source": []
  }
 ],
 "metadata": {
  "kernelspec": {
   "display_name": "python3",
   "language": "python",
   "name": "python3"
  }
 },
 "nbformat": 4,
 "nbformat_minor": 5
}
