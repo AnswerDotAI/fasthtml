{
 "cells": [
  {
   "cell_type": "code",
   "execution_count": null,
   "id": "56db45b6",
   "metadata": {},
   "outputs": [],
   "source": [
    "#| default_exp xtend"
   ]
  },
  {
   "cell_type": "markdown",
   "id": "80f4f9d8",
   "metadata": {},
   "source": [
    "# Component extensions"
   ]
  },
  {
   "cell_type": "code",
   "execution_count": null,
   "id": "8e2d405b",
   "metadata": {},
   "outputs": [],
   "source": [
    "#| export\n",
    "from dataclasses import dataclass, asdict\n",
    "from typing import Any\n",
    "\n",
    "from fastcore.utils import *\n",
    "from fastcore.xtras import partial_format\n",
    "from fastcore.xml import *\n",
    "from fastcore.meta import use_kwargs, delegates\n",
    "from fasthtml.components import *\n",
    "\n",
    "try: from IPython import display\n",
    "except ImportError: display=None"
   ]
  },
  {
   "cell_type": "code",
   "execution_count": null,
   "id": "a0319fa2",
   "metadata": {},
   "outputs": [],
   "source": [
    "from pprint import pprint"
   ]
  },
  {
   "cell_type": "code",
   "execution_count": null,
   "id": "100414ae",
   "metadata": {},
   "outputs": [],
   "source": [
    "#| export\n",
    "picocss = \"https://cdn.jsdelivr.net/npm/@picocss/pico@latest/css/pico.min.css\"\n",
    "picolink = (Link(rel=\"stylesheet\", href=picocss),\n",
    "            Style(\":root { --pico-font-size: 100%; }\"))\n",
    "picocondcss = \"https://cdn.jsdelivr.net/npm/@picocss/pico@latest/css/pico.conditional.min.css\"\n",
    "picocondlink = (Link(rel=\"stylesheet\", href=picocondcss),\n",
    "                Style(\":root { --pico-font-size: 100%; }\"))"
   ]
  },
  {
   "cell_type": "markdown",
   "id": "8a974e15",
   "metadata": {},
   "source": [
    "`picocondlink` is the class-conditional css `link` tag, and `picolink` is the regular tag."
   ]
  },
  {
   "cell_type": "code",
   "execution_count": null,
   "id": "992c2a8f",
   "metadata": {},
   "outputs": [
    {
     "data": {
      "text/html": [
       "<link rel=\"stylesheet\" href=\"https://cdn.jsdelivr.net/npm/@picocss/pico@latest/css/pico.conditional.min.css\">\n",
       "\n",
       "<style>:root { --pico-font-size: 100%; }</style>\n"
      ],
      "text/plain": [
       "<IPython.core.display.HTML object>"
      ]
     },
     "execution_count": null,
     "metadata": {},
     "output_type": "execute_result"
    }
   ],
   "source": [
    "show(picocondlink)"
   ]
  },
  {
   "cell_type": "code",
   "execution_count": null,
   "id": "36d26fb7",
   "metadata": {},
   "outputs": [],
   "source": [
    "#| export\n",
    "def set_pico_cls():\n",
    "    js = \"\"\"var sel = '.cell-output, .output_area';\n",
    "document.querySelectorAll(sel).forEach(e => e.classList.add('pico'));\n",
    "\n",
    "new MutationObserver(ms => {\n",
    "  ms.forEach(m => {\n",
    "    m.addedNodes.forEach(n => {\n",
    "      if (n.nodeType === 1) {\n",
    "        var nc = n.classList;\n",
    "        if (nc && (nc.contains('cell-output') || nc.contains('output_area'))) nc.add('pico');\n",
    "        n.querySelectorAll(sel).forEach(e => e.classList.add('pico'));\n",
    "      }\n",
    "    });\n",
    "  });\n",
    "}).observe(document.body, { childList: true, subtree: true });\"\"\"\n",
    "    return display.Javascript(js)"
   ]
  },
  {
   "cell_type": "markdown",
   "id": "bfed2819",
   "metadata": {},
   "source": [
    "Run this to make jupyter outputs styled with pico:"
   ]
  },
  {
   "cell_type": "code",
   "execution_count": null,
   "id": "74326ab8",
   "metadata": {},
   "outputs": [
    {
     "data": {
      "application/javascript": [
       "var sel = '.cell-output, .output_area';\n",
       "document.querySelectorAll(sel).forEach(e => e.classList.add('pico'));\n",
       "\n",
       "new MutationObserver(ms => {\n",
       "  ms.forEach(m => {\n",
       "    m.addedNodes.forEach(n => {\n",
       "      if (n.nodeType === 1) {\n",
       "        var nc = n.classList;\n",
       "        if (nc && (nc.contains('cell-output') || nc.contains('output_area'))) nc.add('pico');\n",
       "        n.querySelectorAll(sel).forEach(e => e.classList.add('pico'));\n",
       "      }\n",
       "    });\n",
       "  });\n",
       "}).observe(document.body, { childList: true, subtree: true });"
      ],
      "text/plain": [
       "<IPython.core.display.Javascript object>"
      ]
     },
     "execution_count": null,
     "metadata": {},
     "output_type": "execute_result"
    }
   ],
   "source": [
    "set_pico_cls()"
   ]
  },
  {
   "cell_type": "code",
   "execution_count": null,
   "id": "254f4744",
   "metadata": {},
   "outputs": [],
   "source": [
    "#| export\n",
    "@delegates(ft_hx, keep=True)\n",
    "def A(*c, hx_get=None, target_id=None, hx_swap=None, href='#', **kwargs)->FT:\n",
    "    \"An A tag; `href` defaults to '#' for more concise use with HTMX\"\n",
    "    return ft_hx('a', *c, href=href, hx_get=hx_get, target_id=target_id, hx_swap=hx_swap, **kwargs)"
   ]
  },
  {
   "cell_type": "code",
   "execution_count": null,
   "id": "53efcd61",
   "metadata": {},
   "outputs": [
    {
     "data": {
      "text/markdown": [
       "```html\n",
       "<a href=\"#\" ht-get=\"/get\" hx-target=\"#id\">text</a>\n",
       "\n",
       "```"
      ],
      "text/plain": [
       "['a', ('text',), {'href': '#', 'ht-get': '/get', 'hx-target': '#id'}]"
      ]
     },
     "execution_count": null,
     "metadata": {},
     "output_type": "execute_result"
    }
   ],
   "source": [
    "A('text', ht_get='/get', target_id='id')"
   ]
  },
  {
   "cell_type": "code",
   "execution_count": null,
   "id": "465f147c",
   "metadata": {},
   "outputs": [],
   "source": [
    "#| export\n",
    "@delegates(ft_hx, keep=True)\n",
    "def Form(*c, enctype=\"multipart/form-data\", **kwargs)->FT:\n",
    "    \"A Form tag; identical to plain `ft_hx` version except default `enctype='multipart/form-data'`\"\n",
    "    return ft_hx('form', *c, enctype=enctype, **kwargs)"
   ]
  },
  {
   "cell_type": "code",
   "execution_count": null,
   "id": "3f0bd0fa",
   "metadata": {},
   "outputs": [],
   "source": [
    "#| export\n",
    "@delegates(ft_hx, keep=True)\n",
    "def AX(txt, hx_get=None, target_id=None, hx_swap=None, href='#', **kwargs)->FT:\n",
    "    \"An A tag with just one text child, allowing hx_get, target_id, and hx_swap to be positional params\"\n",
    "    return ft_hx('a', txt, href=href, hx_get=hx_get, target_id=target_id, hx_swap=hx_swap, **kwargs)"
   ]
  },
  {
   "cell_type": "code",
   "execution_count": null,
   "id": "2531e3fc",
   "metadata": {},
   "outputs": [
    {
     "data": {
      "text/markdown": [
       "```html\n",
       "<a href=\"#\" hx-get=\"/get\" hx-target=\"#id\">text</a>\n",
       "\n",
       "```"
      ],
      "text/plain": [
       "['a', ('text',), {'href': '#', 'hx-get': '/get', 'hx-target': '#id'}]"
      ]
     },
     "execution_count": null,
     "metadata": {},
     "output_type": "execute_result"
    }
   ],
   "source": [
    "AX('text', '/get', 'id')"
   ]
  },
  {
   "cell_type": "code",
   "execution_count": null,
   "id": "430aa9d9",
   "metadata": {},
   "outputs": [],
   "source": [
    "#| export\n",
    "@delegates(ft_hx, keep=True)\n",
    "def Checkbox(checked:bool=False, label=None, value=\"1\", **kwargs)->FT:\n",
    "    \"A Checkbox optionally inside a Label\"\n",
    "    if not checked: checked=None\n",
    "    res = Input(type=\"checkbox\", checked=checked, value=value, **kwargs)\n",
    "    if label: res = Label(res, label)\n",
    "    return res"
   ]
  },
  {
   "cell_type": "code",
   "execution_count": null,
   "id": "3d9e3af6",
   "metadata": {},
   "outputs": [
    {
     "data": {
      "text/html": [
       "<label>\n",
       "  <input type=\"checkbox\" checked value=\"1\">\n",
       "Check me out!\n",
       "</label>\n"
      ],
      "text/plain": [
       "<IPython.core.display.HTML object>"
      ]
     },
     "execution_count": null,
     "metadata": {},
     "output_type": "execute_result"
    }
   ],
   "source": [
    "show(Checkbox(True, 'Check me out!'))"
   ]
  },
  {
   "cell_type": "code",
   "execution_count": null,
   "id": "ad99a758",
   "metadata": {},
   "outputs": [],
   "source": [
    "#| export\n",
    "@delegates(ft_hx, keep=True)\n",
    "def Card(*c, header=None, footer=None, **kwargs)->FT:\n",
    "    \"A PicoCSS Card, implemented as an Article with optional Header and Footer\"\n",
    "    if header: c = (Header(header),) + c\n",
    "    if footer: c += (Footer(footer),)\n",
    "    return Article(*c, **kwargs)"
   ]
  },
  {
   "cell_type": "code",
   "execution_count": null,
   "id": "95ea9527",
   "metadata": {},
   "outputs": [
    {
     "data": {
      "text/html": [
       "<article>\n",
       "  <header>\n",
       "    <p>head</p>\n",
       "  </header>\n",
       "body\n",
       "  <footer>\n",
       "    <p>foot</p>\n",
       "  </footer>\n",
       "</article>\n"
      ],
      "text/plain": [
       "<IPython.core.display.HTML object>"
      ]
     },
     "execution_count": null,
     "metadata": {},
     "output_type": "execute_result"
    }
   ],
   "source": [
    "show(Card('body', header=P('head'), footer=P('foot')))"
   ]
  },
  {
   "cell_type": "code",
   "execution_count": null,
   "id": "6108b84c",
   "metadata": {},
   "outputs": [],
   "source": [
    "#| export\n",
    "@delegates(ft_hx, keep=True)\n",
    "def Group(*c, **kwargs)->FT:\n",
    "    \"A PicoCSS Group, implemented as a Fieldset with role 'group'\"\n",
    "    return Fieldset(*c, role=\"group\", **kwargs)"
   ]
  },
  {
   "cell_type": "code",
   "execution_count": null,
   "id": "af029bf2",
   "metadata": {},
   "outputs": [
    {
     "data": {
      "text/html": [
       "<fieldset role=\"group\">\n",
       "  <input>\n",
       "  <button>Save</button>\n",
       "</fieldset>\n"
      ],
      "text/plain": [
       "<IPython.core.display.HTML object>"
      ]
     },
     "execution_count": null,
     "metadata": {},
     "output_type": "execute_result"
    }
   ],
   "source": [
    "show(Group(Input(), Button(\"Save\")))"
   ]
  },
  {
   "cell_type": "code",
   "execution_count": null,
   "id": "e12b6a7c",
   "metadata": {},
   "outputs": [],
   "source": [
    "#| export\n",
    "@delegates(ft_hx, keep=True)\n",
    "def Search(*c, **kwargs)->FT:\n",
    "    \"A PicoCSS Search, implemented as a Form with role 'search'\"\n",
    "    return Form(*c, role=\"search\", **kwargs)"
   ]
  },
  {
   "cell_type": "code",
   "execution_count": null,
   "id": "a9c38825",
   "metadata": {},
   "outputs": [
    {
     "data": {
      "text/html": [
       "<form enctype=\"multipart/form-data\" role=\"search\">\n",
       "  <input type=\"search\">\n",
       "  <button>Search</button>\n",
       "</form>\n"
      ],
      "text/plain": [
       "<IPython.core.display.HTML object>"
      ]
     },
     "execution_count": null,
     "metadata": {},
     "output_type": "execute_result"
    }
   ],
   "source": [
    "show(Search(Input(type=\"search\"), Button(\"Search\")))"
   ]
  },
  {
   "cell_type": "code",
   "execution_count": null,
   "id": "24c4843f",
   "metadata": {},
   "outputs": [],
   "source": [
    "#| export\n",
    "@delegates(ft_hx, keep=True)\n",
    "def Grid(*c, cls='grid', **kwargs)->FT:\n",
    "    \"A PicoCSS Grid, implemented as child Divs in a Div with class 'grid'\"\n",
    "    c = tuple(o if isinstance(o,list) else Div(o) for o in c)\n",
    "    return ft_hx('div', *c, cls=cls, **kwargs)"
   ]
  },
  {
   "cell_type": "code",
   "execution_count": null,
   "id": "0f13c619",
   "metadata": {},
   "outputs": [
    {
     "data": {
      "text/html": [
       "<div class=\"grid\">\n",
       "  <input type=\"color\" value=\"#e66465\">\n",
       "  <input type=\"color\" value=\"#53d2c5\">\n",
       "  <input type=\"color\" value=\"#f6b73c\">\n",
       "</div>\n"
      ],
      "text/plain": [
       "<IPython.core.display.HTML object>"
      ]
     },
     "execution_count": null,
     "metadata": {},
     "output_type": "execute_result"
    }
   ],
   "source": [
    "colors = [Input(type=\"color\", value=o) for o in ('#e66465', '#53d2c5', '#f6b73c')]\n",
    "show(Grid(*colors))"
   ]
  },
  {
   "cell_type": "code",
   "execution_count": null,
   "id": "252a9f5f",
   "metadata": {},
   "outputs": [],
   "source": [
    "#| export\n",
    "@delegates(ft_hx, keep=True)\n",
    "def DialogX(*c, open=None, header=None, footer=None, id=None, **kwargs)->FT:\n",
    "    \"A PicoCSS Dialog, with children inside a Card\"\n",
    "    card = Card(*c, header=header, footer=footer, **kwargs)\n",
    "    return Dialog(card, open=open, id=id)"
   ]
  },
  {
   "cell_type": "code",
   "execution_count": null,
   "id": "9dccbc6a",
   "metadata": {},
   "outputs": [],
   "source": [
    "hdr = Div(Button(aria_label=\"Close\", rel=\"prev\"), P('confirm'))\n",
    "ftr = Div(Button('Cancel', cls=\"secondary\"), Button('Confirm'))\n",
    "d = DialogX('thank you!', header=hdr, footer=ftr, open=None, id='dlgtest')\n",
    "# use js or htmx to display modal"
   ]
  },
  {
   "cell_type": "code",
   "execution_count": null,
   "id": "461bcf58",
   "metadata": {},
   "outputs": [],
   "source": [
    "#| export\n",
    "@delegates(ft_hx, keep=True)\n",
    "def Hidden(value:Any=\"\", **kwargs)->FT:\n",
    "    \"An Input of type 'hidden'\"\n",
    "    return Input(type=\"hidden\", value=value, **kwargs)"
   ]
  },
  {
   "cell_type": "code",
   "execution_count": null,
   "id": "d6e96966",
   "metadata": {},
   "outputs": [],
   "source": [
    "#| export\n",
    "@delegates(ft_hx, keep=True)\n",
    "def Container(*args, **kwargs)->FT:\n",
    "    \"A PicoCSS Container, implemented as a Main with class 'container'\"\n",
    "    return Main(*args, cls=\"container\", **kwargs)"
   ]
  },
  {
   "cell_type": "code",
   "execution_count": null,
   "id": "854dc037",
   "metadata": {},
   "outputs": [],
   "source": [
    "#| export\n",
    "@delegates(ft_html, keep=True)\n",
    "def Script(code:str=\"\", **kwargs)->FT:\n",
    "    \"A Script tag that doesn't escape its code\"\n",
    "    return ft_html('script', NotStr(code), **kwargs)"
   ]
  },
  {
   "cell_type": "code",
   "execution_count": null,
   "id": "d08fe828",
   "metadata": {},
   "outputs": [],
   "source": [
    "#| export\n",
    "@delegates(ft_html, keep=True)\n",
    "def Style(*c, **kwargs)->FT:\n",
    "    \"A Style tag that doesn't escape its code\"\n",
    "    return ft_html('style', map(NotStr,c), **kwargs)"
   ]
  },
  {
   "cell_type": "code",
   "execution_count": null,
   "id": "c77a0e88",
   "metadata": {},
   "outputs": [],
   "source": [
    "#| export\n",
    "def double_braces(s):\n",
    "    \"Convert single braces to double braces if next to special chars or newline\"\n",
    "    s = re.sub(r'{(?=[\\s:;\\'\"]|$)', '{{', s)\n",
    "    return re.sub(r'(^|[\\s:;\\'\"])}', r'\\1}}', s)"
   ]
  },
  {
   "cell_type": "code",
   "execution_count": null,
   "id": "9ca90ee1",
   "metadata": {},
   "outputs": [],
   "source": [
    "#| export\n",
    "def undouble_braces(s):\n",
    "    \"Convert double braces to single braces if next to special chars or newline\"\n",
    "    s = re.sub(r'\\{\\{(?=[\\s:;\\'\"]|$)', '{', s)\n",
    "    return re.sub(r'(^|[\\s:;\\'\"])\\}\\}', r'\\1}', s)"
   ]
  },
  {
   "cell_type": "code",
   "execution_count": null,
   "id": "231b7004",
   "metadata": {},
   "outputs": [],
   "source": [
    "#| export\n",
    "def loose_format(s, **kw):\n",
    "    \"String format `s` using `kw`, without being strict about braces outside of template params\"\n",
    "    if not kw: return s\n",
    "    return undouble_braces(partial_format(double_braces(s), **kw)[0])"
   ]
  },
  {
   "cell_type": "code",
   "execution_count": null,
   "id": "29ceb26a",
   "metadata": {},
   "outputs": [],
   "source": [
    "#| export\n",
    "def ScriptX(fname, type=None, _async=None, defer=None, charset=None, crossorigin=None, integrity=None, **kw):\n",
    "    \"A `script` element with contents read from `fname`\"\n",
    "    attrs = ['src', 'type', 'async', 'defer', 'charset', 'crossorigin', 'integrity', 'nomodule']\n",
    "    scr_kw = {k:kw.pop(k) for k in attrs if k in kw}\n",
    "    s = loose_format(Path(fname).read_text(), **kw)\n",
    "    return Script(s, **scr_kw)"
   ]
  },
  {
   "cell_type": "code",
   "execution_count": null,
   "id": "1e72dac9",
   "metadata": {},
   "outputs": [],
   "source": [
    "#| export\n",
    "def replace_css_vars(css, pre='tpl', **kwargs):\n",
    "    \"Replace `var(--)` CSS variables with `kwargs` if name prefix matches `pre`\"\n",
    "    if not kwargs: return css\n",
    "    def replace_var(m):\n",
    "        var_name = m.group(1).replace('-', '_')\n",
    "        return kwargs.get(var_name, m.group(0))\n",
    "    return re.sub(fr'var\\(--{pre}-([\\w-]+)\\)', replace_var, css)"
   ]
  },
  {
   "cell_type": "code",
   "execution_count": null,
   "id": "9bcbff42",
   "metadata": {},
   "outputs": [],
   "source": [
    "#| export\n",
    "def StyleX(fname, **kw):\n",
    "    \"A `style` element with contents read from `fname` and variables replaced from `kw`\"\n",
    "    s = Path(fname).read_text()\n",
    "    attrs = ['type', 'media', 'scoped', 'title', 'nonce', 'integrity', 'crossorigin']\n",
    "    sty_kw = {k:kw.pop(k) for k in attrs if k in kw}\n",
    "    return Style(replace_css_vars(s, **kw), **sty_kw)"
   ]
  },
  {
   "cell_type": "code",
   "execution_count": null,
   "id": "f87a71fd",
   "metadata": {},
   "outputs": [],
   "source": [
    "#| export\n",
    "def On(code:str, event:str='click', sel:str='', me=True):\n",
    "    \"An async surreal.js script block event handler for `event` on selector `sel`\"\n",
    "    func = 'me' if me else 'any'\n",
    "    if sel: sel=f'\"{sel}\"'\n",
    "    return Script(f'{func}({sel}).on(\"{event}\", async ev=>{{\\nlet e = me(ev);\\n{code}\\n}});\\n')"
   ]
  },
  {
   "cell_type": "code",
   "execution_count": null,
   "id": "5f4fd0b1",
   "metadata": {},
   "outputs": [],
   "source": [
    "#| export\n",
    "def AnyOn(sel:str, code:str, event:str='click'):\n",
    "    \"An `any` async surreal.js script block event handler for `event` on selector `sel`\"\n",
    "    return On(code, event, sel=sel, me=False)"
   ]
  },
  {
   "cell_type": "code",
   "execution_count": null,
   "id": "17895311",
   "metadata": {},
   "outputs": [],
   "source": [
    "#| export\n",
    "def Prev(code:str, event:str='click'):\n",
    "    \"An async surreal.js script block event handler for `event` on previous sibling\"\n",
    "    return On(code, event=event, sel='-')"
   ]
  },
  {
   "cell_type": "code",
   "execution_count": null,
   "id": "917c5ad4",
   "metadata": {},
   "outputs": [],
   "source": [
    "#| export\n",
    "def Me(code:str, sel:str=''):\n",
    "    \"An async surreal.js script block on selector `me(sel)`\"\n",
    "    if sel: sel=f'\"{sel}\"'\n",
    "    return Script(f'(async (ee = me({sel})) => {{\\nlet e = me(ee);\\n{code}\\n}})()\\n')"
   ]
  },
  {
   "cell_type": "code",
   "execution_count": null,
   "id": "da93a394",
   "metadata": {},
   "outputs": [],
   "source": [
    "#| export\n",
    "def Any(sel:str, code:str):\n",
    "    \"An async surreal.js script block on selector `any(sel)`\"\n",
    "    return Script(f'(async (e = any(\"{sel}\")) => {{\\n{code}\\n}})()\\n')"
   ]
  },
  {
   "cell_type": "code",
   "execution_count": null,
   "id": "24d31af2",
   "metadata": {},
   "outputs": [],
   "source": [
    "#| export\n",
    "def run_js(js, id=None, **kw):\n",
    "    \"Run `js` script, auto-generating `id` based on name of caller if needed, and js-escaping any `kw` params\"\n",
    "    if not id: id = sys._getframe(1).f_code.co_name\n",
    "    kw = {k:dumps(v) for k,v in kw.items()}\n",
    "    return Script(js.format(**kw), id=id, hx_swap_oob='true')"
   ]
  },
  {
   "cell_type": "code",
   "execution_count": null,
   "id": "5e6d3c46",
   "metadata": {},
   "outputs": [],
   "source": [
    "#| export\n",
    "@delegates(ft_hx, keep=True)\n",
    "def Titled(title:str=\"FastHTML app\", *args, **kwargs)->FT:\n",
    "    \"An HTML partial containing a `Title`, and `H1`, and any provided children\"\n",
    "    return Title(title), Main(H1(title), *args, cls=\"container\", **kwargs)"
   ]
  },
  {
   "cell_type": "code",
   "execution_count": null,
   "id": "5ba5cf4e",
   "metadata": {},
   "outputs": [],
   "source": [
    "#| export\n",
    "def Socials(title, site_name, description, image, url=None, w=1200, h=630, twitter_site=None, creator=None, card='summary'):\n",
    "    \"OG and Twitter social card headers\"\n",
    "    if not url: url=site_name\n",
    "    if not url.startswith('http'): url = f'https://{url}'\n",
    "    if not image.startswith('http'): image = f'{url}{image}'\n",
    "    res = [Meta(property='og:image', content=image),\n",
    "        Meta(property='og:site_name', content=site_name),\n",
    "        Meta(property='og:image:type', content='image/png'),\n",
    "        Meta(property='og:image:width', content=w),\n",
    "        Meta(property='og:image:height', content=h),\n",
    "        Meta(property='og:type', content='website'),\n",
    "        Meta(property='og:url', content=url),\n",
    "        Meta(property='og:title', content=title),\n",
    "        Meta(property='og:description', content=description),\n",
    "        Meta(name='twitter:image', content=image),\n",
    "        Meta(name='twitter:card', content=card),\n",
    "        Meta(name='twitter:title', content=title),\n",
    "        Meta(name='twitter:description', content=description)]\n",
    "    if twitter_site is not None: res.append(Meta(name='twitter:site',    content=twitter_site))\n",
    "    if creator      is not None: res.append(Meta(name='twitter:creator', content=creator))\n",
    "    return tuple(res)"
   ]
  },
  {
   "cell_type": "code",
   "execution_count": null,
   "id": "28c9496d",
   "metadata": {},
   "outputs": [],
   "source": [
    "#| export\n",
    "def Favicon(light_icon, dark_icon):\n",
    "    \"Light and dark favicon headers\"\n",
    "    return (Link(rel='icon', type='image/x-ico', href=light_icon, media='(prefers-color-scheme: light)'),\n",
    "            Link(rel='icon', type='image/x-ico', href=dark_icon, media='(prefers-color-scheme: dark)'))"
   ]
  },
  {
   "cell_type": "code",
   "execution_count": null,
   "id": "500110e5",
   "metadata": {},
   "outputs": [],
   "source": [
    "#| export\n",
    "def jsd(org, repo, root, path, prov='gh', typ='script', ver=None, esm=False, **kwargs)->FT:\n",
    "    \"jsdelivr `Script` or CSS `Link` tag, or URL\"\n",
    "    ver = '@'+ver if ver else ''\n",
    "    s = f'https://cdn.jsdelivr.net/{prov}/{org}/{repo}{ver}/{root}/{path}'\n",
    "    if esm: s += '/+esm'\n",
    "    return Script(src=s, **kwargs) if typ=='script' else Link(rel='stylesheet', href=s, **kwargs) if typ=='css' else s"
   ]
  },
  {
   "cell_type": "markdown",
   "id": "474e14b4",
   "metadata": {},
   "source": [
    "# Export -"
   ]
  },
  {
   "cell_type": "code",
   "execution_count": null,
   "id": "d211e8e2",
   "metadata": {},
   "outputs": [],
   "source": [
    "#|hide\n",
    "import nbdev; nbdev.nbdev_export()"
   ]
  },
  {
   "cell_type": "code",
   "execution_count": null,
   "id": "0a942593",
   "metadata": {},
   "outputs": [],
   "source": []
  }
 ],
 "metadata": {
  "kernelspec": {
   "display_name": "python3",
   "language": "python",
   "name": "python3"
  }
 },
 "nbformat": 4,
 "nbformat_minor": 5
}
