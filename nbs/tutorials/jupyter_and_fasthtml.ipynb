{
 "cells": [
  {
   "cell_type": "markdown",
   "id": "2a2294a7",
   "metadata": {},
   "source": [
    "# Using Jupyter to write FastHTML"
   ]
  },
  {
   "cell_type": "markdown",
   "id": "4b1ee344",
   "metadata": {},
   "source": [
    "To wrote FastHTML applications in Jupyter notebooks requires a slightly different process than normal Python applications. "
   ]
  },
  {
   "cell_type": "markdown",
   "id": "a6ef2da3",
   "metadata": {},
   "source": [
    ":::{.callout-tip title='Download this notebook and try it yourself'}\n",
    "The source code for this page is a [Jupyter notebook](https://github.com/AnswerDotAI/fasthtml/blob/main/nbs/tutorials/jupyter_and_fasthtml.ipynb). That makes it easy to directly experiment with it. However, as this is working code that means we have to comment out a few things in order for the documentation to build.\n",
    ":::"
   ]
  },
  {
   "cell_type": "markdown",
   "id": "3f506c4a",
   "metadata": {},
   "source": [
    "## Getting started"
   ]
  },
  {
   "cell_type": "markdown",
   "id": "3bdd7e4a",
   "metadata": {},
   "source": [
    "The first step is to import necessary libraries. As using FastHTML inside a Jupyter notebook is a special case, it remains a special import. "
   ]
  },
  {
   "cell_type": "code",
   "execution_count": null,
   "id": "e244a34a",
   "metadata": {},
   "outputs": [],
   "source": [
    "from fasthtml.common import *\n",
    "from fasthtml.jupyter import *"
   ]
  },
  {
   "cell_type": "markdown",
   "id": "7f38039a",
   "metadata": {},
   "source": [
    "Let's use `jupy_app` to instantiate `app` and `rt` objects. `jupy_app` is a thin wrapper around the `fast_app` function."
   ]
  },
  {
   "cell_type": "code",
   "execution_count": null,
   "id": "631895d3",
   "metadata": {},
   "outputs": [],
   "source": [
    "app, rt = jupy_app()"
   ]
  },
  {
   "cell_type": "markdown",
   "id": "d24f2972",
   "metadata": {},
   "source": [
    "Define a route to test the application."
   ]
  },
  {
   "cell_type": "code",
   "execution_count": null,
   "id": "82f14ebd",
   "metadata": {},
   "outputs": [],
   "source": [
    "@rt\n",
    "def index():\n",
    "    return Titled('Hello, Jupyter',\n",
    "           P('Welcome to the FastHTML + Jupyter example')\n",
    "    )"
   ]
  },
  {
   "cell_type": "markdown",
   "id": "30fc1b5d",
   "metadata": {},
   "source": [
    "Set the `port` in a variable so it can be more easily shared between the `server` and `HTMX` symbols described below."
   ]
  },
  {
   "cell_type": "code",
   "execution_count": null,
   "id": "3f6c3577",
   "metadata": {},
   "outputs": [],
   "source": [
    "port = 8000"
   ]
  },
  {
   "cell_type": "markdown",
   "id": "e512dbab",
   "metadata": {},
   "source": [
    "Create a `server` object using `JupyUvi`, which also starts Uvicorn. The `server` runs in a separate thread from Jupyter, so it can use normal HTTP client functions in a notebook."
   ]
  },
  {
   "cell_type": "code",
   "execution_count": null,
   "id": "3b815c60",
   "metadata": {},
   "outputs": [],
   "source": [
    "# Run locally, uncomment this line to create and start the server\n",
    "# server = JupyUvi(app, port=port)"
   ]
  },
  {
   "cell_type": "markdown",
   "id": "7341b10a",
   "metadata": {},
   "source": [
    "The `HTMX` callable displays the server's HTMX application in an iframe which can be displayed by Jupyter notebook. Pass in the same `port` variable used in the `JupyUvi` callable above."
   ]
  },
  {
   "cell_type": "code",
   "execution_count": null,
   "id": "e7d4e6fa",
   "metadata": {},
   "outputs": [
    {
     "data": {
      "text/html": [
       "<iframe src=\"http://localhost:8000\" style=\"width: 100%; height: auto; border: none;\" onload=\"{\n",
       "        let frame = this;\n",
       "        window.addEventListener('message', function(e) {\n",
       "            if (e.data.height) frame.style.height = (e.data.height+1) + 'px';\n",
       "        }, false);\n",
       "    }\" allow=\"accelerometer; autoplay; camera; clipboard-read; clipboard-write; display-capture; encrypted-media; fullscreen; gamepad; geolocation; gyroscope; hid; identity-credentials-get; idle-detection; magnetometer; microphone; midi; payment; picture-in-picture; publickey-credentials-get; screen-wake-lock; serial; usb; web-share; xr-spatial-tracking\"></iframe> "
      ],
      "text/plain": [
       "<IPython.core.display.HTML object>"
      ]
     },
     "execution_count": null,
     "metadata": {},
     "output_type": "execute_result"
    }
   ],
   "source": [
    "# Run locally, uncomment this line to display the HTMX application in Jupyter\n",
    "HTMX(port=port)"
   ]
  },
  {
   "cell_type": "markdown",
   "id": "fb8e5cb4",
   "metadata": {},
   "source": [
    "## Refreshing the HTMX() view"
   ]
  },
  {
   "cell_type": "markdown",
   "id": "689aacfc",
   "metadata": {},
   "source": [
    "If we change the above view, we don't need to run `server = JupyUvi(app, port=port)` again. All we need to do is refresh the cell that contains `HTMX(port=port)`. This also applies to other tasks like importing more Python libraries, adding functions, general debugging, and more. To try it out:\n",
    "\n",
    "1. Change the `Titled()` FT Component from \"Hello, Jupyter\" to say \"Hello, FastHTML\"\n",
    "2. Refresh the Jupyter cell containing `HTMX(port=port) "
   ]
  },
  {
   "cell_type": "markdown",
   "id": "0fb908e6",
   "metadata": {},
   "source": [
    "## Full screen view"
   ]
  },
  {
   "cell_type": "markdown",
   "id": "b3ee64b6",
   "metadata": {},
   "source": [
    "\n",
    "You can view your app outside of Jupyter by going to `localhost:PORT`, where `PORT` is what you set the `port` variable to. This can be useful for debugging. Unless you change the `port` value in this tutorial, just click on this link: [localhost:8000/](http://localhost:8000/).\n",
    "\n",
    "Understand that this is FastHTML running in Jupyter mode, so things will look different. For example, unlike `fast_app`, `jupy_app` doesn't include Picoweb CSS as a default."
   ]
  },
  {
   "cell_type": "markdown",
   "id": "b410c112",
   "metadata": {},
   "source": [
    "## Graceful shutdowns"
   ]
  },
  {
   "cell_type": "markdown",
   "id": "86554c9d",
   "metadata": {},
   "source": [
    "Use the `server.stop()` function displayed below. If you restart Jupyter without calling this line the thread may not be released and the `HTMX` callable above may throw errors. If that happens, a quick temporary fix is to change the `port` number above to something else.\n",
    "\n",
    "Cleaner solutions to the dangling thread are to kill the dangling thread (dependant on each operating system) or restart the computer."
   ]
  },
  {
   "cell_type": "code",
   "execution_count": null,
   "id": "6650d9bc",
   "metadata": {},
   "outputs": [],
   "source": [
    "# Run locally, uncomment this line to stop the server\n",
    "# server.stop()"
   ]
  },
  {
   "cell_type": "markdown",
   "id": "d76484ec",
   "metadata": {},
   "source": []
  }
 ],
 "metadata": {
  "kernelspec": {
   "display_name": "python3",
   "language": "python",
   "name": "python3"
  }
 },
 "nbformat": 4,
 "nbformat_minor": 5
}
