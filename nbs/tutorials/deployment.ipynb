{
 "cells": [
  {
   "cell_type": "markdown",
   "metadata": {},
   "source": [
    "# Deploying FastHTML Apps"
   ]
  },
  {
   "cell_type": "markdown",
   "metadata": {},
   "source": [
    "FastHTML apps can be deployed to a number of platforms including HuggingFace, Railway, Replit & Vercel. Deployment guides for each platform can be found [here](https://github.com/AnswerDotAI/fh-deploy).\n",
    "\n",
    "::: {.callout-note}\n",
    "We are actively working on supporting more hosting providers. If you would like to add a guide for another platform feel free to submit a PR [here](https://github.com/AnswerDotAI/fh-deploy).\n",
    ":::"
   ]
  }
 ],
 "metadata": {},
 "nbformat": 4,
 "nbformat_minor": 2
}
