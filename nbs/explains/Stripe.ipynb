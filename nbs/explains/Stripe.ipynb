{
 "cells": [
  {
   "cell_type": "markdown",
   "id": "215df754",
   "metadata": {},
   "source": [
    "# Stripe Explanation"
   ]
  },
  {
   "cell_type": "markdown",
   "id": "b8813452",
   "metadata": {},
   "source": [
    "This guide will walk through a minimal example of working with a Stripe one-time payment link and webhook.\n",
    "\n",
    "To get started we can import the stripe library and authenticate with a stripe API key that you can get from the stripe web UI."
   ]
  },
  {
   "cell_type": "code",
   "execution_count": null,
   "id": "3570a68b",
   "metadata": {},
   "outputs": [],
   "source": [
    "#| export\n",
    "from fasthtml.common import *\n",
    "import os"
   ]
  },
  {
   "cell_type": "markdown",
   "id": "dc428f2e",
   "metadata": {},
   "source": [
    "## Stripe Authentication"
   ]
  },
  {
   "cell_type": "code",
   "execution_count": null,
   "id": "8053cd4a",
   "metadata": {},
   "outputs": [],
   "source": [
    "#| export\n",
    "import stripe"
   ]
  },
  {
   "cell_type": "code",
   "execution_count": null,
   "id": "4a2b99a8",
   "metadata": {},
   "outputs": [],
   "source": [
    "#| export\n",
    "stripe.api_key = os.environ.get(\"STRIPE_SECRET_KEY\")\n",
    "DOMAIN_URL = os.environ.get(\"DOMAIN_URL\", \"http://localhost:5001\")"
   ]
  },
  {
   "cell_type": "markdown",
   "id": "a48b90ec",
   "metadata": {},
   "source": [
    "You can get this api key from the Stripe Dashboard by going to [this url](https://dashboard.stripe.com/test/apikeys).\n",
    "\n",
    "> Note: Make sure you have test mode turned on"
   ]
  },
  {
   "cell_type": "markdown",
   "id": "6fc556ba",
   "metadata": {},
   "source": [
    "![](StripeDashboard_API_Key.png)"
   ]
  },
  {
   "cell_type": "markdown",
   "id": "ee5dcc87",
   "metadata": {},
   "source": [
    "Make sure you are using a test key for this tutorial"
   ]
  },
  {
   "cell_type": "code",
   "execution_count": null,
   "id": "932640d2",
   "metadata": {},
   "outputs": [],
   "source": [
    "assert 'test' in stripe.api_key"
   ]
  },
  {
   "cell_type": "markdown",
   "id": "5d8d7745",
   "metadata": {},
   "source": [
    "## Pre-app setup"
   ]
  },
  {
   "cell_type": "markdown",
   "id": "2bb9711e",
   "metadata": {},
   "source": [
    "### Create a product"
   ]
  },
  {
   "cell_type": "markdown",
   "id": "086e35e0",
   "metadata": {},
   "source": [
    "These are steps that you can do to programatically create a product an associate a price to that product.  Typically this is not something you do dynamically in the app, but rather something you set up one time."
   ]
  },
  {
   "cell_type": "code",
   "execution_count": null,
   "id": "24d56401",
   "metadata": {},
   "outputs": [],
   "source": [
    "#| export\n",
    "product = stripe.Product.create(name=\"Demo Product\")\n",
    "price = stripe.Price.create(product=product.id, unit_amount=1999, currency=\"usd\")"
   ]
  },
  {
   "cell_type": "code",
   "execution_count": null,
   "id": "7a78b390",
   "metadata": {},
   "outputs": [
    {
     "name": "stdout",
     "output_type": "stream",
     "text": [
      "Price ID = price_1Qz3hRKGhqIw9PXmD2B1PTHS\n"
     ]
    }
   ],
   "source": [
    "print(f\"Price ID = {price.id}\")"
   ]
  },
  {
   "cell_type": "markdown",
   "id": "5158c3bf",
   "metadata": {},
   "source": [
    "We will need the price ID later - we've printed it for you here but you can find it on your dashboard as well."
   ]
  },
  {
   "cell_type": "markdown",
   "id": "4a0fff42",
   "metadata": {},
   "source": [
    "### Create a webook"
   ]
  },
  {
   "cell_type": "markdown",
   "id": "44dea9f8",
   "metadata": {},
   "source": [
    "A webhook is a way for Stripe (the payment processor) to notify your application when something happens with a payment. Think of it like a delivery notification: when a customer completes a payment, Stripe needs to tell your application so you can update your records, send confirmation emails, or provide access to purchased content.\n",
    "\n",
    "Since your application runs locally during development (only accessible on your computer), Stripe can't reach it directly. The Stripe CLI tool creates a secure tunnel that forwards these payment notifications from Stripe's servers to your local application. The webhook secret is like a password that ensures these notifications are actually coming from Stripe and not someone else pretending to be Stripe.\n",
    "\n",
    "\n",
    "```bash\n",
    "stripe listen --forward-to http://localhost:5001/webhook\n",
    "```\n",
    "\n",
    "Take the secret it gives you and set it to an environment variable.\n",
    "\n",
    "```bash\n",
    "export STRIPE_LOCAL_TEST_WEBHOOK_SECRET=<your-secret>\n",
    "```"
   ]
  },
  {
   "cell_type": "markdown",
   "id": "569793f5",
   "metadata": {},
   "source": [
    "For a deployed app, you need a permenent webhook connection instead of the stripe CLI utility.\n",
    "\n",
    "This code creates a permanent webhook connection between Stripe and your application. Unlike the local testing tool which creates a temporary tunnel, this establishes an official notification channel where Stripe will send real-time updates about payments to your application's /webhook URL.\n",
    "\n",
    "The webhook is configured to notify your app about specific payment events (completed checkouts, successful payments, and failed payments). Stripe authenticates these notifications using a secret key, ensuring they're legitimate. This is essential for production environments where your app needs to automatically respond to payment activities without manual intervention."
   ]
  },
  {
   "cell_type": "markdown",
   "id": "f6a9add0",
   "metadata": {},
   "source": [
    "```python\n",
    "stripe.WebhookEndpoint.create(\n",
    "        url=f\"{DOMAIN_URL}/webhook\",\n",
    "        enabled_events=[\"checkout.session.completed\",\n",
    "                        \"payment_intent.succeeded\",\n",
    "                        \"payment_intent.payment_failed\"],\n",
    "        description=\"Webhook for payment notifications\")\n",
    "WEBHOOK_SECRET = webhook_endpoint.secret\n",
    "print(f\"Created webhook endpoint: {webhook_endpoint.id}\")\n",
    "```"
   ]
  },
  {
   "cell_type": "markdown",
   "id": "61c07ab8",
   "metadata": {},
   "source": [
    "## App"
   ]
  },
  {
   "cell_type": "markdown",
   "id": "7a66f891",
   "metadata": {},
   "source": [
    "### Setup to have the right information"
   ]
  },
  {
   "cell_type": "markdown",
   "id": "24656d60",
   "metadata": {},
   "source": [
    "In order to accept a payment, you need to know who is making the payment.\n",
    "\n",
    "There are many ways to accomplish this, for example using [oauth]() or a form.  For this example we will start with hardcoding an email address into  a session to simulate what it would look like with oauth."
   ]
  },
  {
   "cell_type": "code",
   "execution_count": null,
   "id": "32440b4c",
   "metadata": {},
   "outputs": [],
   "source": [
    "#| export\n",
    "def before(sess): sess['auth'] = 'hamel@hamel.com'\n",
    "bware = Beforeware(before, skip=['/webhook'])\n",
    "app, rt = fast_app(before=bware)"
   ]
  },
  {
   "cell_type": "markdown",
   "id": "1f2fb430",
   "metadata": {},
   "source": [
    "We will need our webhook secret that was created.  For this tutorial, we will be using the local development environment variable that was created above."
   ]
  },
  {
   "cell_type": "code",
   "execution_count": null,
   "id": "d5459425",
   "metadata": {},
   "outputs": [],
   "source": [
    "#| export\n",
    "WEBHOOK_SECRET = os.getenv(\"STRIPE_LOCAL_TEST_WEBHOOK_SECRET\")"
   ]
  },
  {
   "cell_type": "markdown",
   "id": "7b6cc813",
   "metadata": {},
   "source": [
    "### Payment Setup"
   ]
  },
  {
   "cell_type": "markdown",
   "id": "2bceec10",
   "metadata": {},
   "source": [
    "We need 2 things first:\n",
    "1. A button for users to click to pay\n",
    "1. A route that gives stripe the information it needs to process the payment"
   ]
  },
  {
   "cell_type": "code",
   "execution_count": null,
   "id": "f9924a82",
   "metadata": {},
   "outputs": [],
   "source": [
    "#| export\n",
    "@rt(\"/\")\n",
    "def home(sess):\n",
    "    auth = sess['auth']\n",
    "    return Titled(\n",
    "        \"Buy Now\", \n",
    "        Div(H2(\"Demo Product - $19.99\"),\n",
    "            P(f\"Welcome, {auth}\"),\n",
    "            Button(\"Buy Now\", hx_post=\"/create-checkout-session\", hx_swap=\"none\")))"
   ]
  },
  {
   "cell_type": "code",
   "execution_count": null,
   "id": "5d7594b0",
   "metadata": {},
   "outputs": [],
   "source": [
    "#| export\n",
    "@rt(\"/create-checkout-session\", methods=[\"POST\"])\n",
    "async def create_checkout_session(sess):\n",
    "    checkout_session = stripe.checkout.Session.create(\n",
    "        line_items=[{'price': price.id, 'quantity': 1}],\n",
    "        mode='payment',\n",
    "        payment_method_types=['card'],  # Only allow card payments\n",
    "        customer_email=sess['auth'],\n",
    "        metadata={'app_name': 'MyFastApp', \n",
    "                  'AnyOther': 'Metadata',},\n",
    "        # CHECKOUT_SESSION_ID is a special variable Stripe fills in for you\n",
    "        success_url=DOMAIN_URL + '/success?checkout_sid={CHECKOUT_SESSION_ID}',\n",
    "        cancel_url=DOMAIN_URL + '/cancel')\n",
    "    return Redirect(checkout_session.url)"
   ]
  },
  {
   "cell_type": "markdown",
   "id": "f243397a",
   "metadata": {},
   "source": [
    "This section creates two key components: a simple webpage with a \"Buy Now\" button, and a function that handles what happens when that button is clicked. \n",
    "\n",
    "When a customer clicks \"Buy Now,\" the app creates a Stripe checkout session (essentially a payment page) with product details, price, and customer information. Stripe then takes over the payment process, showing the customer a secure payment form. After payment is completed or canceled, Stripe redirects the customer back to your app using the success or cancel URLs you specified. This approach keeps sensitive payment details off your server, as Stripe handles the actual transaction."
   ]
  },
  {
   "cell_type": "markdown",
   "id": "eedb2090",
   "metadata": {},
   "source": [
    "### Post-Payment Processing"
   ]
  },
  {
   "cell_type": "markdown",
   "id": "1fbb423b",
   "metadata": {},
   "source": [
    "After a payment is processed, we need to handle both successful payments and cancellations, as well as listen for webhook notifications from Stripe.\n",
    "\n",
    "The success and cancel routes provide immediate feedback to customers after they complete or abandon a payment. When a customer successfully pays, they're redirected to a confirmation page that displays their session ID. If they cancel, they see a simple cancellation message."
   ]
  },
  {
   "cell_type": "code",
   "execution_count": null,
   "id": "ea17a1bb",
   "metadata": {},
   "outputs": [],
   "source": [
    "#| export\n",
    "@rt(\"/success\")\n",
    "def success(sess, checkout_sid:str):    \n",
    "    try:\n",
    "        # Verify the session exists and is paid\n",
    "        email = sess['auth']\n",
    "        checkout_session = stripe.checkout.Session.retrieve(checkout_sid) \n",
    "        if checkout_session.payment_status != 'paid': return Redirect(\"/\")\n",
    "        if checkout_session.customer_email != email: return Redirect(\"/\")\n",
    "        \n",
    "        # Get payment record from database\n",
    "        payment = payments.fetchone(\"checkout_session_id=?\", (checkout_sid,))\n",
    "        if not payment: return Titled(\"Error\", P(\"Payment not found\"))\n",
    "        \n",
    "        return Titled(\n",
    "            \"Success\",\n",
    "            Div(H2(\"Payment Successful!\"),\n",
    "                P(f\"Thank you for your purchase, {email}\"),\n",
    "                P(f\"Amount Paid: ${payment.amount / 100:.2f}\"),\n",
    "                P(f\"Status: {payment.payment_status}\"),\n",
    "                P(f\"Transaction ID: {payment.checkout_session_id}\"),\n",
    "                A(\"Back to Home\", href=\"/\")))\n",
    "\n",
    "    except stripe.error.StripeError: return Redirect(\"/\")\n",
    "    \n",
    "@rt(\"/cancel\")\n",
    "def cancel():\n",
    "    return Titled(\n",
    "        \"Cancelled\",\n",
    "        Div(H2(\"Payment Cancelled\"),\n",
    "            P(\"Your payment was cancelled.\"),\n",
    "            A(\"Back to Home\", href=\"/\")))"
   ]
  },
  {
   "cell_type": "markdown",
   "id": "b6c72fb8",
   "metadata": {},
   "source": [
    "The webhook route is where Stripe sends automated notifications about payment events. When a payment is completed, Stripe sends a secure notification to this endpoint. The code verifies this notification is legitimate using the webhook secret, then processes the event data - extracting information like the customer's email and payment status. This allows your application to automatically update user accounts, trigger fulfillment processes, or record transaction details without manual intervention."
   ]
  },
  {
   "cell_type": "code",
   "execution_count": null,
   "id": "11352115",
   "metadata": {},
   "outputs": [],
   "source": [
    "#| export\n",
    "# Database Table\n",
    "class Payment:\n",
    "    checkout_session_id: str  # Stripe checkout session ID (primary key)\n",
    "    email: str \n",
    "    amount: int  # Amount paid in cents\n",
    "    payment_status: str  # paid, pending, failed\n",
    "    created_at: int # Unix timestamp\n",
    "    metadata: str  # Additional payment metadata as JSON"
   ]
  },
  {
   "cell_type": "code",
   "execution_count": null,
   "id": "52ccba4e",
   "metadata": {},
   "outputs": [],
   "source": [
    "#| export\n",
    "db = Database(\"stripe_payments.db\")\n",
    "payments = db.create(Payment, pk='checkout_session_id', transform=True)"
   ]
  },
  {
   "cell_type": "code",
   "execution_count": null,
   "id": "0802a6f1",
   "metadata": {},
   "outputs": [],
   "source": [
    "#| export\n",
    "@rt(\"/webhook\")\n",
    "async def post(req):\n",
    "    payload = await req.body()\n",
    "    # Verify the event came from Stripe\n",
    "    try:\n",
    "        event = stripe.Webhook.construct_event(\n",
    "            payload, req.headers.get(\"stripe-signature\"), WEBHOOK_SECRET)\n",
    "    except Exception as e:\n",
    "        print(f\"Webhook error: {e}\")\n",
    "\n",
    "    if event and event.type == \"checkout.session.completed\":\n",
    "        event_data = event.data.object\n",
    "        if event_data.metadata.get('app_name') == 'MyFastApp':\n",
    "            payments.insert(Payment(\n",
    "                checkout_session_id=event_data.id,\n",
    "                email=event_data.customer_email,\n",
    "                amount=event_data.amount_total,\n",
    "                payment_status=event_data.payment_status,\n",
    "                created_at=event_data.created,\n",
    "                metadata=str(event_data.metadata)))\n",
    "            print(f\"Payment recorded for user: {event_data.customer_email}\")"
   ]
  },
  {
   "cell_type": "markdown",
   "id": "9cb3f17f",
   "metadata": {},
   "source": [
    "This image shows Stripe's payment page that customers see after clicking the \"Buy Now\" button. When your app redirects to the Stripe checkout URL, Stripe displays this secure payment form where customers enter their card details. For testing purposes, you can use Stripe's test card number (4242 4242 4242 4242) with any future expiration date and any 3-digit CVC code. This test card will successfully process payments in test mode without charging real money. The form shows the product name and price that were configured in your Stripe session, providing a seamless transition from your app to the payment processor and back again after completion."
   ]
  },
  {
   "cell_type": "markdown",
   "id": "7f7504b6",
   "metadata": {},
   "source": [
    "![](StripePaymentPage.jpg)"
   ]
  },
  {
   "cell_type": "markdown",
   "id": "044a4294",
   "metadata": {},
   "source": [
    "Once you have processed the payemnts you can see each record in the sqlite database that was stored in the webhook."
   ]
  },
  {
   "cell_type": "code",
   "execution_count": null,
   "id": "7f1fe3ab",
   "metadata": {},
   "outputs": [
    {
     "data": {
      "text/plain": [
       "[Payment(checkout_session_id='cs_test_a1ExKxmnvZchjoPWAeQ2oPh1v370JxtEkQcSKFaK862WmlZhU7jfKdYdBe', email='hamel@hamel.com', amount=1999, payment_status='paid', created_at=1741126319, metadata='{\\n  \"AnyOther\": \"Metadata\",\\n  \"app_name\": \"MyFastApp\"\\n}'),\n",
       " Payment(checkout_session_id='cs_test_a1ySporq7nz1im1nmU05fNN9viBXina7gk2yNEChmdXkLpkoDWHrA6Vmmi', email='hamel@hamel.com', amount=1999, payment_status='paid', created_at=1741126448, metadata='{\\n  \"AnyOther\": \"Metadata\",\\n  \"app_name\": \"MyFastApp\"\\n}')]"
      ]
     },
     "execution_count": null,
     "metadata": {},
     "output_type": "execute_result"
    }
   ],
   "source": [
    "payments()"
   ]
  },
  {
   "cell_type": "code",
   "execution_count": null,
   "id": "730cdbae",
   "metadata": {},
   "outputs": [],
   "source": [
    "#| export\n",
    "serve()"
   ]
  }
 ],
 "metadata": {
  "kernelspec": {
   "display_name": "python3",
   "language": "python",
   "name": "python3"
  }
 },
 "nbformat": 4,
 "nbformat_minor": 5
}
