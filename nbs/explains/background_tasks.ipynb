{
 "cells": [
  {
   "cell_type": "markdown",
   "metadata": {},
   "source": [
    "# Background Tasks\n",
    "\n",
    "> Background tasks are functions run after handlers return a response."
   ]
  },
  {
   "cell_type": "markdown",
   "metadata": {},
   "source": [
    "Useful for operations where the users gets a response quickly but doesn't need to wait for the operation to finish. Typical scenarios include:\n",
    "\n",
    "- User setup in complex systems where you can inform the user and other people later in email that their account is complete\n",
    "- Batch processes that can take a significant amount of time (bulk email or API calls)\n",
    "- Any other process where the user can be notified later by email, websocket, webhook, or pop-up"
   ]
  },
  {
   "cell_type": "markdown",
   "metadata": {},
   "source": [
    "Background tasks are an easy-to-use wrapper over Python's async and threading libraries. Used to improve user experience, background tasks often making apps feel faster to the end user."
   ]
  },
  {
   "cell_type": "markdown",
   "metadata": {},
   "source": [
    "## A simple background task example"
   ]
  },
  {
   "cell_type": "markdown",
   "metadata": {},
   "source": [
    "In this example attaching a task to FtResponse by assigning it via the background argument. When the page is visited, it will display 'Simple Background Task Example' almost instantly, while in the terminal it will slowly count upward from 0."
   ]
  },
  {
   "cell_type": "markdown",
   "metadata": {},
   "source": [
    "``` {.python filename=\"main.py\" code-line-numbers=\"true\"}\n",
    "from fasthtml.common import *\n",
    "from starlette.background import BackgroundTask\n",
    "from time import time, sleep\n",
    "\n",
    "app, rt = fast_app()\n",
    "\n",
    "def counter(loops:int): # <1>\n",
    "    \"\"\"Slowly print integers to the terminal\"\"\"\n",
    "    for i in range(loops):\n",
    "        print(i)\n",
    "        sleep(i)\n",
    "\n",
    "@rt\n",
    "def index():\n",
    "    task = BackgroundTask(counter, loops=5)  # <2>\n",
    "    cts = Titled('Simple Background Task Example')\n",
    "    return FtResponse(cts, background=task) # <3>\n",
    "\n",
    "serve()\n",
    "```\n",
    "\n",
    "1. `counter` is our task function. There is nothing special about it, although it is a good practice for its arguments to be serializable as JSON\n",
    "2. We use `starlette.background.BackgroundTask` to turn the task_counter function into a background task\n",
    "3. `FtResponse` is called explicitly so we can attack the task to its background. Normally we don't need to call `FtResponse` explicitly, setting background tasks is the exception."
   ]
  },
  {
   "cell_type": "markdown",
   "metadata": {},
   "source": [
    "## A more realistic example"
   ]
  },
  {
   "cell_type": "markdown",
   "metadata": {},
   "source": [
    "Let's imagine that we are accessing a slow-to-process critical service. We don't want our users to have to wait. While we could set up SSE to notify on completion, instead we decide to periodically check to see if the status of their record has changed.\n",
    "\n",
    "First, create a very simple slow timestamp API. All it does is stall requests for a few seconds before returning JSON containing timestamps."
   ]
  },
  {
   "cell_type": "markdown",
   "metadata": {},
   "source": [
    "```python\n",
    "# slow_api.py\n",
    "from fasthtml.common import *\n",
    "from time import sleep, time\n",
    "\n",
    "app, rt = fast_app()\n",
    "\n",
    "@rt('/slow/{ts}')\n",
    "def slow(ts: int):\n",
    "    sleep(3)\n",
    "    return dict(ts=ts, response_ts=int(time()))\n",
    "\n",
    "serve(port=8123)\n",
    "```"
   ]
  },
  {
   "cell_type": "markdown",
   "metadata": {},
   "source": [
    "Now let's create a website that uses this API to fetch the timestamp from the glacially slow service."
   ]
  },
  {
   "cell_type": "markdown",
   "metadata": {},
   "source": [
    "```python\n",
    "# main.py\n",
    "from fasthtml.common import *\n",
    "from fastlite import *\n",
    "from starlette.background import BackgroundTask\n",
    "import time\n",
    "import httpx\n",
    "\n",
    "app, rt = fast_app()\n",
    "\n",
    "db = database(':memory:')\n",
    "\n",
    "class Moment: ts: int; response_ts: int\n",
    "moments = db.create(Moment, pk='ts')\n",
    "\n",
    "def task_submit(ts:int): # <1>\n",
    "    # This task function calls the slow service, representing a slow process that\n",
    "    # we've encapsulated in a function.\n",
    "    client = httpx.Client()\n",
    "    r = client.post(f'http://127.0.0.1:8123/slow/{ts}')\n",
    "    moments.insert(**r.json())\n",
    "\n",
    "@rt\n",
    "def submit():\n",
    "    ts = int(time.time())\n",
    "    task = BackgroundTask(task_submit, ts=ts) # <2> \n",
    "    cts = P(f'Submitted: {ts}')\n",
    "    return FtResponse(cts, background=task) # <3> \n",
    "\n",
    "@rt\n",
    "def showmoments(): return Ul(*[Li(m) for m in moments()])\n",
    "\n",
    "@rt\n",
    "def index():\n",
    "    return Titled('Background Task Dashboard',\n",
    "        P(Button('Press to call slow service', # <4> \n",
    "            hx_post='/submit', hx_target='#res')),\n",
    "        P('', id='res'),\n",
    "        Div(Ul(*[Li(m) for m in moments()]),\n",
    "            hx_get=showmoments, hx_trigger='every 5s'), # <5>\n",
    "    )\n",
    "\n",
    "serve()\n",
    "```\n",
    "\n",
    "1. It is common, but not necessary to prefix task functions with 'task_'\n",
    "2. Create a background task by passing in the function to a BackgroundTask object, followed by any arguments.\n",
    "3. In FtResponse, use the background keyword argument to set the task to be run after the HTTP Response is generated.\n",
    "4. When this button is pressed, the 'submit' handler will respond instantly. The task_submit function will insert the slow API response into the db later. \n",
    "5. Every 5 seconds get the moments stored in the DB."
   ]
  },
  {
   "cell_type": "markdown",
   "metadata": {},
   "source": [
    "::: {.callout-tip}\n",
    "\n",
    "In the example above we use a synchronous background task function set in the `FtResponse` of a synchronous handler. However, we can also use asynchronous functions and handlers.\n",
    "\n",
    ":::"
   ]
  },
  {
   "cell_type": "markdown",
   "metadata": {},
   "source": [
    "## Multiple background tasks in a handler"
   ]
  },
  {
   "cell_type": "markdown",
   "metadata": {},
   "source": [
    "It is possible to add multiple background tasks to an FtResponse."
   ]
  },
  {
   "cell_type": "markdown",
   "metadata": {},
   "source": [
    "```python\n",
    "from fasthtml.common import *\n",
    "from starlette.background import BackgroundTasks\n",
    "\n",
    "@rt\n",
    "async def signup(email, username):\n",
    "    tasks = BackgroundTasks()\n",
    "    tasks.add_task(send_welcome_email, to_address=email)\n",
    "    tasks.add_task(send_admin_notification, username=username)\n",
    "    cts = Titled('Signup successful!')\n",
    "    return FtResponse(cts, background=tasks)\n",
    "\n",
    "async def send_welcome_email(to_address):\n",
    "    ...\n",
    "\n",
    "async def send_admin_notification(username):\n",
    "    ...\n",
    "```"
   ]
  },
  {
   "cell_type": "markdown",
   "metadata": {},
   "source": [
    "::: {.callout-caution}\n",
    "## Background tasks are not distributed task queues\n",
    "\n",
    "While background tasks often provide the user with a faster experience, the server itself isn't accelerated. What that means is that processes are still happening, but are hidden. So if a server is struggling under the load of a lot of user activity, so long as it isn't an issue with open HTTP connections consuming resources, background tasks won't help with server load.\n",
    "\n",
    "This is where full-fledged distributed task queue libraries like Celery and Dramatiq come into play. At the cost of dramatically increased complexity over background tasks, they allow for the distribution of tasks over additional servers. These libraries also provide improved observability, retry mechanisms, and persistence in case of server shutdown.\n",
    "\n",
    "In our experience, most of the time background tasks like the ones built into FastHTML suffice. We recommend trying out background tasks before using a distributed task queue. If background task functions are written with JSON serializable arguments, then converting the functions to work in a distributed task queue is a straight-forward process.\n",
    ":::"
   ]
  },
  {
   "cell_type": "markdown",
   "metadata": {},
   "source": []
  }
 ],
 "metadata": {
  "kernelspec": {
   "display_name": "python3",
   "language": "python",
   "name": "python3"
  }
 },
 "nbformat": 4,
 "nbformat_minor": 2
}
