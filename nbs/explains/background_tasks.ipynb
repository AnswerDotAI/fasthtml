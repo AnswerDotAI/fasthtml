{
 "cells": [
  {
   "cell_type": "markdown",
   "metadata": {},
   "source": [
    "# Background Tasks\n",
    "\n",
    "> Background tasks are functions run after returning a response."
   ]
  },
  {
   "cell_type": "markdown",
   "metadata": {},
   "source": [
    "Useful for operations where you want the user to get a response quickly but you don't want or need the user waiting for it to finish. Typical scenarios include:\n",
    "\n",
    "- User setup in complex systems where you can inform the user later in email that their account is complete\n",
    "- Batch processes that can take a significant amount of time (bulk email or API calls)\n",
    "- Any other process where the user can be notified later by email, websocket, webhook, or pop-up"
   ]
  },
  {
   "cell_type": "markdown",
   "metadata": {},
   "source": [
    "Background tasks are an easy-to-use wrapper over Python's concurrency mechanisms. They are used to improve user experience, often making apps feel faster to the end user."
   ]
  },
  {
   "cell_type": "markdown",
   "metadata": {},
   "source": [
    "## A simple background task example"
   ]
  },
  {
   "cell_type": "markdown",
   "metadata": {},
   "source": [
    "In this example attaching a task to FtResponse by assigning it via the background argument. When the page is visited, it will display 'Simple Background Task Example' almost instantly, while in the terminal it will slowly count upward from 0."
   ]
  },
  {
   "cell_type": "markdown",
   "metadata": {},
   "source": [
    "``` {.python filename=\"main.py\" code-line-numbers=\"true\"}\n",
    "from fasthtml.common import *\n",
    "from starlette.background import BackgroundTask\n",
    "from time import time, sleep\n",
    "\n",
    "app, rt = fast_app()\n",
    "\n",
    "def counter(loops:int): # <1>\n",
    "    \"\"\"Slowly print integers to the terminal\"\"\"\n",
    "    for i in range(loops):\n",
    "        print(i)\n",
    "        sleep(i)\n",
    "\n",
    "@rt\n",
    "def index():\n",
    "    task = BackgroundTask(counter, loops=5)  # <2>\n",
    "    cts = Titled('Simple Background Task Example')\n",
    "    return FtResponse(cts, background=task) # <3>\n",
    "\n",
    "serve()\n",
    "```\n",
    "\n",
    "1. `counter` is our task function. There is nothing special about it, although it is a good practice for its arguments to be serializable as JSON\n",
    "2. We use `starlette.background.BackgroundTask` to turn the counter function into a background task\n",
    "3. `FtResponse` is called explicitly so we can attack the task to its background. Normally we don't need to call `FtResponse` explicitly, setting background tasks is the exception."
   ]
  },
  {
   "cell_type": "markdown",
   "metadata": {},
   "source": [
    "## A more realistic example"
   ]
  },
  {
   "cell_type": "markdown",
   "metadata": {},
   "source": [
    "Let's imagine that we are accessing a slow-to-process critical service. We don't want our users to have to wait. While we could set up SSE to notify on completion, instead we decide to periodically check to see if the status of their record has changed.\n",
    "\n",
    "So first, let's create a very simple slow timestamp API. What it does is stall requests for 10 seconds before returning JSON containing a timestamp."
   ]
  },
  {
   "cell_type": "code",
   "execution_count": null,
   "metadata": {},
   "outputs": [],
   "source": [
    "from fasthtml.common import *\n",
    "from time import sleep, time\n",
    "\n",
    "app, rt = fast_app()\n",
    "\n",
    "@rt\n",
    "def index():\n",
    "    sleep(10)\n",
    "    return {'timestamp': time()}\n",
    "\n",
    "serve(port=8123)"
   ]
  },
  {
   "cell_type": "markdown",
   "metadata": {},
   "source": [
    "Now let's create a website that uses this API to fetch the timestamp from the glacially slow service."
   ]
  },
  {
   "cell_type": "markdown",
   "metadata": {},
   "source": [
    "```python\n",
    "from fasthtml.common import *\n",
    "from fastlite import *\n",
    "from starlette.background import BackgroundTask\n",
    "from time import time, sleep\n",
    "import httpx\n",
    "\n",
    "app, rt = fast_app()\n",
    "\n",
    "db = database('data.db')\n",
    "\n",
    "class Moment: timestamp: float\n",
    "moments = db.create(Moment, pk='timestamp')\n",
    "\n",
    "\n",
    "async def submit_record():\n",
    "    client = httpx.AsyncClient()\n",
    "    r = await client.post('http://127.0.0.1:8123', timeout=20)\n",
    "    moments.insert(timestamp=r.json()['timestamp'])\n",
    "\n",
    "        \n",
    "@rt('/submit-record')\n",
    "async def post():\n",
    "    cts = H3(f'Record submitted at {time()}, click again', hx_post='submit-record')\n",
    "    task = BackgroundTask(submit_record)\n",
    "    return FtResponse(cts, background=task)\n",
    "\n",
    "@rt\n",
    "def index():\n",
    "    timestamps = moments(order_by='timestamp')\n",
    "    return Titled('Slow access dashboard',\n",
    "        H2('Click here to ping slow service', hx_post='/submit-record'),\n",
    "        H3('Refresh the page to check the latest timestamp'),        \n",
    "        P(timestamps),\n",
    "    )\n",
    "\n",
    "serve()\n",
    "```"
   ]
  },
  {
   "cell_type": "code",
   "execution_count": null,
   "metadata": {},
   "outputs": [
    {
     "ename": "KeyError",
     "evalue": "'nbmeta'",
     "output_type": "error",
     "traceback": [
      "\u001b[31m---------------------------------------------------------------------------\u001b[39m",
      "\u001b[31mKeyError\u001b[39m                                  Traceback (most recent call last)",
      "\u001b[36mCell\u001b[39m\u001b[36m \u001b[39m\u001b[32mIn[2]\u001b[39m\u001b[32m, line 1\u001b[39m\n\u001b[32m----> \u001b[39m\u001b[32m1\u001b[39m \u001b[43mget_ipython\u001b[49m\u001b[43m(\u001b[49m\u001b[43m)\u001b[49m\u001b[43m.\u001b[49m\u001b[43mrun_cell_magic\u001b[49m\u001b[43m(\u001b[49m\u001b[33;43m'\u001b[39;49m\u001b[33;43mai\u001b[39;49m\u001b[33;43m'\u001b[39;49m\u001b[43m,\u001b[49m\u001b[43m \u001b[49m\u001b[33;43m'\u001b[39;49m\u001b[33;43m'\u001b[39;49m\u001b[43m,\u001b[49m\u001b[43m \u001b[49m\u001b[33;43m'\u001b[39;49m\u001b[33;43mHow to use HTMX to ping a route every 5 seconds\u001b[39;49m\u001b[38;5;130;43;01m\\n\u001b[39;49;00m\u001b[33;43m'\u001b[39;49m\u001b[43m)\u001b[49m\n",
      "\u001b[36mFile \u001b[39m\u001b[32m~/.venv/lib/python3.12/site-packages/IPython/core/interactiveshell.py:2542\u001b[39m, in \u001b[36mInteractiveShell.run_cell_magic\u001b[39m\u001b[34m(self, magic_name, line, cell)\u001b[39m\n\u001b[32m   2540\u001b[39m \u001b[38;5;28;01mwith\u001b[39;00m \u001b[38;5;28mself\u001b[39m.builtin_trap:\n\u001b[32m   2541\u001b[39m     args = (magic_arg_s, cell)\n\u001b[32m-> \u001b[39m\u001b[32m2542\u001b[39m     result = \u001b[43mfn\u001b[49m\u001b[43m(\u001b[49m\u001b[43m*\u001b[49m\u001b[43margs\u001b[49m\u001b[43m,\u001b[49m\u001b[43m \u001b[49m\u001b[43m*\u001b[49m\u001b[43m*\u001b[49m\u001b[43mkwargs\u001b[49m\u001b[43m)\u001b[49m\n\u001b[32m   2544\u001b[39m \u001b[38;5;66;03m# The code below prevents the output from being displayed\u001b[39;00m\n\u001b[32m   2545\u001b[39m \u001b[38;5;66;03m# when using magics with decorator @output_can_be_silenced\u001b[39;00m\n\u001b[32m   2546\u001b[39m \u001b[38;5;66;03m# when the last Python token in the expression is a ';'.\u001b[39;00m\n\u001b[32m   2547\u001b[39m \u001b[38;5;28;01mif\u001b[39;00m \u001b[38;5;28mgetattr\u001b[39m(fn, magic.MAGIC_OUTPUT_CAN_BE_SILENCED, \u001b[38;5;28;01mFalse\u001b[39;00m):\n",
      "\u001b[36mFile \u001b[39m\u001b[32m~/git/aimagic/build/__editable__.aimagic-0.0.3-py3-none-any/aimagic/core.py:455\u001b[39m, in \u001b[36mcreate_magic.<locals>.f\u001b[39m\u001b[34m(line, cell, pre)\u001b[39m\n\u001b[32m--> \u001b[39m\u001b[32m455\u001b[39m \u001b[38;5;28;01mdef\u001b[39;00m\u001b[38;5;250m \u001b[39m\u001b[34mf\u001b[39m(line, cell=\u001b[38;5;28;01mNone\u001b[39;00m, pre=\u001b[33m'\u001b[39m\u001b[33m'\u001b[39m): \u001b[38;5;28;01mreturn\u001b[39;00m \u001b[43mr\u001b[49m\u001b[43m.\u001b[49m\u001b[43mcell\u001b[49m\u001b[43m(\u001b[49m\u001b[43mline\u001b[49m\u001b[43m,\u001b[49m\u001b[43m \u001b[49m\u001b[43mcell\u001b[49m\u001b[43m,\u001b[49m\u001b[43m \u001b[49m\u001b[43mpre\u001b[49m\u001b[43m)\u001b[49m\n",
      "\u001b[36mFile \u001b[39m\u001b[32m~/git/aimagic/build/__editable__.aimagic-0.0.3-py3-none-any/aimagic/core.py:396\u001b[39m, in \u001b[36mAiMagic.cell\u001b[39m\u001b[34m(self, line, cell, pre, temp)\u001b[39m\n\u001b[32m    394\u001b[39m     \u001b[38;5;28;01mreturn\u001b[39;00m\n\u001b[32m    395\u001b[39m is_code = pre.startswith(\u001b[33m'\u001b[39m\u001b[33m```\u001b[39m\u001b[33m'\u001b[39m)\n\u001b[32m--> \u001b[39m\u001b[32m396\u001b[39m cells = get_cells(\u001b[43mns\u001b[49m\u001b[43m[\u001b[49m\u001b[33;43m'\u001b[39;49m\u001b[33;43mnbmeta\u001b[39;49m\u001b[33;43m'\u001b[39;49m\u001b[43m]\u001b[49m)\n\u001b[32m    397\u001b[39m \u001b[38;5;28;01mif\u001b[39;00m line.startswith(\u001b[33m'\u001b[39m\u001b[33m-i\u001b[39m\u001b[33m'\u001b[39m): cells.insert(-\u001b[32m1\u001b[39m, add_url(line))\n\u001b[32m    398\u001b[39m \u001b[38;5;28;01mif\u001b[39;00m \u001b[38;5;129;01mnot\u001b[39;00m cell: cell=\u001b[33m'\u001b[39m\u001b[33m'\u001b[39m\n",
      "\u001b[31mKeyError\u001b[39m: 'nbmeta'"
     ]
    }
   ],
   "source": [
    "%%ai\n",
    "How to use HTMX to ping a route every 5 seconds"
   ]
  },
  {
   "cell_type": "markdown",
   "metadata": {},
   "source": [
    "::: {.callout-caution}\n",
    "## Background tasks are not distributed task queues\n",
    "\n",
    "While background tasks often provides the user with a faster experience, the server itself isn't accelerated. What that means is that processes are still happening, but are hidden. So if a server is struggling under the load of a lot of user activity, so long as it isn't an issue with HTTP, background tasks won't help with server load.\n",
    "\n",
    "This is where full-fledged distributed task queue libraries like Celery and Dramatiq come into play. At the cost of dramatically increased complexity over background tasks they allow for the distribution of tasks over addition servers, as well as providing improved observability, retry mechanisms, and persistence in case of server shutdown.\n",
    "\n",
    "In our experience, it's often better to build something with background tasks and then convert it to a task queue.\n",
    ":::"
   ]
  }
 ],
 "metadata": {
  "kernelspec": {
   "display_name": "python3",
   "language": "python",
   "name": "python3"
  }
 },
 "nbformat": 4,
 "nbformat_minor": 2
}
