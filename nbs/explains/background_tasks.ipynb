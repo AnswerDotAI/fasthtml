{
 "cells": [
  {
   "cell_type": "markdown",
   "metadata": {},
   "source": [
    "# Background Tasks\n",
    "\n",
    "> Background tasks are functions run after handlers return a response."
   ]
  },
  {
   "cell_type": "markdown",
   "metadata": {},
   "source": [
    "Useful for operations where the user gets a response quickly but doesn't need to wait for the operation to finish. Typical scenarios include:\n",
    "\n",
    "- User setup in complex systems where you can inform the user and other people later in email that their account is complete\n",
    "- Batch processes that can take a significant amount of time (bulk email or API calls)\n",
    "- Any other process where the user can be notified later by email, websocket, webhook, or pop-up"
   ]
  },
  {
   "cell_type": "markdown",
   "metadata": {},
   "source": [
    "::: {.callout-note}\n",
    "Background tasks in FastHTML are built on Starlette's background tasks, with added sugar. Starlette's background task design is an easy-to-use wrapper around Python's async and threading libraries. Background tasks make apps snappier to the end user and generally improve an app's speed.\n",
    ":::"
   ]
  },
  {
   "cell_type": "markdown",
   "metadata": {},
   "source": [
    "## A simple background task example"
   ]
  },
  {
   "cell_type": "markdown",
   "metadata": {},
   "source": [
    "In this example we are attaching a task to FtResponse by assigning it via the background argument. When the page is visited, it will display 'Simple Background Task Example' almost instantly, while in the terminal it will slowly count upward from 0."
   ]
  },
  {
   "cell_type": "markdown",
   "metadata": {},
   "source": [
    "``` {.python filename=\"main.py\" code-line-numbers=\"true\"}\n",
    "from fasthtml.common import *\n",
    "from starlette.background import BackgroundTask\n",
    "from time import sleep\n",
    "\n",
    "app, rt = fast_app()\n",
    "\n",
    "def counter(loops:int): # <1>\n",
    "    \"Slowly print integers to the terminal\"\n",
    "    for i in range(loops):\n",
    "        print(i)\n",
    "        sleep(i)\n",
    "\n",
    "@rt\n",
    "def index():\n",
    "    task = BackgroundTask(counter, loops=5)  # <2>\n",
    "    return Titled('Simple Background Task Example'), task # <3>\n",
    "\n",
    "serve()\n",
    "```\n",
    "\n",
    "1. `counter` is our task function. There is nothing special about it, although it is a good practice for its arguments to be serializable as JSON\n",
    "2. We use `starlette.background.BackgroundTask` to turn `counter()` into a background task\n",
    "3. To add a background task to a handler, we add it to the return values at the top level of the response."
   ]
  },
  {
   "cell_type": "markdown",
   "metadata": {},
   "source": [
    "## A more realistic example"
   ]
  },
  {
   "cell_type": "markdown",
   "metadata": {},
   "source": [
    "Let's imagine that we are accessing a slow-to-process critical service. We don't want our users to have to wait. While we could set up SSE to notify on completion, instead we decide to periodically check to see if the status of their record has changed."
   ]
  },
  {
   "cell_type": "markdown",
   "metadata": {},
   "source": [
    "### Simulated Slow API Service"
   ]
  },
  {
   "cell_type": "markdown",
   "metadata": {},
   "source": [
    "First, create a very simple slow timestamp API. All it does is stall requests for a few seconds before returning JSON containing timestamps."
   ]
  },
  {
   "cell_type": "markdown",
   "metadata": {},
   "source": [
    "```python\n",
    "# slow_api.py\n",
    "from fasthtml.common import *\n",
    "from time import sleep, time\n",
    "\n",
    "app, rt = fast_app()\n",
    "\n",
    "@rt('/slow')\n",
    "def slow(ts: int):\n",
    "    sleep(3) # <1>\n",
    "    return dict(request_time=ts, response_time=int(time())) # <2>\n",
    "\n",
    "serve(port=8123)\n",
    "```\n",
    "\n",
    "1. This represents slow processing.\n",
    "2. Returns both the task's original timestamp and the time after completion"
   ]
  },
  {
   "cell_type": "markdown",
   "metadata": {},
   "source": [
    "### Main FastHTML app"
   ]
  },
  {
   "cell_type": "markdown",
   "metadata": {},
   "source": [
    "Now let's create a user-facing app that uses this API to fetch the timestamp from the glacially slow service."
   ]
  },
  {
   "cell_type": "markdown",
   "metadata": {},
   "source": [
    "```python\n",
    "# main.py\n",
    "from fasthtml.common import *\n",
    "from starlette.background import BackgroundTask\n",
    "import time\n",
    "import httpx\n",
    "\n",
    "app, rt = fast_app()\n",
    "\n",
    "db = database(':memory:')\n",
    "\n",
    "class TStamp: request_time: int; response_time: int # <1>\n",
    "\n",
    "tstamps = db.create(TStamp, pk='request_time')\n",
    "\n",
    "def task_submit(request_time: int): # <2>\n",
    "    client = httpx.Client()\n",
    "    response = client.post(f'http://127.0.0.1:8123/slow?ts={request_time}') # <3>\n",
    "    tstamps.insert(**response.json()) # <4>\n",
    "\n",
    "@rt\n",
    "def submit():\n",
    "    \"Route that initiates a background task and returns immediately.\"\n",
    "    request_time = int(time.time())\n",
    "    task = BackgroundTask(task_submit, request_time=request_time) # <5>\n",
    "    return P(f'Request submitted at: {request_time}'), task # <6>\n",
    "\n",
    "@rt\n",
    "def show_tstamps(): return Ul(map(Li, tstamps())) # <7> \n",
    "\n",
    "@rt\n",
    "def index():\n",
    "    return Titled('Background Task Dashboard',\n",
    "        P(Button('Press to call slow service', # <8> \n",
    "            hx_post=submit, hx_target='#res')),\n",
    "        H2('Responses from Tasks'),\n",
    "        P('', id='res'),\n",
    "        Div(Ul(map(Li, tstamps())),\n",
    "            hx_get=show_tstamps, hx_trigger='every 5s'), # <9>\n",
    "    )\n",
    "\n",
    "serve()\n",
    "```\n",
    "\n",
    "1. Tracks when requests are sent and responses received\n",
    "2. Task function calling slow service to be run in the background of a route handler. It is common but not necessary to prefix task functions with 'task_'\n",
    "3. Call the slow API service (simulating a time-consuming operation)\n",
    "4. Store both timestamps in our database\n",
    "5. Create a background task by passing in the function to a BackgroundTask object, followed by any arguments.\n",
    "6. In FtResponse, use the background keyword argument to set the task to be run after the HTTP response is generated.\n",
    "7. Endpoint that displays all recorded timestamp pairs.\n",
    "8. When this button is pressed, the 'submit' handler will respond instantly. The task_submit function will insert the slow API response into the db later. \n",
    "9. Every 5 seconds get the tstamps stored in the DB."
   ]
  },
  {
   "cell_type": "markdown",
   "metadata": {},
   "source": [
    "::: {.callout-tip}\n",
    "\n",
    "In the example above we use a synchronous background task function set in the `FtResponse` of a synchronous handler. However, we can also use asynchronous functions and handlers.\n",
    "\n",
    ":::"
   ]
  },
  {
   "cell_type": "markdown",
   "metadata": {},
   "source": [
    "## Multiple background tasks in a handler"
   ]
  },
  {
   "cell_type": "markdown",
   "metadata": {},
   "source": [
    "It is possible to add multiple background tasks to an FtResponse."
   ]
  },
  {
   "cell_type": "markdown",
   "metadata": {},
   "source": [
    "::: {.callout-warning}\n",
    "Multiple background tasks on a background task are executed in order. In the case a task raises an exception, following tasks will not get the opportunity to be executed.\n",
    ":::"
   ]
  },
  {
   "cell_type": "markdown",
   "metadata": {},
   "source": [
    "```python\n",
    "from starlette.background import BackgroundTasks\n",
    "\n",
    "@rt\n",
    "async def signup(email, username):\n",
    "    tasks = BackgroundTasks()\n",
    "    tasks.add_task(send_welcome_email, to_address=email)\n",
    "    tasks.add_task(send_admin_notification, username=username)\n",
    "    return Titled('Signup successful!'), tasks\n",
    "\n",
    "async def send_welcome_email(to_address):\n",
    "    ...\n",
    "\n",
    "async def send_admin_notification(username):\n",
    "    ...\n",
    "```"
   ]
  },
  {
   "cell_type": "markdown",
   "metadata": {},
   "source": [
    "## Background tasks at scale\n",
    "\n",
    "Background tasks enhance application performance both for users and apps by handling blocking processes asynchronously, even when defined as synchronous functions.\n",
    "\n",
    "When FastHTML's background tasks aren't enough and your app runs slow on a server, manually offloading processes to the `multiprocessing` library is an option. By doing so you can leverage multiple cores and bypass the GIL, significantly improving speed and performance at the cost of added complexity.\n",
    "\n",
    "Sometimes a server reaches its processing limits, and this is where distributed task queue systems like Celery and Dramatiq come into play. They are designed to distribute tasks across multiple servers, offering improved observability, retry mechanisms, and persistence, at the cost of substantially increased complexity.\n",
    "\n",
    "However most applications work well with built-in background tasks like those in FastHTML, which we recommend trying first. Writing these functions with JSON-serializable arguments ensures straightforward conversion to other concurrency methods if needed."
   ]
  },
  {
   "cell_type": "markdown",
   "metadata": {},
   "source": []
  }
 ],
 "metadata": {
  "kernelspec": {
   "display_name": "python3",
   "language": "python",
   "name": "python3"
  }
 },
 "nbformat": 4,
 "nbformat_minor": 2
}
