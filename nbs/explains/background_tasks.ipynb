{
 "cells": [
  {
   "cell_type": "markdown",
   "metadata": {},
   "source": [
    "# Background Tasks\n",
    "\n",
    "> Background tasks are functions run after returning a response."
   ]
  },
  {
   "cell_type": "markdown",
   "metadata": {},
   "source": [
    "Useful for operations where you don't want or need the user waiting for it to finish. Typical scenarios include:\n",
    "\n",
    "- User setup in complex systems where you can inform the user later in email that their account is complete\n",
    "- Batch processes that take a significant amount of time where you don't want to keep an HTTP connection alive\n",
    "- Queries to slow LLMs"
   ]
  },
  {
   "cell_type": "markdown",
   "metadata": {},
   "source": [
    "Background tasks are an easy-to-use wrapper over Python's asyncio library. They are used to improve user experience, often making apps feel faster to the end user."
   ]
  },
  {
   "cell_type": "markdown",
   "metadata": {},
   "source": [
    "## A Simple Background Task Example"
   ]
  },
  {
   "cell_type": "markdown",
   "metadata": {},
   "source": [
    "Bekow we demonstrate attaching a task to FtResponse by assigning it via the background argument. When the page is visited, it will display 'Simple Background Task Example' almost instantly, while in the terminal it will slowly count upward from 0."
   ]
  },
  {
   "cell_type": "markdown",
   "metadata": {},
   "source": [
    "``` {.python filename=\"main.py\" code-line-numbers=\"true\"}\n",
    "from fasthtml.common import *\n",
    "from starlette.background import BackgroundTask\n",
    "from time import time, sleep\n",
    "\n",
    "app, rt = fast_app()\n",
    "\n",
    "def counter(loops): # <1>\n",
    "    \"\"\"Slowly print integers to the terminal\"\"\"\n",
    "    for i in range(loops):\n",
    "        print(i)\n",
    "        sleep(i)\n",
    "\n",
    "@rt\n",
    "def index():\n",
    "    task = BackgroundTask(counter, loops=5)  # <2>\n",
    "    return FtResponse(Titled('Simple Background Task Example'), background=task) # <3>\n",
    "\n",
    "serve()\n",
    "```\n",
    "\n",
    "1. `counter` is our task function. There is nothing special about it, although it is a good practice for its arguments to be serializable as JSON\n",
    "2. We use `starlette.background.BackgroundTask` to turn the counter function into a background task\n",
    "3. `FtResponse` is called explicitly so we can attack the task to its background. Normally we don't need to call `FtResponse` explicitly, setting background tasks is the exception."
   ]
  },
  {
   "cell_type": "markdown",
   "metadata": {},
   "source": [
    "::: {.callout-caution}\n",
    "## Background tasks are not distributed task queues\n",
    "\n",
    "While background tasks often provides the user with a faster experience, the server itself isn't accelerated. What that means is that processes are still happening, but are hidden. So if a server is struggling under the load of a lot of user activity, so long as it isn't an issue with HTTP, background tasks won't help with server load.\n",
    "\n",
    "This is where full-fledged distributed task queue libraries like Celery and Dramatiq come into play. At the cost of dramatically increased complexity over background tasks they allow for the distribution of tasks over addition servers, as well as providing improved observability, retry mechanisms, and persistence in case of server shutdown.\n",
    "\n",
    "In our experience, it's often better to build something with background tasks and then convert it to a task queue.\n",
    ":::"
   ]
  }
 ],
 "metadata": {
  "kernelspec": {
   "display_name": "python3",
   "language": "python",
   "name": "python3"
  }
 },
 "nbformat": 4,
 "nbformat_minor": 2
}
