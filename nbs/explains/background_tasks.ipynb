{
 "cells": [
  {
   "cell_type": "markdown",
   "metadata": {},
   "source": [
    "# Background Tasks\n",
    "\n",
    "> Background tasks are functions run after returning a response."
   ]
  },
  {
   "cell_type": "markdown",
   "metadata": {},
   "source": [
    "Useful for operations where you want the user to get a response quickly but you don't want or need the user waiting for it to finish. Typical scenarios include:\n",
    "\n",
    "- User setup in complex systems where you can inform the user later in email that their account is complete\n",
    "- Batch processes that take a significant amount of time (bulk email or API calls)\n",
    "- Any other process where the user can be notified later by email, websocket, webhook, or pop-up"
   ]
  },
  {
   "cell_type": "markdown",
   "metadata": {},
   "source": [
    "Background tasks are an easy-to-use wrapper over Python's concurrency mechanisms. They are used to improve user experience, often making apps feel faster to the end user."
   ]
  },
  {
   "cell_type": "markdown",
   "metadata": {},
   "source": [
    "## A simple background task example"
   ]
  },
  {
   "cell_type": "markdown",
   "metadata": {},
   "source": [
    "In this example attaching a task to FtResponse by assigning it via the background argument. When the page is visited, it will display 'Simple Background Task Example' almost instantly, while in the terminal it will slowly count upward from 0."
   ]
  },
  {
   "cell_type": "markdown",
   "metadata": {},
   "source": [
    "``` {.python filename=\"main.py\" code-line-numbers=\"true\"}\n",
    "from fasthtml.common import *\n",
    "from starlette.background import BackgroundTask\n",
    "from time import time, sleep\n",
    "\n",
    "app, rt = fast_app()\n",
    "\n",
    "def counter(loops:int): # <1>\n",
    "    \"\"\"Slowly print integers to the terminal\"\"\"\n",
    "    for i in range(loops):\n",
    "        print(i)\n",
    "        sleep(i)\n",
    "\n",
    "@rt\n",
    "def index():\n",
    "    task = BackgroundTask(counter, loops=5)  # <2>\n",
    "    cts = Titled('Simple Background Task Example')\n",
    "    return FtResponse(cts, background=task) # <3>\n",
    "\n",
    "serve()\n",
    "```\n",
    "\n",
    "1. `counter` is our task function. There is nothing special about it, although it is a good practice for its arguments to be serializable as JSON\n",
    "2. We use `starlette.background.BackgroundTask` to turn the counter function into a background task\n",
    "3. `FtResponse` is called explicitly so we can attack the task to its background. Normally we don't need to call `FtResponse` explicitly, setting background tasks is the exception."
   ]
  },
  {
   "cell_type": "markdown",
   "metadata": {},
   "source": [
    "## A more complex example"
   ]
  },
  {
   "cell_type": "code",
   "execution_count": 3,
   "metadata": {},
   "outputs": [],
   "source": [
    "from ContextKit import read_url"
   ]
  },
  {
   "cell_type": "code",
   "execution_count": 4,
   "metadata": {},
   "outputs": [],
   "source": [
    "text = read_url('https://fastht.ml/docs/llms-ctx.txt')"
   ]
  },
  {
   "cell_type": "code",
   "execution_count": 5,
   "metadata": {},
   "outputs": [],
   "source": [
    "%%ai\n",
    "Read $(text) and create a FastHTML example of accessing a database to get 1000 users and then accessing an API for them "
   ]
  },
  {
   "cell_type": "markdown",
   "metadata": {},
   "source": [
    "Based on the context provided, I'll create a FastHTML example that demonstrates accessing a database to retrieve 1000 users and then accessing an API for each of them as a background task.\n",
    "\n",
    "```python\n",
    "from fasthtml.common import *\n",
    "from starlette.background import BackgroundTask\n",
    "import asyncio\n",
    "import httpx\n",
    "from datetime import datetime\n",
    "import time\n",
    "\n",
    "app, rt = fast_app()\n",
    "\n",
    "db = database('data.db')\n",
    "\n",
    "class User: email: str; account_updated:int\n",
    "                \n",
    "users = db.create(User, pk='email')\n",
    "users\n",
    "\n",
    "\n",
    "def process_all_users():\n",
    "    \"\"\"Process all users through the API\"\"\"\n",
    "    start_time = time.time()\n",
    "\n",
    "    for user in users():\n",
    "        httpx.post(f'http://example.com/update-user/{user.email}')\n",
    "        \n",
    "\n",
    "@rt\n",
    "def index():\n",
    "    \"\"\"Main page with form to trigger the background task\"\"\"\n",
    "    return Titled(\"User API Processing\", \n",
    "                 [\n",
    "                     P(\"Click the button to retrieve 1000 users from the database and process them through an API.\"),\n",
    "                     P(\"This operation will run in the background and you'll get an immediate response.\"),\n",
    "                     Form(action=\"/process\", method=\"post\", \n",
    "                          contents=[\n",
    "                              Submit(\"Start Processing\")\n",
    "                          ])\n",
    "                 ])\n",
    "\n",
    "@rt.post\n",
    "def process():\n",
    "    # Initialize the database if needed\n",
    "    setup_db()\n",
    "    \n",
    "    # Get users from the database\n",
    "    users = get_users(1000)\n",
    "    \n",
    "    # Create the background task\n",
    "    task = BackgroundTask(process_all_users, users=users)\n",
    "    \n",
    "    # Return immediate response while processing continues in background\n",
    "    return FtResponse(Titled(\"Processing Started\", \n",
    "                            [\n",
    "                                P(f\"Started processing {len(users)} users in the background.\"),\n",
    "                                P(\"You can check the server logs for progress updates.\"),\n",
    "                                P(\"Results will be saved to api_results.txt when complete.\"),\n",
    "                                A(\"Back to Home\", href=\"/\")\n",
    "                            ]), \n",
    "                     background=task)\n",
    "\n",
    "@rt\n",
    "def results():\n",
    "    \"\"\"View the results if available\"\"\"\n",
    "    try:\n",
    "        with open('api_results.txt', 'r') as f:\n",
    "            results = f.readlines()\n",
    "        \n",
    "        return Titled(\"API Processing Results\",\n",
    "                     [\n",
    "                         P(f\"Found {len(results)} processed users.\"),\n",
    "                         Pre(\"\\n\".join(results[:20]) + \"\\n...\" if len(results) > 20 else \"\\n\".join(results)),\n",
    "                         A(\"Back to Home\", href=\"/\")\n",
    "                     ])\n",
    "    except FileNotFoundError:\n",
    "        return Titled(\"Results Not Available\",\n",
    "                     [\n",
    "                         P(\"The API processing hasn't completed yet or hasn't been started.\"),\n",
    "                         A(\"Back to Home\", href=\"/\")\n",
    "                     ])\n",
    "\n",
    "serve()\n",
    "```\n",
    "\n",
    "This example:\n",
    "\n",
    "1. Creates a simulated SQLite database with 1000 users\n",
    "2. Provides a simple web interface to trigger the background task\n",
    "3. Uses `BackgroundTask` to process all users through a simulated API\n",
    "4. Processes users in batches asynchronously to improve performance\n",
    "5. Returns an immediate response to the user while processing continues\n",
    "6. Logs progress to the terminal and saves results to a file\n",
    "\n",
    "The key part is the `/process` route where we create the background task and attach it to the `FtResponse`. This allows the server to return a response immediately while continuing to process the API calls in the background."
   ]
  },
  {
   "cell_type": "markdown",
   "metadata": {},
   "source": [
    "::: {.callout-caution}\n",
    "## Background tasks are not distributed task queues\n",
    "\n",
    "While background tasks often provides the user with a faster experience, the server itself isn't accelerated. What that means is that processes are still happening, but are hidden. So if a server is struggling under the load of a lot of user activity, so long as it isn't an issue with HTTP, background tasks won't help with server load.\n",
    "\n",
    "This is where full-fledged distributed task queue libraries like Celery and Dramatiq come into play. At the cost of dramatically increased complexity over background tasks they allow for the distribution of tasks over addition servers, as well as providing improved observability, retry mechanisms, and persistence in case of server shutdown.\n",
    "\n",
    "In our experience, it's often better to build something with background tasks and then convert it to a task queue.\n",
    ":::"
   ]
  }
 ],
 "metadata": {
  "kernelspec": {
   "display_name": "Python 3 (ipykernel)",
   "language": "python",
   "name": "python3"
  },
  "language_info": {
   "codemirror_mode": {
    "name": "ipython",
    "version": 3
   },
   "file_extension": ".py",
   "mimetype": "text/x-python",
   "name": "python",
   "nbconvert_exporter": "python",
   "pygments_lexer": "ipython3",
   "version": "3.12.6"
  }
 },
 "nbformat": 4,
 "nbformat_minor": 2
}
