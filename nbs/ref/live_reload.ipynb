{
 "cells": [
  {
   "cell_type": "markdown",
   "metadata": {},
   "source": [
    "# Live Reloading"
   ]
  },
  {
   "cell_type": "markdown",
   "metadata": {},
   "source": [
    "\n",
    "When building your app it can be useful to view your changes in a web browser as you make them. FastHTML supports live reloading which means that it watches for any changes to your code and automatically refreshes the webpage in your browser.\n",
    "\n",
    "To enable live reloading simply replace `FastHTML` in your app with `FastHTMLWithLiveReload`.\n",
    "\n",
    "```python\n",
    "from fasthtml.common import *\n",
    "app = FastHTMLWithLiveReload()\n",
    "```\n",
    "\n",
    "Then in your terminal run `uvicorn` with reloading enabled.\n",
    "\n",
    "```\n",
    "uvicorn main:app --reload\n",
    "```\n",
    "\n",
    "**⚠️ Gotchas**\n",
    "- A reload is only triggered when you save your changes.\n",
    "- `FastHTMLWithLiveReload` should only be used during development.\n",
    "- If your app spans multiple directories you might need to use the `--reload-dir` flag to watch all files in each directory. See the uvicorn [docs](https://www.uvicorn.org/settings/#development) for more info.\n",
    "- The live reload script is only injected into the page when rendering [ft components](https://answerdotai.github.io/fasthtml/explains/explaining_xt_components.html)."
   ]
  },
  {
   "cell_type": "markdown",
   "metadata": {},
   "source": [
    "## Live reloading with `fast_app`\n",
    "\n",
    "In development the `fast_app` function provides the same functionality. It instantiates the `FastHTMLWithLiveReload` class if you pass `live=True`:\n",
    "\n",
    "``` {.python filename=\"main.py\"}\n",
    "from fasthtml.common import *\n",
    "\n",
    "app, rt = fast_app(live=True)  # <1>\n",
    "\n",
    "serve()  # <2>\n",
    "```\n",
    "\n",
    "1. `fast_app()` instantiates the `FastHTMLWithLiveReload` class.\n",
    "2. `serve()` is a wrapper around a `uvicorn` call.\n",
    "\n",
    "To run `main.py` in live reload mode, just do `python main.py`. We recommend turning off live reload when deploying your app to production."
   ]
  }
 ],
 "metadata": {
  "kernelspec": {
   "display_name": "python3",
   "language": "python",
   "name": "python3"
  }
 },
 "nbformat": 4,
 "nbformat_minor": 2
}
