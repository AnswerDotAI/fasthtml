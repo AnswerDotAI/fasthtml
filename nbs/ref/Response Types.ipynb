{
 "cells": [
  {
   "cell_type": "markdown",
   "id": "2138aec8",
   "metadata": {},
   "source": [
    "# Response Types\n",
    "\n",
    "> How responses work in FastHTML"
   ]
  },
  {
   "cell_type": "markdown",
   "id": "1a033fe1",
   "metadata": {},
   "source": [
    "Depending on the type provided, FastHTML modifies the HTTP content_type of the response."
   ]
  },
  {
   "cell_type": "code",
   "execution_count": 1,
   "id": "78cbdd09",
   "metadata": {},
   "outputs": [],
   "source": [
    "from fasthtml.common import *"
   ]
  },
  {
   "cell_type": "code",
   "execution_count": 4,
   "id": "047ee3f1",
   "metadata": {},
   "outputs": [],
   "source": [
    "app,rt = fast_app()\n",
    "cli = Client(app)"
   ]
  },
  {
   "cell_type": "markdown",
   "id": "3b4499a6",
   "metadata": {},
   "source": [
    "## FT Components Response"
   ]
  },
  {
   "cell_type": "code",
   "execution_count": 33,
   "id": "eb426503",
   "metadata": {},
   "outputs": [
    {
     "name": "stdout",
     "output_type": "stream",
     "text": [
      " <!doctype html>\n",
      " <html>\n",
      "   <div>FT Componet Response</div>\n",
      " </html>\n",
      "\n"
     ]
    }
   ],
   "source": [
    "@rt('/ft')\n",
    "def get(): return Html(Div('FT Componet Response'))\n",
    "print(cli.get('/ft').text)"
   ]
  },
  {
   "cell_type": "markdown",
   "id": "2508b86c",
   "metadata": {},
   "source": [
    "## Redirect Response"
   ]
  },
  {
   "cell_type": "code",
   "execution_count": 29,
   "id": "f4a60242",
   "metadata": {},
   "outputs": [
    {
     "name": "stdout",
     "output_type": "stream",
     "text": [
      "http://testserver/rr\n",
      "303\n"
     ]
    }
   ],
   "source": [
    "@rt('/rr')\n",
    "def get(): return Redirect('https://fastht.ml/')\n",
    "resp = cli.get('/rr')\n",
    "print(resp.url)\n",
    "print(resp.status_code)"
   ]
  },
  {
   "cell_type": "markdown",
   "id": "accd0739",
   "metadata": {},
   "source": [
    "## JSON Response"
   ]
  },
  {
   "cell_type": "code",
   "execution_count": 27,
   "id": "de0bc762",
   "metadata": {},
   "outputs": [
    {
     "name": "stdout",
     "output_type": "stream",
     "text": [
      "application/json\n",
      "{'hello': 'world'}\n"
     ]
    }
   ],
   "source": [
    "@rt('/json')\n",
    "def get(): return {'hello': 'world'}\n",
    "resp = cli.get('/json')\n",
    "print(resp.headers['content-type'])\n",
    "print(resp.json())"
   ]
  },
  {
   "cell_type": "markdown",
   "id": "c830a555",
   "metadata": {},
   "source": [
    "## Plaintext Response"
   ]
  },
  {
   "cell_type": "code",
   "execution_count": null,
   "id": "84fe390c",
   "metadata": {},
   "outputs": [],
   "source": []
  }
 ],
 "metadata": {
  "kernelspec": {
   "display_name": "Python 3 (ipykernel)",
   "language": "python",
   "name": "python3"
  },
  "language_info": {
   "codemirror_mode": {
    "name": "ipython",
    "version": 3
   },
   "file_extension": ".py",
   "mimetype": "text/x-python",
   "name": "python",
   "nbconvert_exporter": "python",
   "pygments_lexer": "ipython3",
   "version": "3.12.6"
  }
 },
 "nbformat": 4,
 "nbformat_minor": 5
}
