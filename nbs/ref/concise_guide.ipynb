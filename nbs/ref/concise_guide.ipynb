{
 "cells": [
  {
   "cell_type": "markdown",
   "metadata": {},
   "source": [
    "# Concise guide\n",
    "\n",
    "> LLM-friendly opinionated sample FastHTML code with MonsterUI and Fastlite\n",
    "\n",
    "- order: 3"
   ]
  },
  {
   "cell_type": "code",
   "execution_count": null,
   "metadata": {},
   "outputs": [],
   "source": [
    "from fasthtml.common import *"
   ]
  },
  {
   "cell_type": "markdown",
   "metadata": {},
   "source": [
    "## A Minimal Application"
   ]
  },
  {
   "cell_type": "markdown",
   "metadata": {},
   "source": [
    "A minimal FastHTML application looks something like this:\n",
    "\n",
    "```python\n",
    "# This is a meta-package which includes all of the key symbols from FastHTML and Starlette \n",
    "from fasthtml.common import *\n",
    "# This returns the FastHTML application object as well as a shortcut to `app.route`\n",
    "app,rt = fast_app()\n",
    "# Passing a path to `rt` is optional. If not passed, the function name is the route ('/foo') here.\n",
    "# By default, both GET and POST HTTP methods are handled.\n",
    "# Type annotated params are passed as query params unless a path param is defined (which it isn't here)\n",
    "@rt\n",
    "def foo(name:str):\n",
    "    # `Title` and `P` here are \"fasttags\". Fasttags are direct m-expression mappings of HTML tags to Python functions with positional and named parameters. All standard HTML tags are included in the common wildcard import.\n",
    "    # When a tuple is returned, this returns concatenated HTML partials. HTMX by default will use a title HTML partial to set the current page name. \n",
    "    # FastHTML will automatically return a complete HTML document with appropriate headers if a normal HTTP request is received. For an HTMX request, however, just the partials are returned.\n",
    "    return Title(\"FastHTML\"), H1(\"My web app\"), P(f\"Let's do this, {name}!\")\n",
    "# By default with `serve` uvicorn hosts on port 5001. `if __name__` etc is *not* needed since `serve` has this check internally.\n",
    "serve()\n",
    "```\n",
    "\n",
    "To run this web app:\n",
    "\n",
    "```bash\n",
    "python main.py  # access via localhost:5001\n",
    "```"
   ]
  },
  {
   "cell_type": "markdown",
   "metadata": {},
   "source": [
    "fasttags can be considered as m-expressions, with some simple sugar added. Positional parameters map to children, and named parameters map to attributes. Aliases must be used for Python reserved words. "
   ]
  },
  {
   "cell_type": "code",
   "execution_count": null,
   "metadata": {},
   "outputs": [
    {
     "data": {
      "text/plain": [
       "(title(('FastHTML',),{}),\n",
       " h1(('My web app',),{}),\n",
       " p((\"Let's do this!\",),{'class': 'myclass'}))"
      ]
     },
     "execution_count": null,
     "metadata": {},
     "output_type": "execute_result"
    }
   ],
   "source": [
    "tags = Title(\"FastHTML\"), H1(\"My web app\"), P(f\"Let's do this!\", cls=\"myclass\")\n",
    "tags"
   ]
  },
  {
   "cell_type": "markdown",
   "metadata": {},
   "source": [
    "This example demonstrates key aspects of how FastHTML components handle attributes:\n",
    "\n",
    "```python\n",
    "Label(\n",
    "    \"Choose an option\", \n",
    "    Select(\n",
    "        Option(\"one\", value=\"1\", selected=True),  # True renders just the attribute name\n",
    "        Option(\"two\", value=2, selected=False),   # Non-string values are converted to strings. False omits the attribute entirely\n",
    "        cls=\"selector\", id=\"counter\",             # 'cls' becomes 'class'\n",
    "        **{'@click':\"alert('Clicked');\"},         # Dict unpacking for attributes with special characters\n",
    "    ),\n",
    "    _for=\"counter\",                               # '_for' becomes 'for' (can also use 'fr')\n",
    ")\n",
    "```"
   ]
  },
  {
   "cell_type": "markdown",
   "metadata": {},
   "source": [
    "You can create new FT components by importing the new component from `fasthtml.components`. If the component doesn't exist within that module, FastHTML will create it."
   ]
  },
  {
   "cell_type": "code",
   "execution_count": null,
   "metadata": {},
   "outputs": [
    {
     "data": {
      "text/markdown": [
       "```html\n",
       "<some-never-before-used-tag></some-never-before-used-tag>\n",
       "```"
      ],
      "text/plain": [
       "some-never-before-used-tag((),{})"
      ]
     },
     "execution_count": null,
     "metadata": {},
     "output_type": "execute_result"
    }
   ],
   "source": [
    "from fasthtml.components import Some_never_before_used_tag\n",
    "\n",
    "Some_never_before_used_tag()"
   ]
  },
  {
   "cell_type": "markdown",
   "metadata": {},
   "source": [
    "When creating a response,  FastHTML will automatically render tags using the `to_xml` function."
   ]
  },
  {
   "cell_type": "code",
   "execution_count": null,
   "metadata": {},
   "outputs": [
    {
     "data": {
      "text/plain": [
       "'<title>FastHTML</title>\\n<h1>My web app</h1>\\n<p class=\"myclass\">Let&#x27;s do this!</p>\\n'"
      ]
     },
     "execution_count": null,
     "metadata": {},
     "output_type": "execute_result"
    }
   ],
   "source": [
    "to_xml(tags)"
   ]
  },
  {
   "cell_type": "markdown",
   "metadata": {},
   "source": [
    "The `Script` function allows you to include JavaScript. You can use Python to generate parts of your JS or JSON like this:\n",
    "\n",
    "```python\n",
    "# In future snippets this import will not be shown, but is required\n",
    "from fasthtml.common import * \n",
    "app,rt = fast_app(hdrs=[Script(src=\"https://cdn.plot.ly/plotly-2.32.0.min.js\")])\n",
    "# `index` is a special function name which maps to the `/` route. \n",
    "@rt\n",
    "def index():\n",
    "    data = {'somedata':'fill me in…'}\n",
    "    # `Titled` is a function which returns a title tag and an h1 tag with the 1st param, along with all other params as HTML in a `Main` parent element\n",
    "    return Titled(\"Chart Demo\", Div(id=\"myDiv\"), Script(f\"var data = {data}; Plotly.newPlot('myDiv', data);\"))\n",
    "# In future snippets `serve() will not be shown, but is required\n",
    "serve()\n",
    "```"
   ]
  },
  {
   "cell_type": "markdown",
   "metadata": {},
   "source": [
    "Route details can be specified as decorator parameters.\n",
    "\n",
    "```python\n",
    "# In future snippets we'll skip showing the `fast_app` call if it has no params\n",
    "app, rt = fast_app(\n",
    "    pico=False, # The Pico CSS framework is included by default, so pass `false` to disable it if needed.\n",
    "    # These are added to the `head` part of the page for non-HTMX requests.\n",
    "    hdrs=(\n",
    "        Link(rel='stylesheet', href='assets/normalize.min.css', type='text/css'),\n",
    "        Link(rel='stylesheet', href='assets/sakura.css', type='text/css'),\n",
    "        Style(\"p {color: red;}\",\n",
    "        # by default, all standard static extensions are served statically from the web app dir, which can be modified using `static_path`\n",
    "        static_path='public')\n",
    ")\n",
    "# Path parameter parsing is handled by Starlette, so all of the same functionality and syntax is supported.\n",
    "# However, it is more idiomatic to use query parameters in FastHTML where possible.\n",
    "@rt(\"/hello/{name}\", method=\"GET\")\n",
    "def somefunc(name:str): return Titled(f\"Hello, {name}!\")\n",
    "```"
   ]
  },
  {
   "cell_type": "markdown",
   "metadata": {},
   "source": [
    "Instead of returning a FastTag or tuple of FastTags, standard Starlette response types can also be returned in which case they are used directly in the same way that Starlette does. \n",
    "\n",
    "```python\n",
    "@rt(\"/{fname:path}.{ext:static}\")\n",
    "async def get(fname:str, ext:str):  return FileResponse(f'public/{fname}.{ext}')\n",
    "```"
   ]
  },
  {
   "cell_type": "markdown",
   "metadata": {},
   "source": [
    "```python\n",
    "# `MarkdownJS` and `HighlightJS` are available via concise functions\n",
    "hdrs = (MarkdownJS(), HighlightJS(langs=['python', 'javascript', 'html', 'css']), )\n",
    "app, rt = fast_app(hdrs=hdrs)\n",
    "@rt\n",
    "def index(req): return Titled(\"Markdown rendering example\",\n",
    "                              # This will be markdown rendered to HTML\n",
    "                              Div(\"*hi* there\",cls=\"marked\"),\n",
    "                              # This will be syntax highlighted\n",
    "                              Pre(Code(\"def foo(): pass\")))\n",
    "serve()\n",
    "```"
   ]
  },
  {
   "cell_type": "markdown",
   "metadata": {},
   "source": [
    "Returning a JSON serializable dict from a handler will cause the handler to return JSON. "
   ]
  },
  {
   "cell_type": "markdown",
   "metadata": {},
   "source": [
    "`ft` components (\"fasttags\") can be combined by defining them as a function."
   ]
  },
  {
   "cell_type": "code",
   "execution_count": null,
   "metadata": {},
   "outputs": [
    {
     "data": {
      "text/plain": [
       "'<div class=\"hero\">\\n  <h1>Hello World</h1>\\n  <p>This is a hero statement</p>\\n</div>\\n'"
      ]
     },
     "execution_count": null,
     "metadata": {},
     "output_type": "execute_result"
    }
   ],
   "source": [
    "def Hero(title, statement): return Div(H1(title),P(statement), cls=\"hero\")\n",
    "to_xml(Hero(\"Hello World\", \"This is a hero statement\"))"
   ]
  },
  {
   "cell_type": "markdown",
   "metadata": {},
   "source": [
    "Classes with `__ft__` defined are rendered using that method."
   ]
  },
  {
   "cell_type": "code",
   "execution_count": null,
   "metadata": {},
   "outputs": [
    {
     "data": {
      "text/plain": [
       "'<p>test</p>\\n'"
      ]
     },
     "execution_count": null,
     "metadata": {},
     "output_type": "execute_result"
    }
   ],
   "source": [
    "from dataclasses import dataclass\n",
    "\n",
    "class FtTest:\n",
    "    def __ft__(self): return P('test')\n",
    "    \n",
    "to_xml(FtTest())"
   ]
  },
  {
   "cell_type": "code",
   "execution_count": null,
   "metadata": {},
   "outputs": [],
   "source": [
    "from dataclasses import dataclass"
   ]
  },
  {
   "cell_type": "code",
   "execution_count": null,
   "metadata": {},
   "outputs": [],
   "source": [
    "app,rt = fast_app()"
   ]
  },
  {
   "cell_type": "markdown",
   "metadata": {},
   "source": [
    "When a route handler function is used as a fasttag attribute (such as `href`, `hx_get`, or `action`) it is converted to that route's path. `fill_form` is used to copy an object's matching attrs into matching-name form fields."
   ]
  },
  {
   "cell_type": "code",
   "execution_count": null,
   "metadata": {},
   "outputs": [],
   "source": [
    "@dataclass\n",
    "class Profile: email:str; phone:str; age:int\n",
    "email = 'john@example.com'\n",
    "profiles = {email: Profile(email=email, phone='123456789', age=5)}\n",
    "@rt\n",
    "def profile(email:str): return fill_form(profile_form, profiles[email])\n",
    "\n",
    "profile_form = Form(method=\"post\", action=profile)(\n",
    "        Fieldset(\n",
    "            Label('Email', Input(name=\"email\")),\n",
    "            Label(\"Phone\", Input(name=\"phone\")),\n",
    "            Label(\"Age\", Input(name=\"age\"))),\n",
    "        Button(\"Save\", type=\"submit\"))"
   ]
  },
  {
   "cell_type": "markdown",
   "metadata": {},
   "source": [
    "A `to` method is added to route functions, which returns a route path with params as query params."
   ]
  },
  {
   "cell_type": "code",
   "execution_count": null,
   "metadata": {},
   "outputs": [
    {
     "data": {
      "text/plain": [
       "'/profile?email=john%40example.com'"
      ]
     },
     "execution_count": null,
     "metadata": {},
     "output_type": "execute_result"
    }
   ],
   "source": [
    "path = profile.to(email=\"john@example.com\")\n",
    "path"
   ]
  },
  {
   "cell_type": "markdown",
   "metadata": {},
   "source": [
    "The `url_for` method of the request object can be used to generate URLs for named routes. It takes the route name as its first argument, followed by any path parameters needed for that route. Useful for generating absolute URLs, ensuring that the correct host and scheme are included, even if the application is accessed through different domains or protocols."
   ]
  },
  {
   "cell_type": "markdown",
   "metadata": {},
   "source": [
    "The `url_path_for` method of the application can be used to generate URL paths for named routes. Unlike `url_for`, it returns only the path component of the URL, without the scheme or host."
   ]
  },
  {
   "cell_type": "markdown",
   "metadata": {},
   "source": [
    "We can use `TestClient` for testing."
   ]
  },
  {
   "cell_type": "code",
   "execution_count": null,
   "metadata": {},
   "outputs": [],
   "source": [
    "from starlette.testclient import TestClient"
   ]
  },
  {
   "cell_type": "code",
   "execution_count": null,
   "metadata": {},
   "outputs": [
    {
     "name": "stdout",
     "output_type": "stream",
     "text": [
      "<form enctype=\"multipart/form-data\" method=\"post\" action=\"/profile\"><fieldset><label>Email       <input name=\"email\" value=\"john@example.com\">\n",
      "</label><label>Phone       <input name=\"phone\" value=\"123456789\">\n",
      "</label><label>Age       <input name=\"age\" value=\"5\">\n",
      "</label></fieldset><button type=\"submit\">Save</button></form>\n"
     ]
    }
   ],
   "source": [
    "client = TestClient(app)\n",
    "htmx_req = {'HX-Request':'1'}\n",
    "print(client.get(path, headers=htmx_req).text)"
   ]
  },
  {
   "cell_type": "markdown",
   "metadata": {},
   "source": [
    "When a dataclass, namedtuple, etc. is used as a type annotation, the form body will be unpacked into matching attribute names automatically. "
   ]
  },
  {
   "cell_type": "code",
   "execution_count": null,
   "metadata": {},
   "outputs": [
    {
     "name": "stdout",
     "output_type": "stream",
     "text": [
      "<form enctype=\"multipart/form-data\" method=\"post\" action=\"/profile\"><fieldset><label>Email       <input name=\"email\" value=\"john@example.com\">\n",
      "</label><label>Phone       <input name=\"phone\" value=\"7654321\">\n",
      "</label><label>Age       <input name=\"age\" value=\"25\">\n",
      "</label></fieldset><button type=\"submit\">Save</button></form>\n"
     ]
    }
   ],
   "source": [
    "@rt\n",
    "def edit_profile(profile: Profile):\n",
    "    profiles[email]=profile\n",
    "    return RedirectResponse(url=path)\n",
    "\n",
    "new_data = dict(email='john@example.com', phone='7654321', age=25)\n",
    "print(client.post(\"/edit_profile\", data=new_data, headers=htmx_req).text)"
   ]
  },
  {
   "cell_type": "markdown",
   "metadata": {},
   "source": [
    "The general rules for rendering are: \n",
    "- `__ft__` method will be called (for default components like `P`, `H2`, etc. or if you define your own components)\n",
    "- If you pass a string, it will be escaped\n",
    "- On other python objects, `str()` will be called\n",
    "\n",
    "As a consequence, if you want to include plain HTML tags directly into e.g. a `Div()` they will get escaped by default (as a security measure to avoid code injections). This can be avoided by using `Safe(...)`, e.g to show a data frame use `Div(NotStr(df.to_html()))`."
   ]
  },
  {
   "cell_type": "markdown",
   "metadata": {},
   "source": [
    "FastHTML allows customization of exception handlers.\n",
    "\n",
    "```python\n",
    "def not_found(req, exc): return Titled(\"404: I don't exist!\")\n",
    "exception_handlers = {404: not_found}\n",
    "app, rt = fast_app(exception_handlers=exception_handlers)\n",
    "```"
   ]
  },
  {
   "cell_type": "markdown",
   "metadata": {},
   "source": [
    "We can set cookies using the `cookie()` function."
   ]
  },
  {
   "cell_type": "code",
   "execution_count": null,
   "metadata": {},
   "outputs": [
    {
     "name": "stdout",
     "output_type": "stream",
     "text": [
      " <p>Setting a cookie</p>\n",
      "\n"
     ]
    }
   ],
   "source": [
    "@rt\n",
    "def setcook(): return P(f'Setting a cookie'), cookie('mycookie', 'foobar')\n",
    "print(client.get('/setcook', headers=htmx_req).text)"
   ]
  },
  {
   "cell_type": "code",
   "execution_count": null,
   "metadata": {},
   "outputs": [
    {
     "name": "stdout",
     "output_type": "stream",
     "text": [
      "Cookie was foobar\n"
     ]
    }
   ],
   "source": [
    "@rt\n",
    "def getcook(mycookie:str): return f'Cookie was {mycookie}'\n",
    "# Note that if handlers return text, instead of fasttags, then a plain text response is automatically created\n",
    "print(client.get('/getcook').text)"
   ]
  },
  {
   "cell_type": "markdown",
   "metadata": {},
   "source": [
    "FastHTML provide access to Starlette's request object automatically using special `request` parameter name (or any prefix of that name)."
   ]
  },
  {
   "cell_type": "code",
   "execution_count": null,
   "metadata": {},
   "outputs": [],
   "source": [
    "@rt\n",
    "def headers(req): return req.headers['host']"
   ]
  },
  {
   "cell_type": "markdown",
   "metadata": {},
   "source": [
    "FastHTML provides access to Starlette's session middleware automatically using the special `session` parameter name (or any prefix of that name).\n",
    "\n",
    "Enums can be used to constrain the values accepted for a route parameter."
   ]
  },
  {
   "cell_type": "code",
   "execution_count": null,
   "metadata": {},
   "outputs": [],
   "source": [
    "names = str_enum('names', 'Alice', 'Bev', 'Charlie')"
   ]
  },
  {
   "cell_type": "code",
   "execution_count": null,
   "metadata": {},
   "outputs": [],
   "source": [
    "@rt\n",
    "def adder(sess, nm: names):\n",
    "    sess.setdefault('attendees', '')\n",
    "    sess['attendees'] = sess.get('attendees') + f', {nm}'\n",
    "    return Response(f'The attentees are {sess[\"attendees\"]}.')"
   ]
  },
  {
   "cell_type": "markdown",
   "metadata": {},
   "source": [
    "Handler functions can return the `HtmxResponseHeaders` object to set HTMX-specific response headers."
   ]
  },
  {
   "cell_type": "code",
   "execution_count": null,
   "metadata": {},
   "outputs": [],
   "source": [
    "@rt\n",
    "def htmlredirect(app): return HtmxResponseHeaders(location=\"http://example.org\")"
   ]
  },
  {
   "cell_type": "markdown",
   "metadata": {},
   "source": [
    "`APIRouter` lets you organize routes across multiple files in a FastHTML app, with an optional `prefix` parameter that prepends to all routes in that router (e.g., `prefix=/products` makes all routes start with `/products`)."
   ]
  },
  {
   "cell_type": "markdown",
   "metadata": {},
   "source": [
    "```python\n",
    "# products.py\n",
    "ar = APIRouter(prefix=\"/products\")\n",
    "\n",
    "@ar(\"/all\")\n",
    "def all_products(req):\n",
    "    return Div(\n",
    "        \"Welcome to the Products Page! Click the button below to look at the details for product 42\",\n",
    "        Div(\n",
    "            Button(\"Details\",hx_get=req.url_for(\"details\", pid=42),hx_target=\"#products_list\",hx_swap=\"outerHTML\",),\n",
    "        ),\n",
    "        id=\"products_list\",\n",
    "    )\n",
    "\n",
    "@ar.get(\"/\", name=\"details\")\n",
    "def details(pid: int): return f\"Here are the product details for ID: {pid}\"\n",
    "```"
   ]
  },
  {
   "cell_type": "markdown",
   "metadata": {},
   "source": [
    "Adding the products' `APIRouter` to the `app`:"
   ]
  },
  {
   "cell_type": "markdown",
   "metadata": {},
   "source": [
    "```python\n",
    "# main.py\n",
    "from products import ar\n",
    "\n",
    "app, rt = fast_app()\n",
    "ar.to_app(app)\n",
    "\n",
    "@rt\n",
    "def index():\n",
    "    return Div(\n",
    "        \"Products\",\n",
    "        hx_get=ar.rt_funcs.all_products,\n",
    "        hx_swap=\"outerHTML\",\n",
    "    )\n",
    "```"
   ]
  },
  {
   "cell_type": "markdown",
   "metadata": {},
   "source": [
    "Toasts can be of four types:\n",
    "\n",
    "- info\n",
    "- success\n",
    "- warning\n",
    "- error\n",
    "\n",
    "Toasts require the use of the `setup_toasts()` function, plus every handler needs:\n",
    "\n",
    "- The session argument\n",
    "- Must return FT components\n",
    "\n",
    "```python\n",
    "setup_toasts(app)\n",
    "\n",
    "@rt\n",
    "def toasting(session):\n",
    "    add_toast(session, f\"cooked\", \"info\")\n",
    "    add_toast(session, f\"ready\", \"success\")\n",
    "    return Titled(\"toaster\")\n",
    "```\n",
    "\n",
    "`setup_toasts(duration)` allows you to specify how long a toast will be visible before disappearing.10 seconds."
   ]
  },
  {
   "cell_type": "markdown",
   "metadata": {},
   "source": [
    "Authentication and authorization are handled with Beforeware, which functions that run before the route handler is called."
   ]
  },
  {
   "cell_type": "code",
   "execution_count": null,
   "metadata": {},
   "outputs": [],
   "source": [
    "def user_auth_before(req, sess):\n",
    "    # `auth` key in the request scope is automatically provided to any handler which requests it and can not be injected\n",
    "    auth = req.scope['auth'] = sess.get('auth', None)\n",
    "    if not auth: return RedirectResponse('/login', status_code=303)\n",
    "\n",
    "beforeware = Beforeware(\n",
    "    user_auth_before,\n",
    "    skip=[r'/favicon\\.ico', r'/static/.*', r'.*\\.css', r'.*\\.js', '/login', '/']\n",
    ")\n",
    "\n",
    "app, rt = fast_app(before=beforeware)"
   ]
  },
  {
   "cell_type": "markdown",
   "metadata": {},
   "source": [
    "FastHTML introduces several tools for working with SSE which are covered in the example below. While concise, there's a lot going on in this function so we've annotated it quite a bit."
   ]
  },
  {
   "cell_type": "code",
   "execution_count": null,
   "metadata": {},
   "outputs": [],
   "source": [
    "import random"
   ]
  },
  {
   "cell_type": "markdown",
   "metadata": {},
   "source": [
    "FastHTML supports the HTMX SSE extension."
   ]
  },
  {
   "cell_type": "code",
   "execution_count": null,
   "metadata": {},
   "outputs": [],
   "source": [
    "hdrs=(Script(src=\"https://unpkg.com/htmx-ext-sse@2.2.1/sse.js\"),)\n",
    "app,rt = fast_app(hdrs=hdrs)\n",
    "\n",
    "@rt\n",
    "def index(): return Div(hx_ext=\"sse\", sse_connect=\"/numstream\", hx_swap=\"beforeend show:bottom\", sse_swap=\"message\")\n",
    "\n",
    "# `signal_shutdown()` gets an event that is set on shutdown\n",
    "shutdown_event = signal_shutdown()\n",
    "\n",
    "async def number_generator():\n",
    "    while not shutdown_event.is_set():\n",
    "        data = Article(random.randint(1, 100))\n",
    "        yield sse_message(data)\n",
    "\n",
    "@rt\n",
    "async def numstream(): return EventStream(number_generator())"
   ]
  },
  {
   "cell_type": "markdown",
   "metadata": {},
   "source": [
    "FastHTML provides useful tools for HTMX's websockets extension."
   ]
  },
  {
   "cell_type": "code",
   "execution_count": null,
   "metadata": {},
   "outputs": [],
   "source": [
    "app, rt = fast_app(exts='ws')\n",
    "\n",
    "def mk_inp(): return Input(id='msg', autofocus=True)\n",
    "\n",
    "@rt\n",
    "async def index(request):\n",
    "    # `ws_send` tells HTMX to send a message to the nearest websocket based on the trigger for the form element\n",
    "    cts = Div(\n",
    "        Div(id='notifications'),\n",
    "        Form(mk_inp(), id='form', ws_send=True),\n",
    "        hx_ext='ws', ws_connect='/ws')\n",
    "    return Titled('Websocket Test', cts)\n",
    "\n",
    "async def on_connect(send): await send(Div('Hello, you have connected', id=\"notifications\"))\n",
    "async def on_disconnect(ws): print('Disconnected!')\n",
    "\n",
    "@app.ws('/ws', conn=on_connect, disconn=on_disconnect)\n",
    "async def ws(msg:str, send):\n",
    "    # websocket hander returns/sends are treated as OOB swaps\n",
    "    await send(Div('Hello ' + msg, id=\"notifications\"))\n",
    "    return Div('Goodbye ' + msg, id=\"notifications\"), mk_inp()"
   ]
  },
  {
   "cell_type": "markdown",
   "metadata": {},
   "source": [
    "### Single File Uploads"
   ]
  },
  {
   "cell_type": "markdown",
   "metadata": {},
   "source": [
    "`Form` defaults to \"multipart/form-data\". A Starlette UploadFile is passed to the handler."
   ]
  },
  {
   "cell_type": "markdown",
   "metadata": {},
   "source": [
    "```python\n",
    "upload_dir = Path(\"filez\")\n",
    "\n",
    "@rt\n",
    "def index():\n",
    "    return (\n",
    "        Form(hx_post=upload, hx_target=\"#result\")(\n",
    "            Input(type=\"file\", name=\"file\"),\n",
    "            Button(\"Upload\", type=\"submit\")),\n",
    "        Div(id=\"result\")\n",
    "    )\n",
    "\n",
    "@rt\n",
    "async def upload(file: UploadFile):\n",
    "    filebuffer = await file.read()\n",
    "    (upload_dir / file.filename).write_bytes(filebuffer)\n",
    "    return P('Size: ', file.size)\n",
    "```"
   ]
  },
  {
   "cell_type": "markdown",
   "metadata": {},
   "source": [
    "For multi-file, use `Input(..., multiple=True)`, and a type annotation of `list[UploadFile]` in the handler. "
   ]
  },
  {
   "cell_type": "markdown",
   "metadata": {},
   "source": [
    "## Fastlite "
   ]
  },
  {
   "cell_type": "markdown",
   "metadata": {},
   "source": [
    "Fastlite and the MiniDataAPI specification it's built on are a CRUD-oriented API for working with SQLite. APSW and apswutils is used to connect to SQLite, optimized for speed and clean error handling."
   ]
  },
  {
   "cell_type": "code",
   "execution_count": null,
   "metadata": {},
   "outputs": [],
   "source": [
    "from fastlite import *"
   ]
  },
  {
   "cell_type": "code",
   "execution_count": null,
   "metadata": {},
   "outputs": [],
   "source": [
    "db = database(':memory:') # or database('data/app.db')"
   ]
  },
  {
   "cell_type": "markdown",
   "metadata": {},
   "source": [
    "Tables are normally constructed with classes, field types are specified as type hints. "
   ]
  },
  {
   "cell_type": "code",
   "execution_count": null,
   "metadata": {},
   "outputs": [],
   "source": [
    "class Book: isbn: str; title: str; pages: int; userid: int\n",
    "# The transform arg instructs fastlite to change the db schema when fields change.\n",
    "# Create only creates a table if the table doesn't exist.\n",
    "books = db.create(Book, pk='isbn', transform=True)\n",
    "                \n",
    "class User: id: int; name: str; active: bool = True\n",
    "# If no pk is provided, id is used as the primary key.\n",
    "users = db.create(User, transform=True)"
   ]
  },
  {
   "cell_type": "markdown",
   "metadata": {},
   "source": [
    "### Fastlite CRUD operations"
   ]
  },
  {
   "cell_type": "markdown",
   "metadata": {},
   "source": [
    "Every operation in fastlite returns a full superset of dataclass functionality. "
   ]
  },
  {
   "cell_type": "markdown",
   "metadata": {},
   "source": [
    "Creating records:"
   ]
  },
  {
   "cell_type": "code",
   "execution_count": null,
   "metadata": {},
   "outputs": [
    {
     "data": {
      "text/plain": [
       "User(id=1, name='Alex', active=0)"
      ]
     },
     "execution_count": null,
     "metadata": {},
     "output_type": "execute_result"
    }
   ],
   "source": [
    "user = users.insert(name='Alex',active=False)\n",
    "user"
   ]
  },
  {
   "cell_type": "markdown",
   "metadata": {},
   "source": [
    "Listing records:"
   ]
  },
  {
   "cell_type": "code",
   "execution_count": null,
   "metadata": {},
   "outputs": [
    {
     "data": {
      "text/plain": [
       "[User(id=1, name='Alex', active=0)]"
      ]
     },
     "execution_count": null,
     "metadata": {},
     "output_type": "execute_result"
    }
   ],
   "source": [
    "# List all records\n",
    "users()\n",
    "# Limit, offset, and order results:\n",
    "users(order_by='name', limit=2, offset=1)\n",
    "# Filter on the results\n",
    "users(where=\"name='Alex'\")\n",
    "# Placeholder for avoiding injection attacks\n",
    "users(\"name=?\", where_args=('Alex',))\n"
   ]
  },
  {
   "cell_type": "markdown",
   "metadata": {},
   "source": [
    "Fetching a single record using the pk inside square brackets returns a flexiclass:"
   ]
  },
  {
   "cell_type": "code",
   "execution_count": null,
   "metadata": {},
   "outputs": [
    {
     "data": {
      "text/plain": [
       "User(id=1, name='Alex', active=0)"
      ]
     },
     "execution_count": null,
     "metadata": {},
     "output_type": "execute_result"
    }
   ],
   "source": [
    "users[user.id]"
   ]
  },
  {
   "cell_type": "markdown",
   "metadata": {},
   "source": [
    "Test if a record exists by using `in` keyword on primary key:"
   ]
  },
  {
   "cell_type": "code",
   "execution_count": null,
   "metadata": {},
   "outputs": [
    {
     "data": {
      "text/plain": [
       "True"
      ]
     },
     "execution_count": null,
     "metadata": {},
     "output_type": "execute_result"
    }
   ],
   "source": [
    "1 in users"
   ]
  },
  {
   "cell_type": "markdown",
   "metadata": {},
   "source": [
    "Updates return the updated record."
   ]
  },
  {
   "cell_type": "code",
   "execution_count": null,
   "metadata": {},
   "outputs": [
    {
     "data": {
      "text/plain": [
       "User(id=1, name='Lauren', active=1)"
      ]
     },
     "execution_count": null,
     "metadata": {},
     "output_type": "execute_result"
    }
   ],
   "source": [
    "user.name='Lauren'\n",
    "user.active=True\n",
    "users.update(user)"
   ]
  },
  {
   "cell_type": "markdown",
   "metadata": {},
   "source": [
    "`.xtra()` to constrain queries:"
   ]
  },
  {
   "cell_type": "code",
   "execution_count": null,
   "metadata": {},
   "outputs": [
    {
     "data": {
      "text/plain": [
       "[User(id=1, name='Lauren', active=1)]"
      ]
     },
     "execution_count": null,
     "metadata": {},
     "output_type": "execute_result"
    }
   ],
   "source": [
    "users.xtra(active=True)\n",
    "users()"
   ]
  },
  {
   "cell_type": "markdown",
   "metadata": {},
   "source": [
    "Deleting a record"
   ]
  },
  {
   "cell_type": "code",
   "execution_count": null,
   "metadata": {},
   "outputs": [
    {
     "data": {
      "text/plain": [
       "<Table user (id, name, active)>"
      ]
     },
     "execution_count": null,
     "metadata": {},
     "output_type": "execute_result"
    }
   ],
   "source": [
    "users.delete(user.id)"
   ]
  },
  {
   "cell_type": "markdown",
   "metadata": {},
   "source": [
    "NotFoundError is raised by square bracket searches, updates, and deletes."
   ]
  },
  {
   "cell_type": "code",
   "execution_count": null,
   "metadata": {},
   "outputs": [
    {
     "name": "stdout",
     "output_type": "stream",
     "text": [
      "User not found\n"
     ]
    }
   ],
   "source": [
    "try: users['Amy']\n",
    "except NotFoundError: print('User not found')"
   ]
  },
  {
   "cell_type": "markdown",
   "metadata": {},
   "source": [
    "## MonsterUI"
   ]
  },
  {
   "cell_type": "markdown",
   "metadata": {},
   "source": [
    "MonsterUI is a UI framework for FastHTML that lets you build beautiful web interfaces with minimal code. It combines the simplicity of Python with the power of Tailwind. Perfect for data scientists, ML engineers, and developers who want to quickly turn their Python code into polished web apps without the complexity of traditional UI frameworks. Follows semantic HTML patterns when possible."
   ]
  },
  {
   "cell_type": "markdown",
   "metadata": {},
   "source": [
    "Monster adds the Tailwind-based libraries FrankenUI and DaisyUI to FastHTML, as well as Python's mistle. A minimal app:"
   ]
  },
  {
   "cell_type": "code",
   "execution_count": null,
   "metadata": {},
   "outputs": [],
   "source": [
    "from monsterui.all import *\n",
    "\n",
    "app, rt = fast_app(hdrs=Theme.blue.headers()) # Use MonsterUI blue theme\n",
    "\n",
    "@rt\n",
    "def index():\n",
    "    socials = (('github','https://github.com/AnswerDotAI/MonsterUI'),\n",
    "               ('twitter','https://twitter.com/isaac_flath/'),\n",
    "               ('linkedin','https://www.linkedin.com/in/isaacflath/'))\n",
    "    return Titled(\"Your First App\",\n",
    "        Card(\n",
    "            H1(\"Welcome!\"),\n",
    "            P(\"Your first MonsterUI app\", cls=TextPresets.muted_sm),\n",
    "            # DivLAigned and UkIconLink are non-semantic MonsterUI FT Components\n",
    "            footer=DivLAligned(*[UkIconLink(icon,href=url) for icon,url in socials])))\n"
   ]
  },
  {
   "cell_type": "markdown",
   "metadata": {},
   "source": [
    "MonsterUI components are based on Franken UI/shadcn, which uses Tailwind:"
   ]
  },
  {
   "cell_type": "code",
   "execution_count": null,
   "metadata": {},
   "outputs": [
    {
     "data": {
      "text/markdown": [
       "```html\n",
       "<div class=\"grid grid-cols-1 sm:grid-cols-1 md:grid-cols-2 lg:grid-cols-2 xl:grid-cols-2 gap-4\">\n",
       "  <div class=\"uk-card \">\n",
       "    <div class=\"uk-card-body space-y-6\">\n",
       "      <h4 class=\"uk-h4 \">First Card</h4>\n",
       "    </div>\n",
       "  </div>\n",
       "  <div class=\"uk-card \">\n",
       "    <div class=\"uk-card-body space-y-6\">\n",
       "      <h4 class=\"uk-h4 \">Second Card</h4>\n",
       "    </div>\n",
       "  </div>\n",
       "</div>\n",
       "\n",
       "```"
      ],
      "text/plain": [
       "div((div((div((h4(('First Card',),{'class': 'uk-h4 '}),),{'class': 'uk-card-body space-y-6'}),),{'class': 'uk-card '}), div((div((h4(('Second Card',),{'class': 'uk-h4 '}),),{'class': 'uk-card-body space-y-6'}),),{'class': 'uk-card '})),{'class': 'grid grid-cols-1 sm:grid-cols-1 md:grid-cols-2 lg:grid-cols-2 xl:grid-cols-2 gap-4'})"
      ]
     },
     "execution_count": null,
     "metadata": {},
     "output_type": "execute_result"
    }
   ],
   "source": [
    "Grid(\n",
    "    Card(H4(\"First Card\")),\n",
    "    Card(H4(\"Second Card\")))"
   ]
  },
  {
   "cell_type": "markdown",
   "metadata": {},
   "source": [
    "List of all MonsterUI FastTags:"
   ]
  },
  {
   "cell_type": "code",
   "execution_count": null,
   "metadata": {},
   "outputs": [],
   "source": [
    "from monsterui import all as monster\n",
    "import inspect\n",
    "from IPython.display import Markdown, display"
   ]
  },
  {
   "cell_type": "code",
   "execution_count": null,
   "metadata": {},
   "outputs": [
    {
     "data": {
      "text/markdown": [
       "- AT(*values)\n",
       "- Abbr(*c: fastcore.xml.FT | str, cls: enum.Enum | str | tuple = (), title: str = None, **kwargs) -> fastcore.xml.FT\n",
       "- Address(*c: fastcore.xml.FT | str, cls: enum.Enum | str | tuple = (), **kwargs) -> fastcore.xml.FT\n",
       "- Alert(*c, cls='', **kwargs) -> fastcore.xml.FT\n",
       "- AlertT(*values)\n",
       "- Article(*c, cls=(), **kwargs) -> fastcore.xml.FT\n",
       "- ArticleMeta(*c, cls=(), **kwargs) -> fastcore.xml.FT\n",
       "- ArticleTitle(*c, cls=(), **kwargs) -> fastcore.xml.FT\n",
       "- BackgroundT(*values)\n",
       "- Blockquote(*c: fastcore.xml.FT | str, cls: enum.Enum | str | tuple = (), **kwargs) -> fastcore.xml.FT\n",
       "- Button(*c: Union[str, fastcore.xml.FT], cls: Union[str, enum.Enum] = <ButtonT.default: 'uk-btn-default'>, submit=True, **kwargs) -> fastcore.xml.FT\n",
       "- ButtonT(*values)\n",
       "- Caption(*c: fastcore.xml.FT | str, cls: enum.Enum | str | tuple = (), **kwargs) -> fastcore.xml.FT\n",
       "- Card(*c, header: Union[fastcore.xml.FT, Iterable[fastcore.xml.FT]] = None, footer: Union[fastcore.xml.FT, Iterable[fastcore.xml.FT]] = None, body_cls='space-y-6', header_cls=(), footer_cls=(), cls=(), **kwargs) -> fastcore.xml.FT\n",
       "- CardBody(*c, cls=(), **kwargs) -> fastcore.xml.FT\n",
       "- CardContainer(*c, cls=<CardT.default: 'uk-card-default'>, **kwargs) -> fastcore.xml.FT\n",
       "- CardFooter(*c, cls=(), **kwargs) -> fastcore.xml.FT\n",
       "- CardHeader(*c, cls=(), **kwargs) -> fastcore.xml.FT\n",
       "- CardT(*values)\n",
       "- CardTitle(*c, cls=(), **kwargs)\n",
       "- Center(*c, vertical: bool = True, horizontal: bool = True, cls=(), **kwargs) -> fastcore.xml.FT\n",
       "- CheckboxX(*c, cls=(), **kwargs) -> fastcore.xml.FT\n",
       "- Cite(*c: fastcore.xml.FT | str, cls: enum.Enum | str | tuple = (), **kwargs) -> fastcore.xml.FT\n",
       "- CodeBlock(*c: str, cls: enum.Enum | str | tuple = (), code_cls: enum.Enum | str | tuple = (), **kwargs) -> fastcore.xml.FT\n",
       "- CodeSpan(*c, cls=(), **kwargs) -> fastcore.xml.FT\n",
       "- Container(*c, cls=('mt-5', <ContainerT.xl: 'uk-container-xl'>), **kwargs) -> fastcore.xml.FT\n",
       "- ContainerT(*values)\n",
       "- Data(*c: fastcore.xml.FT | str, value: str = None, cls: enum.Enum | str | tuple = (), **kwargs) -> fastcore.xml.FT\n",
       "- Del(*c: fastcore.xml.FT | str, cls: enum.Enum | str | tuple = (), **kwargs) -> fastcore.xml.FT\n",
       "- Details(*c: fastcore.xml.FT | str, cls: enum.Enum | str | tuple = (), **kwargs) -> fastcore.xml.FT\n",
       "- Dfn(*c: fastcore.xml.FT | str, cls: enum.Enum | str | tuple = (), **kwargs) -> fastcore.xml.FT\n",
       "- DiceBearAvatar(seed_name: str, h: int = 20, w: int = 20)\n",
       "- DivCentered(*c, cls='space-y-4', vstack=True, **kwargs) -> fastcore.xml.FT\n",
       "- DivFullySpaced(*c, cls='w-full', **kwargs)\n",
       "- DivHStacked(*c, cls='space-x-4', **kwargs) -> fastcore.xml.FT\n",
       "- DivLAligned(*c, cls='space-x-4', **kwargs) -> fastcore.xml.FT\n",
       "- DivRAligned(*c, cls='space-x-4', **kwargs) -> fastcore.xml.FT\n",
       "- DivVStacked(*c, cls='space-y-4', **kwargs) -> fastcore.xml.FT\n",
       "- Divider(*c, cls=('my-4', <DividerT.icon: 'uk-divider-icon'>), **kwargs) -> fastcore.xml.FT\n",
       "- DividerLine(lwidth=2, y_space=4)\n",
       "- DividerSplit(*c, cls=(), line_cls=(), text_cls=())\n",
       "- DividerT(*values)\n",
       "- DropDownNavContainer(*li, cls=<NavT.primary: 'uk-nav-primary'>, parent=True, uk_nav=False, uk_dropdown=True, **kwargs) -> fastcore.xml.FT\n",
       "- Em(*c: fastcore.xml.FT | str, cls: enum.Enum | str | tuple = (), **kwargs) -> fastcore.xml.FT\n",
       "- FastHTML(*args, pico=False, debug=False, routes=None, middleware=None, title: str = 'FastHTML page', exception_handlers=None, on_startup=None, on_shutdown=None, lifespan=None, hdrs=None, ftrs=None, exts=None, before=None, after=None, surreal=True, htmx=True, default_hdrs=True, sess_cls=<class 'starlette.middleware.sessions.SessionMiddleware'>, secret_key=None, session_cookie='session_', max_age=31536000, sess_path='/', same_site='lax', sess_https_only=False, sess_domain=None, key_fname='.sesskey', body_wrap=<function noop_body>, htmlkw=None, nb_hdrs=False)\n",
       "- Fieldset(*c, cls=(), **kwargs) -> fastcore.xml.FT\n",
       "- Figure(*c: fastcore.xml.FT | str, cls: enum.Enum | str | tuple = (), **kwargs) -> fastcore.xml.FT\n",
       "- FlexT(*values)\n",
       "- Form(*c, cls='space-y-3', **kwargs) -> fastcore.xml.FT\n",
       "- FormLabel(*c, cls=(), **kwargs) -> fastcore.xml.FT\n",
       "- GenericLabelInput(label: str | fastcore.xml.FT, lbl_cls='', input_cls='', container=functools.partial(<function ft>, 'div', void_=False), cls='', id=None, input_fn=<function noop>, **kwargs)\n",
       "- Grid(*div, cols_min: int = 1, cols_max: int = 4, cols_sm: int = None, cols_md: int = None, cols_lg: int = None, cols_xl: int = None, cols: int = None, cls='gap-4', **kwargs) -> fastcore.xml.FT\n",
       "- H1(*c: fastcore.xml.FT | str, cls: enum.Enum | str | tuple = (), **kwargs) -> fastcore.xml.FT\n",
       "- H2(*c: fastcore.xml.FT | str, cls: enum.Enum | str | tuple = (), **kwargs) -> fastcore.xml.FT\n",
       "- H3(*c: fastcore.xml.FT | str, cls: enum.Enum | str | tuple = (), **kwargs) -> fastcore.xml.FT\n",
       "- H4(*c: fastcore.xml.FT | str, cls: enum.Enum | str | tuple = (), **kwargs) -> fastcore.xml.FT\n",
       "- H5(*c: fastcore.xml.FT | str, cls: enum.Enum | str | tuple = (), **kwargs) -> fastcore.xml.FT\n",
       "- H6(*c: fastcore.xml.FT | str, cls: enum.Enum | str | tuple = (), **kwargs) -> fastcore.xml.FT\n",
       "\n",
       "- I(*c: fastcore.xml.FT | str, cls: enum.Enum | str | tuple = (), **kwargs) -> fastcore.xml.FT\n",
       "- Input(*c, cls=(), **kwargs) -> fastcore.xml.FT\n",
       "- Ins(*c: fastcore.xml.FT | str, cls: enum.Enum | str | tuple = (), **kwargs) -> fastcore.xml.FT\n",
       "- Kbd(*c: fastcore.xml.FT | str, cls: enum.Enum | str | tuple = (), **kwargs) -> fastcore.xml.FT\n",
       "- Label(*c, cls=(), **kwargs) -> fastcore.xml.FT\n",
       "- LabelCheckboxX(label: str | fastcore.xml.FT, lbl_cls='', input_cls='', container=functools.partial(<function ft>, 'div', void_=False), cls='flex items-center space-x-2', id='', **kwargs) -> fastcore.xml.FT\n",
       "- LabelInput(label: str | fastcore.xml.FT, lbl_cls='', input_cls='', cls='space-y-2', id='', **kwargs) -> fastcore.xml.FT\n",
       "- LabelRadio(label: str | fastcore.xml.FT, lbl_cls='', input_cls='', container=functools.partial(<function ft>, 'div', void_=False), cls='flex items-center space-x-2', id='', **kwargs) -> fastcore.xml.FT\n",
       "- LabelRange(label: str | fastcore.xml.FT, lbl_cls='', input_cls='', cls='space-y-6', id='', value='', min=None, max=None, step=None, label_range=True, *, container=functools.partial(<function ft>, 'div', void_=False)) -> fastcore.xml.FT\n",
       "- LabelSelect(*option, label: str | fastcore.xml.FT, lbl_cls='', input_cls='', container=functools.partial(<function ft>, 'div', void_=False), cls='space-y-2', id='', **kwargs)\n",
       "- LabelSwitch(label: str | fastcore.xml.FT, lbl_cls='', input_cls='', cls='space-x-2', id='', *, container=functools.partial(<function ft>, 'div', void_=False)) -> fastcore.xml.FT\n",
       "- LabelT(*values)\n",
       "- LabelTextArea(label: str | fastcore.xml.FT, value='', lbl_cls='', input_cls='', cls='space-y-2', id='', **kwargs) -> fastcore.xml.FT\n",
       "- Legend(*c, cls=(), **kwargs) -> fastcore.xml.FT\n",
       "- LiStep(*c, cls='', data_content=None, **kwargs) -> fastcore.xml.FT\n",
       "- ListT(*values)\n",
       "- Loading(cls=(<LoadingT.bars: 'loading-bars'>, <LoadingT.lg: 'loading-large'>), htmx_indicator=False, **kwargs) -> fastcore.xml.FT\n",
       "- LoadingT(*values)\n",
       "- Mark(*c: fastcore.xml.FT | str, cls: enum.Enum | str | tuple = (), **kwargs) -> fastcore.xml.FT\n",
       "- Meter(*c: fastcore.xml.FT | str, value: float = None, min: float = None, max: float = None, cls: enum.Enum | str | tuple = (), **kwargs) -> fastcore.xml.FT\n",
       "- Modal(*c, header=None, footer=None, cls=(), dialog_cls=(), header_cls='p-6', body_cls='space-y-6', footer_cls=(), id='', open=False, **kwargs) -> fastcore.xml.FT\n",
       "- ModalBody(*c, cls=(), **kwargs) -> fastcore.xml.FT\n",
       "- ModalCloseButton(*c, cls=(), htmx=False, **kwargs) -> fastcore.xml.FT\n",
       "- ModalContainer(*c, cls=(), **kwargs) -> fastcore.xml.FT\n",
       "- ModalDialog(*c, cls=(), **kwargs) -> fastcore.xml.FT\n",
       "- ModalFooter(*c, cls=(), **kwargs) -> fastcore.xml.FT\n",
       "- ModalHeader(*c, cls=(), **kwargs) -> fastcore.xml.FT\n",
       "- ModalTitle(*c, cls=(), **kwargs) -> fastcore.xml.FT\n",
       "- NavBar(*c, brand=h3(('Title',),{'class': 'uk-h3 '}), right_cls='items-center space-x-4', mobile_cls='space-y-4', sticky: bool = False, uk_scrollspy_nav: bool | str = False, cls='p-4', scrollspy_cls=<ScrollspyT.underline: 'navbar-underline'>, menu_id=None) -> fastcore.xml.FT\n",
       "- NavCloseLi(*c, cls=(), **kwargs) -> fastcore.xml.FT\n",
       "- NavContainer(*li, cls=<NavT.primary: 'uk-nav-primary'>, parent=True, uk_nav=False, uk_scrollspy_nav=False, sticky=False, **kwargs) -> fastcore.xml.FT\n",
       "- NavDividerLi(*c, cls=(), **kwargs) -> fastcore.xml.FT\n",
       "- NavHeaderLi(*c, cls=(), **kwargs) -> fastcore.xml.FT\n",
       "- NavParentLi(*nav_container, cls=(), **kwargs) -> fastcore.xml.FT\n",
       "- NavSubtitle(*c, cls=<TextPresets.muted_sm: 'text-gray-500 dark:text-gray-200 text-sm'>, **kwargs) -> fastcore.xml.FT\n",
       "- NavT(*values)\n",
       "- Options(*c, selected_idx: int = None, disabled_idxs: set = None)\n",
       "- Output(*c: fastcore.xml.FT | str, form: str = None, for_: str = None, cls: enum.Enum | str | tuple = (), **kwargs) -> fastcore.xml.FT\n",
       "- PicSumImg(h: int = 200, w: int = 200, id: int = None, grayscale: bool = False, blur: int = None, **kwargs) -> fastcore.xml.FT\n",
       "- Placeholder(*c, cls=(), **kwargs) -> fastcore.xml.FT\n",
       "- Progress(*c, cls=(), value='', max='100', **kwargs) -> fastcore.xml.FT\n",
       "- Q(*c: fastcore.xml.FT | str, cls: enum.Enum | str | tuple = (), **kwargs) -> fastcore.xml.FT\n",
       "- Radio(*c, cls=(), **kwargs) -> fastcore.xml.FT\n",
       "- Range(*c, value='', label=True, min=None, max=None, step=None, cls=(), **kwargs) -> fastcore.xml.FT\n",
       "- S(*c: fastcore.xml.FT | str, cls: enum.Enum | str | tuple = (), **kwargs) -> fastcore.xml.FT\n",
       "- Samp(*c: fastcore.xml.FT | str, cls: enum.Enum | str | tuple = (), **kwargs) -> fastcore.xml.FT\n",
       "- ScrollspyT(*values)\n",
       "- Section(*c, cls=(), **kwargs) -> fastcore.xml.FT\n",
       "- SectionT(*values)\n",
       "- Select(*option, inp_cls=(), cls=('h-10',), cls_custom='button: uk-input-fake dropdown: w-full', id='', name='', placeholder='', searchable=False, select_kwargs=None, **kwargs)\n",
       "- Slider(*c, cls='', items_cls='gap-4', nav=True, nav_cls='', **kwargs) -> fastcore.xml.FT\n",
       "- SliderContainer(*c, cls='', uk_slider=True, **kwargs) -> fastcore.xml.FT\n",
       "- SliderItems(*c, cls='', **kwargs) -> fastcore.xml.FT\n",
       "- SliderNav(cls='uk-position-small uk-hidden-hover', prev_cls='absolute left-0 top-1/2 -translate-y-1/2', next_cls='absolute right-0 top-1/2 -translate-y-1/2', **kwargs) -> fastcore.xml.FT\n",
       "- Small(*c: fastcore.xml.FT | str, cls: enum.Enum | str | tuple = (), **kwargs) -> fastcore.xml.FT\n",
       "- StepT(*values)\n",
       "- Steps(*li, cls='', **kwargs) -> fastcore.xml.FT\n",
       "- StepsT(*values)\n",
       "- Strong(*c: fastcore.xml.FT | str, cls: enum.Enum | str | tuple = (), **kwargs) -> fastcore.xml.FT\n",
       "- Sub(*c: fastcore.xml.FT | str, cls: enum.Enum | str | tuple = (), **kwargs) -> fastcore.xml.FT\n",
       "- Subtitle(*c: fastcore.xml.FT | str, cls: enum.Enum | str | tuple = 'mt-1.5', **kwargs) -> fastcore.xml.FT\n",
       "- Summary(*c: fastcore.xml.FT | str, cls: enum.Enum | str | tuple = (), **kwargs) -> fastcore.xml.FT\n",
       "- Sup(*c: fastcore.xml.FT | str, cls: enum.Enum | str | tuple = (), **kwargs) -> fastcore.xml.FT\n",
       "- Switch(*c, cls=(), **kwargs) -> fastcore.xml.FT\n",
       "- TabContainer(*li, cls='', alt=False, **kwargs) -> fastcore.xml.FT\n",
       "- Table(*c, cls=(<TableT.middle: 'uk-table-middle'>, <TableT.divider: 'uk-table-divider'>, <TableT.hover: 'uk-table-hover'>, <TableT.sm: 'uk-table-sm'>), **kwargs) -> fastcore.xml.FT\n",
       "- TableFromDicts(header_data: Sequence, body_data: Sequence[dict], footer_data=None, header_cell_render=<function Th>, body_cell_render=<function <lambda>>, footer_cell_render=<function <lambda>>, cls=(<TableT.middle: 'uk-table-middle'>, <TableT.divider: 'uk-table-divider'>, <TableT.hover: 'uk-table-hover'>, <TableT.sm: 'uk-table-sm'>), sortable=False, **kwargs) -> fastcore.xml.FT\n",
       "- TableFromLists(header_data: Sequence, body_data: Sequence[Sequence], footer_data=None, header_cell_render=<function Th>, body_cell_render=<function Td>, footer_cell_render=<function Td>, cls=(<TableT.middle: 'uk-table-middle'>, <TableT.divider: 'uk-table-divider'>, <TableT.hover: 'uk-table-hover'>, <TableT.sm: 'uk-table-sm'>), sortable=False, **kwargs) -> fastcore.xml.FT\n",
       "- TableT(*values)\n",
       "- Tbody(*rows, cls=(), sortable=False, **kwargs)\n",
       "- Td(*c, cls=(), shrink=False, expand=False, small=False)\n",
       "- TextArea(*c, cls=(), **kwargs) -> fastcore.xml.FT\n",
       "- TextPresets(*values)\n",
       "- TextT(*values)\n",
       "- Th(*c, cls=(), shrink=False, expand=False, small=False)\n",
       "- Theme(*values)\n",
       "- ThemeFont()\n",
       "- ThemePicker(color=True, radii=True, shadows=True, font=True, mode=True, cls='p-4')\n",
       "- ThemeRadii(*values)\n",
       "- ThemeShadows()\n",
       "- Time(*c: fastcore.xml.FT | str, cls: enum.Enum | str | tuple = (), datetime: str = None, **kwargs) -> fastcore.xml.FT\n",
       "- Titled(title: str = 'FastHTML app', *c, cls=<ContainerT.xl: 'uk-container-xl'>, **kwargs) -> fastcore.xml.FT\n",
       "- Toast(*c, cls='', alert_cls='', **kwargs) -> fastcore.xml.FT\n",
       "- ToastHT(*values)\n",
       "- ToastVT(*values)\n",
       "- U(*c: fastcore.xml.FT | str, cls: enum.Enum | str | tuple = (), **kwargs) -> fastcore.xml.FT\n",
       "- UkFormSection(title, description, *c, button_txt='Update', outer_margin=6, inner_margin=6)\n",
       "- UkIcon(icon: str, height: int = None, width: int = None, stroke_width: int = None, cls=(), **kwargs) -> fastcore.xml.FT\n",
       "- UkIconLink(icon: str, height: int = None, width: int = None, stroke_width: int = None, cls=(), button: bool = False, **kwargs) -> fastcore.xml.FT\n",
       "- Upload(*c, cls=(), multiple=False, accept=None, button_cls=<ButtonT.default: 'uk-btn-default'>, id=None, name=None, **kwargs) -> fastcore.xml.FT\n",
       "- UploadZone(*c, cls=(), multiple=False, accept=None, id=None, name=None, **kwargs) -> fastcore.xml.FT\n",
       "- Var(*c: fastcore.xml.FT | str, cls: enum.Enum | str | tuple = (), **kwargs) -> fastcore.xml.FT"
      ],
      "text/plain": [
       "<IPython.core.display.Markdown object>"
      ]
     },
     "metadata": {},
     "output_type": "display_data"
    }
   ],
   "source": [
    "def isft(o): return o[0].isupper()\n",
    "def ftsig(o): \n",
    "    try: return f'- {o}{inspect.signature(getattr(monster, o))}'\n",
    "    except TypeError: return ''\n",
    "\n",
    "fts = L(dir(monster)).filter(isft).map(ftsig)\n",
    "display(Markdown('\\n'.join(fts)))"
   ]
  }
 ],
 "metadata": {
  "kernelspec": {
   "display_name": "python3",
   "language": "python",
   "name": "python3"
  }
 },
 "nbformat": 4,
 "nbformat_minor": 4
}
