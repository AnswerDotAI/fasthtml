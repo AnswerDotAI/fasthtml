{
 "cells": [
  {
   "cell_type": "markdown",
   "id": "3b35a3da",
   "metadata": {},
   "source": [
    "# FT Reference\n",
    "\n",
    "> A reference for **FastTags**"
   ]
  },
  {
   "cell_type": "markdown",
   "id": "228ac7d8",
   "metadata": {},
   "source": [
    "## Basic Usage"
   ]
  },
  {
   "cell_type": "markdown",
   "id": "342bddda",
   "metadata": {},
   "source": [
    "\n",
    "FTs are Python functions that map directly to HTML tags with a clean syntax.\n",
    "\n",
    "```python\n",
    "P(\"Hello world\", cls=\"greeting\")  # <p class=\"greeting\">Hello world</p>\n",
    "Div(H1(\"Title\"), P(\"Content\"))    # Nested components\n",
    "```\n"
   ]
  },
  {
   "cell_type": "markdown",
   "id": "271c402e",
   "metadata": {},
   "source": [
    "\n",
    "## Attributes"
   ]
  },
  {
   "cell_type": "markdown",
   "id": "3394abc8",
   "metadata": {},
   "source": [
    "Named parameters become HTML attributes with special handling for reserved words.\n",
    "\n",
    "```python\n",
    "Button(\"Submit\", cls=\"primary\", id=\"submit-btn\", disabled=True)\n",
    "Label(\"Username\", _for=\"username\")  # 'fr' also works for 'for'\n",
    "Div(**{\"@click\": \"alert('clicked')\"})  # Special characters in attributes\n",
    "```"
   ]
  },
  {
   "cell_type": "markdown",
   "id": "01f830ae",
   "metadata": {
    "vscode": {
     "languageId": "plaintext"
    }
   },
   "source": [
    "## Custom Components - Automatic"
   ]
  },
  {
   "cell_type": "markdown",
   "id": "0b7b0796",
   "metadata": {
    "vscode": {
     "languageId": "plaintext"
    }
   },
   "source": [
    "FastHTML automatically generates custom component functions on demand. Any non-existent tag imported from `fasthtml.components` becomes a valid FT function that produces the corresponding HTML element, without requiring predefined implementation in the source code."
   ]
  },
  {
   "cell_type": "markdown",
   "id": "7e3916d2",
   "metadata": {},
   "source": [
    "## Custom Components - Manual"
   ]
  },
  {
   "cell_type": "markdown",
   "id": "6fad456b",
   "metadata": {},
   "source": [
    "\n",
    "Create reusable components as functions that return FTs.\n",
    "\n",
    "```python\n",
    "def Hero(title, statement): return Div(H1(title), P(statement), cls=\"hero\")\n",
    "Hero(\"Welcome\", \"This is my site\")  # Use like any standard FT\n",
    "```\n"
   ]
  },
  {
   "cell_type": "markdown",
   "id": "9eaaa355",
   "metadata": {},
   "source": [
    "\n",
    "## Class-Based Components\n",
    "Classes with `__ft__` method can be used as components.\n",
    "\n",
    "```python\n",
    "class UserCard:\n",
    "    def __init__(self, user): self.user = user\n",
    "    def __ft__(self): return Div(H3(self.user.name), P(self.user.email))\n",
    "\n",
    "to_xml(UserCard(current_user))  # Renders the component\n",
    "```\n"
   ]
  },
  {
   "cell_type": "markdown",
   "id": "fc6e7020",
   "metadata": {},
   "source": [
    "## Rendering Rules"
   ]
  },
  {
   "cell_type": "markdown",
   "id": "6316eea5",
   "metadata": {},
   "source": [
    "Different types are handled appropriately when used in FTs.\n",
    "\n",
    "```python\n",
    "Div(\"String content\")  # Strings are escaped\n",
    "Div(user_object)       # Other objects use str()\n",
    "Div(Safe(\"<b>Bold</b>\"))  # Use Safe() for raw HTML\n",
    "Div(another_component)    # FTs are rendered properly\n",
    "```\n"
   ]
  },
  {
   "cell_type": "markdown",
   "id": "1d74b241",
   "metadata": {},
   "source": [
    "\n",
    "## Return Format"
   ]
  },
  {
   "cell_type": "markdown",
   "id": "d6a5158a",
   "metadata": {},
   "source": [
    "\n",
    "Return multiple components as a tuple for FastHTML routes.\n",
    "\n",
    "```python\n",
    "@rt\n",
    "def index():\n",
    "    return Title(\"My App\"), H1(\"Welcome\"), P(\"This is my app\")\n",
    "```\n"
   ]
  },
  {
   "cell_type": "markdown",
   "id": "bfbcf57d",
   "metadata": {},
   "source": [
    "\n",
    "## Form Elements"
   ]
  },
  {
   "cell_type": "markdown",
   "id": "ae26dcba",
   "metadata": {},
   "source": [
    "\n",
    "Form elements have special handling for values and events.\n",
    "\n",
    "```python\n",
    "Form(action=my_route)(\n",
    "    LabelInput(\"Email\", type=\"email\", name=\"email\", required=True),\n",
    "    Button(\"Submit\", type=\"submit\")\n",
    ")\n",
    "```\n"
   ]
  },
  {
   "cell_type": "markdown",
   "id": "2d8cd646",
   "metadata": {},
   "source": [
    "\n",
    "## Component Composition"
   ]
  },
  {
   "cell_type": "markdown",
   "id": "a8ec2974",
   "metadata": {},
   "source": [
    "\n",
    "Combine components to build complex UIs.\n",
    "\n",
    "```python\n",
    "def Card(title, content, footer=None):\n",
    "    card = Div(H3(title), Div(content, cls=\"card-body\"), cls=\"card\")\n",
    "    return card if footer is None else Div(card, Div(footer, cls=\"card-footer\"))\n",
    "\n",
    "Card(\"User Profile\", user_details, Button(\"Edit\", hx_get=edit_profile))\n",
    "```"
   ]
  }
 ],
 "metadata": {
  "language_info": {
   "name": "python"
  }
 },
 "nbformat": 4,
 "nbformat_minor": 5
}
