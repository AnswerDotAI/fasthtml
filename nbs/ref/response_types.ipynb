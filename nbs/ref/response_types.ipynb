{
 "cells": [
  {
   "cell_type": "markdown",
   "id": "2138aec8",
   "metadata": {},
   "source": [
    "# Response Types\n",
    "\n",
    "> A list of the different response types available to your FastHTML route handlers."
   ]
  },
  {
   "cell_type": "markdown",
   "id": "88eaa1a8",
   "metadata": {},
   "source": [
    "FastHTML provides multiple response types that automatically set the appropriate HTTP content type and handle serialization. The main response types are:\n",
    "\n",
    "- FT components\n",
    "- Redirects (HTTP 303)\n",
    "- JSON (for API endpoints)\n",
    "- Plaintext"
   ]
  },
  {
   "cell_type": "code",
   "execution_count": 2,
   "id": "78cbdd09",
   "metadata": {},
   "outputs": [],
   "source": [
    "from fasthtml.common import *"
   ]
  },
  {
   "cell_type": "code",
   "execution_count": 3,
   "id": "047ee3f1",
   "metadata": {},
   "outputs": [],
   "source": [
    "app,rt = fast_app()\n",
    "cli = Client(app)"
   ]
  },
  {
   "cell_type": "markdown",
   "id": "3b4499a6",
   "metadata": {},
   "source": [
    "## FT Component Response"
   ]
  },
  {
   "cell_type": "code",
   "execution_count": 7,
   "id": "8f609069",
   "metadata": {},
   "outputs": [],
   "source": [
    "@rt('/ft')\n",
    "def get(): return Div('FT Component Response')"
   ]
  },
  {
   "cell_type": "markdown",
   "id": "9e34a376",
   "metadata": {},
   "source": [
    "This is the response type you're probably most familiar with. Here the route handler returns an FT component, which FastHTML wraps in an HTML document with a head and body. "
   ]
  },
  {
   "cell_type": "code",
   "execution_count": 9,
   "id": "eb426503",
   "metadata": {},
   "outputs": [
    {
     "name": "stderr",
     "output_type": "stream",
     "text": [
      "[2025-02-25 11:31:38 - httpx:1740 - INFO] HTTP Request: GET http://testserver/ft \"HTTP/1.1 200 OK\"\n"
     ]
    },
    {
     "name": "stdout",
     "output_type": "stream",
     "text": [
      " <!doctype html>\n",
      " <html>\n",
      "   <head>\n",
      "     <title>FastHTML page</title>\n",
      "     <meta charset=\"utf-8\">\n",
      "     <meta name=\"viewport\" content=\"width=device-width, initial-scale=1, viewport-fit=cover\">\n",
      "<script src=\"https://unpkg.com/htmx.org@2.0.4/dist/htmx.min.js\"></script><script src=\"https://cdn.jsdelivr.net/gh/answerdotai/fasthtml-js@1.0.12/fasthtml.js\"></script><script src=\"https://cdn.jsdelivr.net/gh/answerdotai/surreal@main/surreal.js\"></script><script src=\"https://cdn.jsdelivr.net/gh/gnat/css-scope-inline@main/script.js\"></script>     <link rel=\"stylesheet\" href=\"https://cdn.jsdelivr.net/npm/@picocss/pico@latest/css/pico.min.css\">\n",
      "     <style>:root { --pico-font-size: 100%; }</style>\n",
      "<script>\n",
      "    function sendmsg() {\n",
      "        window.parent.postMessage({height: document.documentElement.offsetHeight}, '*');\n",
      "    }\n",
      "    window.onload = function() {\n",
      "        sendmsg();\n",
      "        document.body.addEventListener('htmx:afterSettle',    sendmsg);\n",
      "        document.body.addEventListener('htmx:wsAfterMessage', sendmsg);\n",
      "    };</script>   </head>\n",
      "   <body>\n",
      "     <div>FT Component Response</div>\n",
      "   </body>\n",
      " </html>\n",
      "\n"
     ]
    }
   ],
   "source": [
    "print(cli.get('/ft').text)"
   ]
  },
  {
   "cell_type": "markdown",
   "id": "2508b86c",
   "metadata": {},
   "source": [
    "## Redirect Response"
   ]
  },
  {
   "cell_type": "code",
   "execution_count": 11,
   "id": "94a0dca3",
   "metadata": {},
   "outputs": [],
   "source": [
    "@rt('/rr')\n",
    "def get(): return Redirect('https://fastht.ml/')"
   ]
  },
  {
   "cell_type": "markdown",
   "id": "e63437b1",
   "metadata": {},
   "source": [
    "Here in this route handler, `Redirect` redirects the user's browser to the new URL 'https://fastht.ml/' "
   ]
  },
  {
   "cell_type": "code",
   "execution_count": 16,
   "id": "f4a60242",
   "metadata": {},
   "outputs": [
    {
     "name": "stderr",
     "output_type": "stream",
     "text": [
      "[2025-02-25 11:34:27 - httpx:1740 - INFO] HTTP Request: GET http://testserver/rr \"HTTP/1.1 303 See Other\"\n"
     ]
    },
    {
     "name": "stdout",
     "output_type": "stream",
     "text": [
      "Headers({'content-length': '0', 'location': 'https://fastht.ml/'})\n",
      "http://testserver/rr\n",
      "303\n"
     ]
    }
   ],
   "source": [
    "resp = cli.get('/rr')\n",
    "print(resp.headers)\n",
    "print(resp.url)\n",
    "print(resp.status_code)"
   ]
  },
  {
   "cell_type": "markdown",
   "id": "264f5f02",
   "metadata": {},
   "source": [
    "You can see the URL in the response headers and `url` attribute, as well as a status code of 303. "
   ]
  },
  {
   "cell_type": "markdown",
   "id": "accd0739",
   "metadata": {},
   "source": [
    "## JSON Response"
   ]
  },
  {
   "cell_type": "code",
   "execution_count": 14,
   "id": "d5e4b375",
   "metadata": {},
   "outputs": [],
   "source": [
    "@rt('/json')\n",
    "def get(): return {'hello': 'world'}"
   ]
  },
  {
   "cell_type": "markdown",
   "id": "3fd9e7f7",
   "metadata": {},
   "source": [
    "This route handler returns a JSON response. "
   ]
  },
  {
   "cell_type": "code",
   "execution_count": 17,
   "id": "de0bc762",
   "metadata": {},
   "outputs": [
    {
     "name": "stderr",
     "output_type": "stream",
     "text": [
      "[2025-02-25 11:35:38 - httpx:1740 - INFO] HTTP Request: GET http://testserver/json \"HTTP/1.1 200 OK\"\n"
     ]
    },
    {
     "name": "stdout",
     "output_type": "stream",
     "text": [
      "Headers({'content-length': '17', 'content-type': 'application/json'})\n",
      "{'hello': 'world'}\n"
     ]
    }
   ],
   "source": [
    "resp = cli.get('/json')\n",
    "print(resp.headers)\n",
    "print(resp.json())"
   ]
  },
  {
   "cell_type": "markdown",
   "id": "43de3aff",
   "metadata": {},
   "source": [
    "You can see that the Content-Type header has been set to application/json, and that the response is simply the JSON without any HTML wrapping it."
   ]
  },
  {
   "cell_type": "markdown",
   "id": "c830a555",
   "metadata": {},
   "source": [
    "## Plaintext Response"
   ]
  },
  {
   "cell_type": "code",
   "execution_count": 21,
   "id": "7fa1ab1b",
   "metadata": {},
   "outputs": [],
   "source": [
    "@rt('/text')\n",
    "def get(): return 'Hello world'"
   ]
  },
  {
   "cell_type": "markdown",
   "id": "fada95d6",
   "metadata": {},
   "source": [
    "When you return a string from a route handler, you get a plain-text response."
   ]
  },
  {
   "cell_type": "code",
   "execution_count": 22,
   "id": "dc1cf7ba",
   "metadata": {},
   "outputs": [
    {
     "name": "stderr",
     "output_type": "stream",
     "text": [
      "[2025-02-25 11:36:40 - httpx:1740 - INFO] HTTP Request: GET http://testserver/text \"HTTP/1.1 200 OK\"\n",
      "[2025-02-25 11:36:40 - httpx:1740 - INFO] HTTP Request: GET http://testserver/text \"HTTP/1.1 200 OK\"\n"
     ]
    },
    {
     "name": "stdout",
     "output_type": "stream",
     "text": [
      "Headers({'content-length': '11', 'content-type': 'text/html; charset=utf-8'})\n",
      "Hello world\n"
     ]
    }
   ],
   "source": [
    "print(cli.get('/text').headers)\n",
    "print(cli.get('/text').text)"
   ]
  },
  {
   "cell_type": "markdown",
   "id": "335cfd15",
   "metadata": {},
   "source": [
    "Here you can see that the response text is simply the string you returned, without any HTML wrapping it."
   ]
  }
 ],
 "metadata": {
  "kernelspec": {
   "display_name": "Python 3 (ipykernel)",
   "language": "python",
   "name": "python3"
  },
  "language_info": {
   "codemirror_mode": {
    "name": "ipython",
    "version": 3
   },
   "file_extension": ".py",
   "mimetype": "text/x-python",
   "name": "python",
   "nbconvert_exporter": "python",
   "pygments_lexer": "ipython3",
   "version": "3.12.8"
  }
 },
 "nbformat": 4,
 "nbformat_minor": 5
}
