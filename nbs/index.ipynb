{
 "cells": [
  {
   "cell_type": "markdown",
   "metadata": {},
   "source": [
    "# FastHTML\n",
    "\n",
    "> The fastest, most powerful way to create an HTML app"
   ]
  },
  {
   "cell_type": "markdown",
   "metadata": {},
   "source": [
    "Welcome to the official FastHTML documentation.\n",
    "\n",
    "FastHTML is a new next-generation web framework for fast, scalable web applications with minimal, compact code. It's designed to be:\n",
    "\n",
    "* Powerful and expressive enough to build the most advanced, interactive web apps you can imagine.\n",
    "* Fast and lightweight, so you can write less code and get more done.\n",
    "* Easy to learn and use, with a simple, intuitive syntax that makes it easy to build complex apps quickly.\n",
    "\n",
    "FastHTML apps are just Python code, so you can use FastHTML with the full power of the Python language and ecosystem. FastHTML's functionality maps 1:1 directly to HTML and HTTP, but allows them to be encapsulated using good software engineering practices---so you'll need to understand these foundations to use this library fully. To understand how and why this works, please read this first: [fastht.ml/about](https://fastht.ml/about)."
   ]
  },
  {
   "cell_type": "markdown",
   "metadata": {},
   "source": [
    "## Installation\n",
    "\n",
    "Since `fasthtml` is a Python library, you can install it with:"
   ]
  },
  {
   "cell_type": "markdown",
   "metadata": {},
   "source": [
    "```sh\n",
    "pip install python-fasthtml\n",
    "```"
   ]
  },
  {
   "cell_type": "markdown",
   "metadata": {},
   "source": [
    "In the near future, we hope to add component libraries that can likewise be installed via `pip`."
   ]
  },
  {
   "cell_type": "markdown",
   "metadata": {},
   "source": [
    "## Usage"
   ]
  },
  {
   "cell_type": "markdown",
   "metadata": {},
   "source": [
    "For a minimal app, create a file \"main.py\" as follows:\n",
    "\n",
    "```{.python filename=\"main.py\"}\n",
    "from fasthtml.common import *\n",
    "\n",
    "app,rt = fast_app()\n",
    "\n",
    "@rt('/')\n",
    "def get(): return Div(P('Hello World!'), hx_get=\"/change\")\n",
    "\n",
    "serve()\n",
    "```"
   ]
  },
  {
   "cell_type": "markdown",
   "metadata": {},
   "source": [
    "Running the app with `python main.py` prints out a link to your running app: `http://localhost:5001`. Visit that link in your browser and you should see a page with the text \"Hello World!\". Congratulations, you've just created your first FastHTML app!"
   ]
  },
  {
   "cell_type": "markdown",
   "metadata": {},
   "source": [
    "Adding interactivity is surprisingly easy, thanks to HTMX. Modify the file to add this function:\n",
    "\n",
    "```{.python filename=\"main.py\"}\n",
    "@rt('/change')\n",
    "def get(): return P('Nice to be here!')\n",
    "```\n",
    "\n",
    "You now have a page with a clickable element that changes the text when clicked. When clicking on this link, the server will respond with an \"HTML partial\"---that is, just a snippet of HTML which will be inserted into the existing page. In this case, the returned element will replace the original P element (since that's the default behavior of HTMX) with the new version returned by the second route.\n",
    "\n",
    "This \"hypermedia-based\" approach to web development is a powerful way to build web applications."
   ]
  },
  {
   "cell_type": "markdown",
   "metadata": {},
   "source": [
    "### Getting help from AI"
   ]
  },
  {
   "cell_type": "markdown",
   "metadata": {},
   "source": [
    "Because FastHTML is newer than most LLMs, AI systems like Cursor, ChatGPT, Claude, and Copilot won't give useful answers about it. To fix that problem, we've provided an LLM-friendly guide that teaches them how to use FastHTML. To use it, add this link for your AI helper to use:\n",
    "\n",
    "- [/llms-ctx.txt](https://fastht.ml/docs/llms-ctx.txt)\n",
    "\n",
    "This example is in a format based on recommendations from Anthropic for use with [Claude Projects](https://support.anthropic.com/en/articles/9517075-what-are-projects). This works so well that we've actually found that Claude can provide even better information than our own documentation! For instance, read through [this annotated Claude chat](https://gist.github.com/jph00/9559b0a563f6a370029bec1d1cc97b74) for some great getting-started information, entirely generated from a project using the above text file as context.\n",
    "\n",
    "If you use Cursor, type `@doc` then choose \"*Add new doc*\", and use the /llms-ctx.txt link above. The context file is auto-generated from our [`llms.txt`](https://llmstxt.org/) (our proposed standard for providing AI-friendly information)---you can generate alternative versions suitable for other models as needed."
   ]
  },
  {
   "cell_type": "markdown",
   "metadata": {},
   "source": [
    "## Next Steps"
   ]
  },
  {
   "cell_type": "markdown",
   "metadata": {},
   "source": [
    "Start with the official sources to learn more about FastHTML:\n",
    "\n",
    "- [About](https://fastht.ml/about): Learn about the core ideas behind FastHTML\n",
    "- [Documentation](https://fastht.ml/docs): Learn from examples how to write FastHTML code\n",
    "- [Idiomatic app](https://github.com/AnswerDotAI/fasthtml/blob/main/examples/adv_app.py): Heavily commented source code walking through a complete application, including custom authentication, JS library connections, and database use.\n",
    "\n",
    "We also have a 1-hour intro video:\n",
    "\n",
    "{{< video https://www.youtube.com/embed/Auqrm7WFc0I >}}\n",
    "\n",
    "The capabilities of FastHTML are vast and growing, and not all the features and patterns have been documented yet. Be prepared to invest time into studying and modifying source code, such as the main FastHTML repo's notebooks and the official FastHTML examples repo:\n",
    "\n",
    "- [FastHTML Examples Repo on GitHub](https://github.com/AnswerDotAI/fasthtml-example)\n",
    "- [FastHTML Repo on GitHub](https://github.com/AnswerDotAI/fasthtml)\n",
    "\n",
    "Then explore the small but growing third-party ecosystem of FastHTML tutorials, notebooks, libraries, and components:\n",
    "\n",
    "- [FastHTML Gallery](https://fastht.ml/gallery): Learn from minimal examples of components (ie chat bubbles, click-to-edit, infinite scroll, etc)\n",
    "- [Creating Custom FastHTML Tags for Markdown Rendering](https://isaac-flath.github.io/website/posts/boots/FasthtmlTutorial.html) by Isaac Flath\n",
    "- [How to Build a Simple Login System in FastHTML](https://blog.mariusvach.com/posts/login-fasthtml) by Marius Vach\n",
    "- Your tutorial here!\n",
    "\n",
    "Finally, join the FastHTML community to ask questions, share your work, and learn from others:\n",
    "\n",
    "- [Discord](https://discord.gg/qcXvcxMhdP)"
   ]
  },
  {
   "cell_type": "markdown",
   "metadata": {},
   "source": [
    "## Other languages and related projects"
   ]
  },
  {
   "cell_type": "markdown",
   "metadata": {},
   "source": [
    "If you're not a Python user, or are keen to try out a new language, we'll list here other projects that have a similar approach to FastHTML. (Please reach out if you know of any other projects that you'd like to see added.)\n",
    "\n",
    "- [htmgo](https://htmgo.dev/) (Go): \"*htmgo is a lightweight pure go way to build interactive websites / web applications using go & htmx. By combining the speed & simplicity of go + hypermedia attributes (htmx) to add interactivity to websites, all conveniently wrapped in pure go, you can build simple, fast, interactive websites without touching javascript. All compiled to a single deployable binary*\"\n",
    "\n",
    "If you're just interested in functional HTML components, rather than a full HTMX server solution, consider:\n",
    "\n",
    "- [fastcore.xml.FT](https://fastcore.fast.ai/xml.html): This is actually what FastHTML uses behind the scenes\n",
    "- [htpy](https://htpy.dev/): Similar to `fastcore.xml.FT`, but with a somewhat different syntax\n",
    "- [elm-html](https://package.elm-lang.org/packages/elm/html/latest/): Elm's built-in HTML library with a type-safe functional approach\n",
    "- [hiccup](https://github.com/weavejester/hiccup): Popular library for representing HTML in Clojure using vectors\n",
    "- [hiccl](https://github.com/garlic0x1/hiccl): HTML generation library for Common Lisp inspired by Clojure's Hiccup\n",
    "- [Falco.Markup](https://github.com/pimbrouwers/Falco): F# HTML DSL and web framework with type-safe HTML generation\n",
    "- [Lucid](https://github.com/chrisdone/lucid): Type-safe HTML generation for Haskell using monad transformers\n",
    "- [dream-html](https://github.com/aantron/dream): Part of the Dream web framework for OCaml, provides type-safe HTML templating\n",
    "\n",
    "For other hypermedia application platforms, not based on HTMX, take a look at:\n",
    "\n",
    "- [Hotwire/Turbo](https://turbo.hotwired.dev/): Rails-oriented framework that similarly uses HTML-over-the-wire\n",
    "- [LiveView](https://hexdocs.pm/phoenix_live_view/Phoenix.LiveView.html): Phoenix framework's solution for building interactive web apps with minimal JavaScript\n",
    "- [Unpoly](https://unpoly.com/): Another HTML-over-the-wire framework with progressive enhancement\n",
    "- [Livewire](https://laravel-livewire.com/): Laravel's take on building dynamic interfaces with minimal JavaScript"
   ]
  },
  {
   "cell_type": "code",
   "execution_count": null,
   "metadata": {},
   "outputs": [],
   "source": []
  }
 ],
 "metadata": {
  "kernelspec": {
   "display_name": "python3",
   "language": "python",
   "name": "python3"
  }
 },
 "nbformat": 4,
 "nbformat_minor": 4
}
